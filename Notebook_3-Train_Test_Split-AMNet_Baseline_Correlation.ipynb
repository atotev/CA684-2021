{
 "cells": [
  {
   "cell_type": "code",
   "execution_count": 5,
   "metadata": {},
   "outputs": [],
   "source": [
    "# %pip install seaborn\n",
    "# %pip install sklearn\n",
    "from glob import glob\n",
    "import seaborn as sns\n",
    "import numpy as np\n",
    "from sklearn.model_selection import train_test_split\n",
    "import pandas as pd\n",
    "import os\n",
    "from sklearn.metrics import mean_squared_error, accuracy_score"
   ]
  },
  {
   "cell_type": "code",
   "execution_count": 13,
   "metadata": {
    "colab": {},
    "colab_type": "code",
    "id": "uTwlAhPUNwy0"
   },
   "outputs": [],
   "source": [
    "# paths\n",
    "base_dir = \"/workspace/C684_Assignment/\"\n",
    "processing_dir = os.path.join(base_dir, \"processing\")\n",
    "\n",
    "# utility functions\n",
    "def Get_score(Y_pred,Y_true):\n",
    "    '''Calculate the Spearmann\"s correlation coefficient'''\n",
    "    Y_pred = np.squeeze(Y_pred)\n",
    "    Y_true = np.squeeze(Y_true)\n",
    "    if Y_pred.shape != Y_true.shape:\n",
    "        print('Input shapes don\\'t match!')\n",
    "    else:\n",
    "        if len(Y_pred.shape) == 1:\n",
    "            Res = pd.DataFrame({'Y_true': Y_true,' Y_pred': Y_pred})\n",
    "            score_mat = Res[['Y_true', 'Y_pred']].corr(method='spearman', min_periods=1)\n",
    "            print('The Spearman\\'s correlation coefficient is: %.3f' % score_mat.iloc[1][0])\n",
    "        else:\n",
    "            for ii in range(Y_pred.shape[1]):\n",
    "                Get_score(Y_pred[:,ii], Y_true[:,ii])"
   ]
  },
  {
   "cell_type": "markdown",
   "metadata": {},
   "source": [
    "### Load the ground truth values"
   ]
  },
  {
   "cell_type": "code",
   "execution_count": 11,
   "metadata": {},
   "outputs": [
    {
     "data": {
      "text/html": [
       "<div>\n",
       "<style scoped>\n",
       "    .dataframe tbody tr th:only-of-type {\n",
       "        vertical-align: middle;\n",
       "    }\n",
       "\n",
       "    .dataframe tbody tr th {\n",
       "        vertical-align: top;\n",
       "    }\n",
       "\n",
       "    .dataframe thead th {\n",
       "        text-align: right;\n",
       "    }\n",
       "</style>\n",
       "<table border=\"1\" class=\"dataframe\">\n",
       "  <thead>\n",
       "    <tr style=\"text-align: right;\">\n",
       "      <th></th>\n",
       "      <th>video</th>\n",
       "      <th>short-term_memorability</th>\n",
       "      <th>nb_short-term_annotations</th>\n",
       "      <th>long-term_memorability</th>\n",
       "      <th>nb_long-term_annotations</th>\n",
       "    </tr>\n",
       "  </thead>\n",
       "  <tbody>\n",
       "    <tr>\n",
       "      <th>0</th>\n",
       "      <td>video3.webm</td>\n",
       "      <td>0.924</td>\n",
       "      <td>34</td>\n",
       "      <td>0.846</td>\n",
       "      <td>13</td>\n",
       "    </tr>\n",
       "    <tr>\n",
       "      <th>1</th>\n",
       "      <td>video4.webm</td>\n",
       "      <td>0.923</td>\n",
       "      <td>33</td>\n",
       "      <td>0.667</td>\n",
       "      <td>12</td>\n",
       "    </tr>\n",
       "    <tr>\n",
       "      <th>2</th>\n",
       "      <td>video6.webm</td>\n",
       "      <td>0.863</td>\n",
       "      <td>33</td>\n",
       "      <td>0.700</td>\n",
       "      <td>10</td>\n",
       "    </tr>\n",
       "    <tr>\n",
       "      <th>3</th>\n",
       "      <td>video8.webm</td>\n",
       "      <td>0.922</td>\n",
       "      <td>33</td>\n",
       "      <td>0.818</td>\n",
       "      <td>11</td>\n",
       "    </tr>\n",
       "    <tr>\n",
       "      <th>4</th>\n",
       "      <td>video10.webm</td>\n",
       "      <td>0.950</td>\n",
       "      <td>34</td>\n",
       "      <td>0.900</td>\n",
       "      <td>10</td>\n",
       "    </tr>\n",
       "    <tr>\n",
       "      <th>...</th>\n",
       "      <td>...</td>\n",
       "      <td>...</td>\n",
       "      <td>...</td>\n",
       "      <td>...</td>\n",
       "      <td>...</td>\n",
       "    </tr>\n",
       "    <tr>\n",
       "      <th>5995</th>\n",
       "      <td>video7488.webm</td>\n",
       "      <td>0.921</td>\n",
       "      <td>33</td>\n",
       "      <td>1.000</td>\n",
       "      <td>9</td>\n",
       "    </tr>\n",
       "    <tr>\n",
       "      <th>5996</th>\n",
       "      <td>video7489.webm</td>\n",
       "      <td>0.909</td>\n",
       "      <td>53</td>\n",
       "      <td>0.839</td>\n",
       "      <td>31</td>\n",
       "    </tr>\n",
       "    <tr>\n",
       "      <th>5997</th>\n",
       "      <td>video7491.webm</td>\n",
       "      <td>0.713</td>\n",
       "      <td>33</td>\n",
       "      <td>0.818</td>\n",
       "      <td>11</td>\n",
       "    </tr>\n",
       "    <tr>\n",
       "      <th>5998</th>\n",
       "      <td>video7492.webm</td>\n",
       "      <td>0.954</td>\n",
       "      <td>34</td>\n",
       "      <td>1.000</td>\n",
       "      <td>16</td>\n",
       "    </tr>\n",
       "    <tr>\n",
       "      <th>5999</th>\n",
       "      <td>video7493.webm</td>\n",
       "      <td>0.953</td>\n",
       "      <td>33</td>\n",
       "      <td>0.615</td>\n",
       "      <td>13</td>\n",
       "    </tr>\n",
       "  </tbody>\n",
       "</table>\n",
       "<p>6000 rows × 5 columns</p>\n",
       "</div>"
      ],
      "text/plain": [
       "               video  short-term_memorability  nb_short-term_annotations  \\\n",
       "0        video3.webm                    0.924                         34   \n",
       "1        video4.webm                    0.923                         33   \n",
       "2        video6.webm                    0.863                         33   \n",
       "3        video8.webm                    0.922                         33   \n",
       "4       video10.webm                    0.950                         34   \n",
       "...              ...                      ...                        ...   \n",
       "5995  video7488.webm                    0.921                         33   \n",
       "5996  video7489.webm                    0.909                         53   \n",
       "5997  video7491.webm                    0.713                         33   \n",
       "5998  video7492.webm                    0.954                         34   \n",
       "5999  video7493.webm                    0.953                         33   \n",
       "\n",
       "      long-term_memorability  nb_long-term_annotations  \n",
       "0                      0.846                        13  \n",
       "1                      0.667                        12  \n",
       "2                      0.700                        10  \n",
       "3                      0.818                        11  \n",
       "4                      0.900                        10  \n",
       "...                      ...                       ...  \n",
       "5995                   1.000                         9  \n",
       "5996                   0.839                        31  \n",
       "5997                   0.818                        11  \n",
       "5998                   1.000                        16  \n",
       "5999                   0.615                        13  \n",
       "\n",
       "[6000 rows x 5 columns]"
      ]
     },
     "metadata": {},
     "output_type": "display_data"
    }
   ],
   "source": [
    "labels = pd.read_csv(\"/workspace/C684_Assignment/Dev-set/Ground-truth/ground-truth.csv\")\n",
    "display(labels)"
   ]
  },
  {
   "cell_type": "markdown",
   "metadata": {},
   "source": [
    "### Process all amnet_pred_*.csv files\n",
    "Note: These files were output by AMNet for each frame while producing the attention map triplet"
   ]
  },
  {
   "cell_type": "markdown",
   "metadata": {},
   "source": [
    "##### Step 1: Concatenate"
   ]
  },
  {
   "cell_type": "code",
   "execution_count": 10,
   "metadata": {},
   "outputs": [
    {
     "name": "stderr",
     "output_type": "stream",
     "text": [
      "<ipython-input-10-33534bfe678e>:7: FutureWarning: The default value of regex will change from True to False in a future version.\n",
      "  frame_batch_preds[\"video\"] = frame_batch_preds[\"video\"].str.replace(\".*/(.+)?\\.jpg\", lambda m: m.group(1))\n"
     ]
    }
   ],
   "source": [
    "columns = [\"video\", \"Y_pred\"]\n",
    "per_frame_preds = pd.DataFrame(columns=columns)\n",
    "pred_glob = glob(os.path.join(\"/workspace/C684_Assignment/processing/amnet_pred_*.csv\"))\n",
    "for each_file in pred_glob:\n",
    "    frame_batch_preds = pd.read_csv(each_file, ' ', names=[\"video\", \"Y_pred\", \"_1\", \"_2\"], usecols=columns)\n",
    "    frame_batch_preds[\"video\"] = frame_batch_preds[\"video\"].str.replace(\".*/(.+)?\\.jpg\", lambda m: m.group(1))\n",
    "    per_frame_preds = per_frame_preds.append(frame_batch_preds, ignore_index=True)\n",
    "per_frame_preds.to_csv(\"/workspace/C684_Assignment/processing/all_amnet_pred.csv\")"
   ]
  },
  {
   "cell_type": "markdown",
   "metadata": {},
   "source": [
    "##### Step 2: Calculate AMNet prediction per video (mean across each 28 frames) "
   ]
  },
  {
   "cell_type": "code",
   "execution_count": null,
   "metadata": {},
   "outputs": [],
   "source": [
    "per_frame_preds[\"video\"] = per_frame_preds[\"video\"].str.replace(\"(.+)?_.*\", lambda m: m.group(1) + \".webm\")\n",
    "preds = per_frame_preds.groupby(\"video\", as_index=False)[\"Y_pred\"].mean()"
   ]
  },
  {
   "cell_type": "markdown",
   "metadata": {},
   "source": [
    "##### Step 3: Eliminate the test videos (for whcih ground truth is not provided)"
   ]
  },
  {
   "cell_type": "code",
   "execution_count": null,
   "metadata": {},
   "outputs": [],
   "source": [
    "devset_preds = preds.merge(labels, how=\"inner\", on=\"video\")\n",
    "devset_preds[\"video\"] = devset_preds[\"video\"].str.replace(\".webm\", \"\")\n",
    "display(devset_preds)\n",
    "devset_preds.to_csv(\"/workspace/C684_Assignment/processing/amnet_devset_preds.csv\")"
   ]
  },
  {
   "cell_type": "markdown",
   "metadata": {},
   "source": [
    "##### Step 4: Train/test split and persist for consistency when training"
   ]
  },
  {
   "cell_type": "code",
   "execution_count": null,
   "metadata": {},
   "outputs": [],
   "source": [
    "df = pd.read_csv(os.path.join(processing_dir, \"amnet_devset_preds.csv\"))\n",
    "df_train, df_test = train_test_split(df, test_size=0.15)\n",
    "df_train[\"test\"] = False\n",
    "df_test[\"test\"] = True\n",
    "df = pd.concat([df_train, df_test])\n",
    "df.to_csv(os.path.join(processing_dir, \"amnet_devset_preds.csv\"))"
   ]
  },
  {
   "cell_type": "markdown",
   "metadata": {},
   "source": [
    "##### Step 5: Plot AMNet's own prediction against ground truth (short- and long-term)"
   ]
  },
  {
   "cell_type": "code",
   "execution_count": 16,
   "metadata": {
    "scrolled": false
   },
   "outputs": [
    {
     "name": "stdout",
     "output_type": "stream",
     "text": [
      "The Spearman's correlation coefficient is: 0.4183\n",
      "The MSE is: 0.0194\n"
     ]
    },
    {
     "data": {
      "image/png": "[encoded data removed]",
      "text/plain": [
       "<Figure size 520.125x360 with 1 Axes>"
      ]
     },
     "metadata": {
      "needs_background": "light"
     },
     "output_type": "display_data"
    }
   ],
   "source": [
    "devset_preds = pd.read_csv(os.path.join(processing_dir, \"amnet_devset_preds.csv\"))\n",
    "sns.displot(data=[devset_preds[\"Y_pred\"], labels[\"long-term_memorability\"], labels[\"short-term_memorability\"]], kind=\"kde\")\n",
    "X = devset_preds[\"Y_pred\"].to_numpy().reshape(-1, 1)\n",
    "y = devset_preds[\"short-term_memorability\"].to_numpy().reshape(-1, 1)\n",
    "X_train, X_test, y_train, y_test = train_test_split(X, y, test_size=0.9)\n",
    "Res = pd.DataFrame()\n",
    "Res[\"Y_true\"] = devset_preds[\"short-term_memorability\"]\n",
    "Res[\"Y_pred\"] = devset_preds[\"Y_pred\"]\n",
    "score_mat = Res[['Y_true','Y_pred']].corr(method='spearman',min_periods=1)\n",
    "print(\"The Spearman\\'s correlation coefficient is: %.4f\" % score_mat.iloc[1][0])\n",
    "mse = mean_squared_error(Res[\"Y_true\"], Res[\"Y_pred\"])\n",
    "print(\"The MSE is: %.4f\" % mse)"
   ]
  }
 ],
 "metadata": {
  "accelerator": "GPU",
  "colab": {
   "collapsed_sections": [],
   "name": "Predicting_Memorability_using_video-captions.ipynb",
   "provenance": [
    {
     "file_id": "16M_W-XSTPbYGKDx0jpbruqsuHtMRKm1_",
     "timestamp": 1552512120313
    }
   ]
  },
  "kernelspec": {
   "display_name": "Python 3",
   "language": "python",
   "name": "python3"
  },
  "language_info": {
   "codemirror_mode": {
    "name": "ipython",
    "version": 3
   },
   "file_extension": ".py",
   "mimetype": "text/x-python",
   "name": "python",
   "nbconvert_exporter": "python",
   "pygments_lexer": "ipython3",
   "version": "3.8.5"
  }
 },
 "nbformat": 4,
 "nbformat_minor": 1
}
