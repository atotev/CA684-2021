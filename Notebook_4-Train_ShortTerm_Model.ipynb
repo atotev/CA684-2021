{
 "cells": [
  {
   "cell_type": "code",
   "execution_count": 1,
   "metadata": {
    "scrolled": false
   },
   "outputs": [
    {
     "name": "stdout",
     "output_type": "stream",
     "text": [
      "Num GPUs Available: 1\n",
      "Tensorflow version: 2.4.0\n",
      "Using seed value: 20212042\n"
     ]
    }
   ],
   "source": [
    "#!apt-get update ; apt-get install -y graphviz libgraphviz-dev\n",
    "#%pip install pydot\n",
    "# %pip install tqdm\n",
    "# %pip install pandas\n",
    "# %pip install sklearn\n",
    "# %pip install pillow\n",
    "# %pip install seaborn\n",
    "from tensorflow import keras\n",
    "import tensorflow\n",
    "import pandas as pd\n",
    "import numpy as np\n",
    "import functools\n",
    "from time import time\n",
    "import matplotlib.pyplot as plt\n",
    "import math\n",
    "from tensorflow.keras.preprocessing import image as imgproc\n",
    "from sklearn.model_selection import train_test_split\n",
    "from tensorflow.keras.layers import Conv2D, BatchNormalization, MaxPool2D, GlobalMaxPool2D, Flatten, AveragePooling2D, LSTM, ConvLSTM2D\n",
    "from tensorflow.keras.layers import TimeDistributed, Bidirectional, GRU, Dense, Dropout, Conv3D, MaxPooling3D, GlobalMaxPool3D\n",
    "from tensorflow.keras.utils import Sequence, OrderedEnqueuer\n",
    "import tensorflow as tf\n",
    "from glob import glob\n",
    "from tqdm import tqdm\n",
    "import numpy as np\n",
    "from sklearn.utils import shuffle\n",
    "from sklearn.metrics import mean_squared_error\n",
    "import seaborn as sns\n",
    "from tensorflow.keras.models import load_model\n",
    "import matplotlib.pyplot as plt\n",
    "import tempfile\n",
    "from sklearn.preprocessing import MinMaxScaler\n",
    "import os\n",
    "import random\n",
    "from datetime import datetime\n",
    "%load_ext tensorboard\n",
    "%matplotlib inline\n",
    "print(\"Num GPUs Available:\", len(tf.config.list_physical_devices('GPU')))\n",
    "print(\"Tensorflow version:\", tensorflow.__version__)\n",
    "\n",
    "physical_devices = tf.config.experimental.list_physical_devices('GPU')\n",
    "if len(physical_devices) > 0:\n",
    "    tf.config.experimental.set_memory_growth(physical_devices[0], True)\n",
    "    \n",
    "# Attempt to make runs more reproducible\n",
    "seed_value=20212042\n",
    "print(\"Using seed value: %d\" % seed_value)\n",
    "os.environ['PYTHONHASHSEED']=str(seed_value)\n",
    "random.seed(seed_value)\n",
    "np.random.seed(seed_value)\n",
    "tf.random.set_seed(seed_value) # tensorflow 2.x"
   ]
  },
  {
   "cell_type": "markdown",
   "metadata": {},
   "source": [
    "## Set Parameters"
   ]
  },
  {
   "cell_type": "code",
   "execution_count": 2,
   "metadata": {},
   "outputs": [],
   "source": [
    "# set up paths\n",
    "base_dir = \"/workspace/C684_Assignment/\"\n",
    "processing_dir = os.path.join(base_dir, \"processing\")\n",
    "frames_dir = os.path.join(processing_dir, \"att_maps\")\n",
    "train_dir = os.path.join(base_dir, \"training\")\n",
    "train_frame_dir = os.path.join(train_dir, \"train_frames\")\n",
    "chkp_dir = os.path.join(train_dir, \"chkp\")\n",
    "if not os.path.exists(chkp_dir):\n",
    "    os.makedirs(chkp_dir)\n",
    "logs_dir = os.path.join(train_dir, \"logs\")\n",
    "if not os.path.exists(logs_dir):\n",
    "    os.makedirs(logs_dir)\n",
    "    \n",
    "# some global params\n",
    "SHORT_TERM_MODEL = False\n",
    "SIZE = (70, 70)\n",
    "USE_ATT_MAPS = True\n",
    "USE_AMNET_PRED = True\n",
    "ATT_MAPS = [ 0, 1, 2 ] # full list - [ 0, 1, 2 ]\n",
    "RGB = True\n",
    "FRAME_INDEXES = [0, 48, 96, 144] # full list - [0, 24, 48, 72, 96, 120, 144]\n",
    "BATCH_SIZE=32\n",
    "TRAINING_ITERATIONS=4\n",
    "EPOCHS=20\n",
    "MULTIPROCESSING=True\n",
    "WORKERS=8\n",
    "SPEARMAN_THRESHOLD = 0.43 if SHORT_TERM_MODEL else 0.2\n",
    "CHANNELS = len(ATT_MAPS) * (3 if RGB else 1)\n",
    "NBFRAME = len(FRAME_INDEXES)"
   ]
  },
  {
   "cell_type": "markdown",
   "metadata": {},
   "source": [
    "## Load Train and Test Data"
   ]
  },
  {
   "cell_type": "code",
   "execution_count": 3,
   "metadata": {},
   "outputs": [
    {
     "data": {
      "text/plain": [
       "count    224000.000000\n",
       "mean          0.600106\n",
       "std           0.160918\n",
       "min           0.000000\n",
       "25%           0.487308\n",
       "50%           0.628983\n",
       "75%           0.726435\n",
       "max           1.000000\n",
       "Name: Y_pred, dtype: float64"
      ]
     },
     "metadata": {},
     "output_type": "display_data"
    }
   ],
   "source": [
    "# load data\n",
    "amnet_preds = pd.read_csv(os.path.join(processing_dir, \"all_amnet_pred.csv\")).set_index(\"video\")\n",
    "amnet_preds[\"Y_pred\"] = MinMaxScaler().fit_transform(amnet_preds[\"Y_pred\"].values.reshape(-1, 1))\n",
    "display(amnet_preds[\"Y_pred\"].describe())\n",
    "dev_videos = pd.read_csv(os.path.join(processing_dir, \"amnet_devset_preds.csv\"))\n",
    "dev_videos_train = dev_videos[dev_videos[\"test\"]==False]\n",
    "dev_videos_test = dev_videos[dev_videos[\"test\"]==True]"
   ]
  },
  {
   "cell_type": "markdown",
   "metadata": {},
   "source": [
    "## Plot Ground Truth Memorability Histograms"
   ]
  },
  {
   "cell_type": "code",
   "execution_count": 4,
   "metadata": {},
   "outputs": [
    {
     "name": "stdout",
     "output_type": "stream",
     "text": [
      "Train size: 5100. Test size: 900\n"
     ]
    },
    {
     "data": {
      "image/png": "[encoded data removed]",
      "text/plain": [
       "<Figure size 432x288 with 1 Axes>"
      ]
     },
     "metadata": {
      "needs_background": "light"
     },
     "output_type": "display_data"
    }
   ],
   "source": [
    "# train/test y_true histogram\n",
    "X_train = dev_videos_train[\"video\"]\n",
    "y_train = dev_videos_train[\"short-term_memorability\"] if SHORT_TERM_MODEL else dev_videos_train[\"long-term_memorability\"]\n",
    "X_test = dev_videos_test[\"video\"]\n",
    "y_test = dev_videos_test[\"short-term_memorability\"] if SHORT_TERM_MODEL else dev_videos_test[\"long-term_memorability\"]\n",
    "train_size = X_train.shape[0]\n",
    "test_size = X_test.shape[0]\n",
    "print(\"Train size: %d. Test size: %d\" % (train_size, test_size))\n",
    "plt.hist(y_train, color='blue')\n",
    "plt.hist(y_test, color='green')\n",
    "plt.show()"
   ]
  },
  {
   "cell_type": "markdown",
   "metadata": {},
   "source": [
    "## Calculate Baseline Performance"
   ]
  },
  {
   "cell_type": "code",
   "execution_count": 5,
   "metadata": {},
   "outputs": [
    {
     "name": "stdout",
     "output_type": "stream",
     "text": [
      "AMNet Overall: short-term score=0.4183|mse=0.0194, long-term score=0.2143|mse=0.0232\n",
      "AMNet Train: short-term score=0.4175|mse=0.0194, long-term score=0.2196|mse=0.0231\n",
      "AMNet Test: short-term score=0.4214|mse=0.0195, long-term score=0.1867|mse=0.0235\n"
     ]
    }
   ],
   "source": [
    "# calculate AMNet scores\n",
    "def calc_spearman(a1, a2):\n",
    "    Res = pd.DataFrame()\n",
    "    Res[\"Y_true\"] = a1\n",
    "    Res[\"Y_pred\"] = a2\n",
    "    return Res[['Y_true','Y_pred']].corr(method='spearman',min_periods=1).iloc[1][0]\n",
    "\n",
    "amnet_short_score = calc_spearman(dev_videos[\"short-term_memorability\"], dev_videos[\"Y_pred\"])\n",
    "amnet_short_mse = mean_squared_error(dev_videos[\"short-term_memorability\"], dev_videos[\"Y_pred\"])\n",
    "amnet_long_score = calc_spearman(dev_videos[\"long-term_memorability\"], dev_videos[\"Y_pred\"])\n",
    "amnet_long_mse = mean_squared_error(dev_videos[\"long-term_memorability\"], dev_videos[\"Y_pred\"])\n",
    "print(\"AMNet Overall: short-term score=%.04f|mse=%.04f, long-term score=%.04f|mse=%.04f\"\n",
    "      % (amnet_short_score, amnet_short_mse, amnet_long_score, amnet_long_mse))\n",
    "amnet_short_score = calc_spearman(dev_videos_train[\"short-term_memorability\"], dev_videos_train[\"Y_pred\"])\n",
    "amnet_short_mse = mean_squared_error(dev_videos_train[\"short-term_memorability\"], dev_videos_train[\"Y_pred\"])\n",
    "amnet_long_score = calc_spearman(dev_videos_train[\"long-term_memorability\"], dev_videos_train[\"Y_pred\"])\n",
    "amnet_long_mse = mean_squared_error(dev_videos_train[\"long-term_memorability\"], dev_videos_train[\"Y_pred\"])\n",
    "print(\"AMNet Train: short-term score=%.04f|mse=%.04f, long-term score=%.04f|mse=%.04f\"\n",
    "      % (amnet_short_score, amnet_short_mse, amnet_long_score, amnet_long_mse))\n",
    "amnet_short_score = calc_spearman(dev_videos_test[\"short-term_memorability\"], dev_videos_test[\"Y_pred\"])\n",
    "amnet_short_mse = mean_squared_error(dev_videos_test[\"short-term_memorability\"], dev_videos_test[\"Y_pred\"])\n",
    "amnet_long_score = calc_spearman(dev_videos_test[\"long-term_memorability\"], dev_videos_test[\"Y_pred\"])\n",
    "amnet_long_mse = mean_squared_error(dev_videos_test[\"long-term_memorability\"], dev_videos_test[\"Y_pred\"])\n",
    "print(\"AMNet Test: short-term score=%.04f|mse=%.04f, long-term score=%.04f|mse=%.04f\"\n",
    "      % (amnet_short_score, amnet_short_mse, amnet_long_score, amnet_long_mse))"
   ]
  },
  {
   "cell_type": "markdown",
   "metadata": {},
   "source": [
    "## Define Generator and Callback Classes"
   ]
  },
  {
   "cell_type": "code",
   "execution_count": 6,
   "metadata": {},
   "outputs": [],
   "source": [
    "class TrainTestSequence(Sequence):\n",
    "    def __init__(self, X_set, y_set, do_shuffle):\n",
    "        self.x, self.y = X_set, y_set\n",
    "        self.do_shuffle = do_shuffle\n",
    "        self.on_epoch_end()\n",
    "        \n",
    "    def __len__(self):\n",
    "        return len(self.x) // BATCH_SIZE\n",
    "    \n",
    "    def _load_images(self, batch):\n",
    "        images = np.zeros((len(batch), NBFRAME, SIZE[0], SIZE[1], CHANNELS))\n",
    "        for video_index, video in enumerate(batch):\n",
    "            for sequence_index, frame_index in enumerate(FRAME_INDEXES):\n",
    "                filename = \"%s_%d_att.jpg\" % (video, frame_index)\n",
    "                pilimg = []\n",
    "                for img_index in ATT_MAPS:\n",
    "                    dirname = \"%s-%d\" % (train_frame_dir, img_index)\n",
    "                    img = imgproc.load_img(os.path.join(dirname, filename))\n",
    "                    if not RGB:\n",
    "                        img = img.convert('L')\n",
    "                    img = img.resize(SIZE)\n",
    "                    img = imgproc.img_to_array(img)\n",
    "                    pilimg.append(img)\n",
    "                images[video_index][sequence_index] = np.concatenate(pilimg, axis=2) / 255.\n",
    "        return images\n",
    "    \n",
    "    def _load_amnet_preds(self, batch):\n",
    "        batch_amnet_preds = np.zeros((len(batch), NBFRAME))\n",
    "        for video_index, video in enumerate(batch):\n",
    "            for sequence_index, frame_index in enumerate(FRAME_INDEXES):\n",
    "                frame_id = \"%s_%d\" % (video, frame_index)\n",
    "                batch_amnet_preds[video_index][sequence_index] = amnet_preds.loc[frame_id, \"Y_pred\"]\n",
    "        return batch_amnet_preds\n",
    "    \n",
    "    def on_epoch_end(self):\n",
    "        if self.do_shuffle:\n",
    "            self.x, self.y = shuffle(self.x, self.y)\n",
    "            \n",
    "    def __getitem__(self, idx):\n",
    "        batch_x = self.x[idx * BATCH_SIZE:(idx + 1) * BATCH_SIZE]\n",
    "        batch_y = self.y[idx * BATCH_SIZE:(idx + 1) * BATCH_SIZE]\n",
    "        batch_x_features = []\n",
    "        if USE_ATT_MAPS:\n",
    "            batch_x_features.append(self._load_images(batch_x))\n",
    "        if USE_AMNET_PRED:\n",
    "            batch_x_features.append(self._load_amnet_preds(batch_x))\n",
    "        return batch_x_features, np.array(batch_y)\n",
    "\n",
    "def make_generator(X_set, y_set, shuffle, worker_count):\n",
    "    seq = TrainTestSequence(X_set, y_set, shuffle)\n",
    "    enq = OrderedEnqueuer(seq, use_multiprocessing=MULTIPROCESSING, shuffle=shuffle)\n",
    "    enq.start(workers=worker_count, max_queue_size=worker_count*20)\n",
    "    return enq\n",
    "\n",
    "class SpearmanCalcCallback(keras.callbacks.Callback):\n",
    "    def __init__(self, X_test, y_test, batch_size, worker_count):\n",
    "        batch_remainder = y_test.shape[0] % batch_size\n",
    "        self.steps = y_test.shape[0] // batch_size\n",
    "        self.y_test = y_test[:-batch_remainder]\n",
    "        self.X_test = X_test[:-batch_remainder]\n",
    "        self.worker_count = worker_count\n",
    "        self.generator = make_generator(self.X_test, self.y_test, False, self.worker_count)\n",
    "        \n",
    "    def on_epoch_end(self, zero_based_epoch, logs=None):\n",
    "        epoch = zero_based_epoch + 1\n",
    "        y_pred = self.model.predict(self.generator.get(), steps=self.steps)\n",
    "        \n",
    "        # reset generator before next epoch\n",
    "        self.generator.stop()\n",
    "        self.generator.start(workers=self.worker_count)\n",
    "        \n",
    "        Res = pd.DataFrame()\n",
    "        Res[\"Y_true\"] = self.y_test\n",
    "        Res[\"Y_pred\"] = y_pred\n",
    "        score_mat = Res[['Y_true','Y_pred']].corr(method='spearman',min_periods=1).iloc[1][0]\n",
    "        print()\n",
    "        print(\"*** Epoch %d: Spearman's correlation = %.4f\" % (epoch, score_mat))\n",
    "        mse = mean_squared_error(Res[\"Y_true\"], Res[\"Y_pred\"])\n",
    "        print(\"*** Epoch %d: MSE = %.4f\" % (epoch, mse))\n",
    "        plt.hist(y_pred)\n",
    "        plt.show()\n",
    "            \n",
    "        if score_mat > SPEARMAN_THRESHOLD:\n",
    "            model_file = os.path.join(chkp_dir, \"weights-%.04f-%s-%d.hdf5\" % (score_mat, self.run_id, epoch))\n",
    "            print(\"*** Saving model to file %s\" % model_file)\n",
    "            model.save(model_file)\n",
    "        print()\n",
    "\n",
    "    def set_run(self, run_id, model):\n",
    "        timestamp = datetime.now().strftime(\"%d_%m_%Y_%H_%M\")\n",
    "        self.run_id = \"%s-%d\" % (timestamp, run_id)\n",
    "        self.model = model\n",
    "        return self\n",
    "    \n",
    "    def evaluate_model(self, model):\n",
    "        self.set_run(0, model)\n",
    "        self.on_epoch_end(-1)"
   ]
  },
  {
   "cell_type": "markdown",
   "metadata": {},
   "source": [
    "## Define Model"
   ]
  },
  {
   "cell_type": "code",
   "execution_count": 7,
   "metadata": {
    "scrolled": false
   },
   "outputs": [],
   "source": [
    "# define model\n",
    "def functional_model(shape=(NBFRAME,) + SIZE + (CHANNELS,)):\n",
    "    frame_inputs = keras.Input(shape=shape)\n",
    "    f = ConvLSTM2D(filters=20, kernel_size=(3, 3), padding='same',\n",
    "                   return_sequences=True)(frame_inputs)\n",
    "    f = MaxPooling3D(pool_size=(1, 2, 2), padding='same')(f)\n",
    "    f = ConvLSTM2D(filters=10, kernel_size=(3, 3), padding='same',\n",
    "                   return_sequences=True)(f)\n",
    "    f = MaxPooling3D(pool_size=(1, 3, 3), padding='same')(f)\n",
    "    f = ConvLSTM2D(filters=5, kernel_size=(3, 3), padding='same',\n",
    "                   return_sequences=True)(f)\n",
    "    f = MaxPooling3D(pool_size=(1, 2, 2), padding='same')(f)\n",
    "    f = TimeDistributed(Flatten())(f)\n",
    "    f = TimeDistributed(Dense(512))(f)\n",
    "    f = TimeDistributed(Dropout(0.5))(f)\n",
    "    f = TimeDistributed(Dense(64))(f)\n",
    "    f = Flatten()(f)\n",
    "    f = Dense(128)(f)\n",
    "    pred_inputs = keras.Input(shape=(NBFRAME,1,))\n",
    "    p = keras.layers.LSTM(32, return_sequences=True)(pred_inputs)\n",
    "    p = keras.layers.LSTM(32, return_sequences=True)(p)\n",
    "    p = Flatten()(p)\n",
    "    p = Dense(128)(p)\n",
    "    \n",
    "    inputs = None\n",
    "    if USE_ATT_MAPS and USE_AMNET_PRED:\n",
    "        f = keras.layers.Average()([f, p])\n",
    "        inputs = [frame_inputs, pred_inputs]\n",
    "    elif USE_ATT_MAPS:\n",
    "        inputs = [frame_inputs]\n",
    "    elif USE_AMNET_PRED:\n",
    "        f = p\n",
    "        inputs = [pred_inputs]\n",
    "    else:\n",
    "        raise Exception(\"USE_ATT_MAPS and/or USE_AMNET_PRED needs to be True\")\n",
    "\n",
    "    f = keras.layers.BatchNormalization()(f)\n",
    "    f = Dense(64)(f)\n",
    "    f = Dense(1, activation='sigmoid')(f)\n",
    "    model = keras.Model(inputs=inputs, outputs=f)\n",
    "    \n",
    "    # display layer information\n",
    "    print(model.summary())\n",
    "    keras.utils.plot_model(model)\n",
    "    \n",
    "    return model"
   ]
  },
  {
   "cell_type": "markdown",
   "metadata": {},
   "source": [
    "## Train Model"
   ]
  },
  {
   "cell_type": "code",
   "execution_count": 8,
   "metadata": {
    "scrolled": false
   },
   "outputs": [
    {
     "name": "stdout",
     "output_type": "stream",
     "text": [
      "WARNING:tensorflow:multiprocessing can interact badly with TensorFlow, causing nondeterministic deadlocks. For high performance data pipelines tf.data is recommended.\n",
      "WARNING:tensorflow:multiprocessing can interact badly with TensorFlow, causing nondeterministic deadlocks. For high performance data pipelines tf.data is recommended.\n",
      "Model: \"model\"\n",
      "__________________________________________________________________________________________________\n",
      "Layer (type)                    Output Shape         Param #     Connected to                     \n",
      "==================================================================================================\n",
      "input_1 (InputLayer)            [(None, 4, 70, 70, 9 0                                            \n",
      "__________________________________________________________________________________________________\n",
      "conv_lst_m2d (ConvLSTM2D)       (None, 4, 70, 70, 20 20960       input_1[0][0]                    \n",
      "__________________________________________________________________________________________________\n",
      "max_pooling3d (MaxPooling3D)    (None, 4, 35, 35, 20 0           conv_lst_m2d[0][0]               \n",
      "__________________________________________________________________________________________________\n",
      "conv_lst_m2d_1 (ConvLSTM2D)     (None, 4, 35, 35, 10 10840       max_pooling3d[0][0]              \n",
      "__________________________________________________________________________________________________\n",
      "max_pooling3d_1 (MaxPooling3D)  (None, 4, 12, 12, 10 0           conv_lst_m2d_1[0][0]             \n",
      "__________________________________________________________________________________________________\n",
      "conv_lst_m2d_2 (ConvLSTM2D)     (None, 4, 12, 12, 5) 2720        max_pooling3d_1[0][0]            \n",
      "__________________________________________________________________________________________________\n",
      "max_pooling3d_2 (MaxPooling3D)  (None, 4, 6, 6, 5)   0           conv_lst_m2d_2[0][0]             \n",
      "__________________________________________________________________________________________________\n",
      "time_distributed (TimeDistribut (None, 4, 180)       0           max_pooling3d_2[0][0]            \n",
      "__________________________________________________________________________________________________\n",
      "time_distributed_1 (TimeDistrib (None, 4, 512)       92672       time_distributed[0][0]           \n",
      "__________________________________________________________________________________________________\n",
      "input_2 (InputLayer)            [(None, 4, 1)]       0                                            \n",
      "__________________________________________________________________________________________________\n",
      "time_distributed_2 (TimeDistrib (None, 4, 512)       0           time_distributed_1[0][0]         \n",
      "__________________________________________________________________________________________________\n",
      "lstm (LSTM)                     (None, 4, 32)        4352        input_2[0][0]                    \n",
      "__________________________________________________________________________________________________\n",
      "time_distributed_3 (TimeDistrib (None, 4, 64)        32832       time_distributed_2[0][0]         \n",
      "__________________________________________________________________________________________________\n",
      "lstm_1 (LSTM)                   (None, 4, 32)        8320        lstm[0][0]                       \n",
      "__________________________________________________________________________________________________\n",
      "flatten_1 (Flatten)             (None, 256)          0           time_distributed_3[0][0]         \n",
      "__________________________________________________________________________________________________\n",
      "flatten_2 (Flatten)             (None, 128)          0           lstm_1[0][0]                     \n",
      "__________________________________________________________________________________________________\n",
      "dense_2 (Dense)                 (None, 128)          32896       flatten_1[0][0]                  \n",
      "__________________________________________________________________________________________________\n",
      "dense_3 (Dense)                 (None, 128)          16512       flatten_2[0][0]                  \n",
      "__________________________________________________________________________________________________\n",
      "average (Average)               (None, 128)          0           dense_2[0][0]                    \n",
      "                                                                 dense_3[0][0]                    \n",
      "__________________________________________________________________________________________________\n",
      "batch_normalization (BatchNorma (None, 128)          512         average[0][0]                    \n",
      "__________________________________________________________________________________________________\n",
      "dense_4 (Dense)                 (None, 64)           8256        batch_normalization[0][0]        \n",
      "__________________________________________________________________________________________________\n",
      "dense_5 (Dense)                 (None, 1)            65          dense_4[0][0]                    \n",
      "==================================================================================================\n",
      "Total params: 230,937\n",
      "Trainable params: 230,681\n",
      "Non-trainable params: 256\n",
      "__________________________________________________________________________________________________\n",
      "None\n",
      "Epoch 1/20\n",
      "157/159 [============================>.] - ETA: 0s - loss: 0.0464WARNING:tensorflow:multiprocessing can interact badly with TensorFlow, causing nondeterministic deadlocks. For high performance data pipelines tf.data is recommended.\n",
      "159/159 [==============================] - 126s 389ms/step - loss: 0.0461\n",
      "WARNING:tensorflow:multiprocessing can interact badly with TensorFlow, causing nondeterministic deadlocks. For high performance data pipelines tf.data is recommended.\n",
      "WARNING:tensorflow:multiprocessing can interact badly with TensorFlow, causing nondeterministic deadlocks. For high performance data pipelines tf.data is recommended.\n",
      "\n",
      "*** Epoch 1: Spearman's correlation = 0.1831\n",
      "*** Epoch 1: MSE = 0.0209\n"
     ]
    },
    {
     "data": {
      "image/png": "[encoded data removed]",
      "text/plain": [
       "<Figure size 432x288 with 1 Axes>"
      ]
     },
     "metadata": {
      "needs_background": "light"
     },
     "output_type": "display_data"
    },
    {
     "name": "stdout",
     "output_type": "stream",
     "text": [
      "\n",
      "Epoch 2/20\n",
      "158/159 [============================>.] - ETA: 0s - loss: 0.0215WARNING:tensorflow:multiprocessing can interact badly with TensorFlow, causing nondeterministic deadlocks. For high performance data pipelines tf.data is recommended.\n",
      "159/159 [==============================] - 100s 626ms/step - loss: 0.0215\n",
      "WARNING:tensorflow:multiprocessing can interact badly with TensorFlow, causing nondeterministic deadlocks. For high performance data pipelines tf.data is recommended.\n",
      "\n",
      "*** Epoch 1: Spearman's correlation = 0.1831\n",
      "WARNING:tensorflow:multiprocessing can interact badly with TensorFlow, causing nondeterministic deadlocks. For high performance data pipelines tf.data is recommended.\n",
      "\n",
      "*** Epoch 2: Spearman's correlation = 0.1915\n",
      "*** Epoch 2: MSE = 0.0205\n"
     ]
    },
    {
     "data": {
      "image/png": "[encoded data removed]",
      "text/plain": [
       "<Figure size 432x288 with 1 Axes>"
      ]
     },
     "metadata": {
      "needs_background": "light"
     },
     "output_type": "display_data"
    },
    {
     "name": "stdout",
     "output_type": "stream",
     "text": [
      "\n",
      "Epoch 3/20\n",
      "158/159 [============================>.] - ETA: 0s - loss: 0.0207WARNING:tensorflow:multiprocessing can interact badly with TensorFlow, causing nondeterministic deadlocks. For high performance data pipelines tf.data is recommended.\n",
      "159/159 [==============================] - 93s 583ms/step - loss: 0.0207\n",
      "WARNING:tensorflow:multiprocessing can interact badly with TensorFlow, causing nondeterministic deadlocks. For high performance data pipelines tf.data is recommended.\n",
      "\n",
      "*** Epoch 2: Spearman's correlation = 0.1915\n",
      "WARNING:tensorflow:multiprocessing can interact badly with TensorFlow, causing nondeterministic deadlocks. For high performance data pipelines tf.data is recommended.\n",
      "\n",
      "*** Epoch 3: Spearman's correlation = 0.1896\n",
      "*** Epoch 3: MSE = 0.0203\n"
     ]
    },
    {
     "data": {
      "image/png": "[encoded data removed]",
      "text/plain": [
       "<Figure size 432x288 with 1 Axes>"
      ]
     },
     "metadata": {
      "needs_background": "light"
     },
     "output_type": "display_data"
    },
    {
     "name": "stdout",
     "output_type": "stream",
     "text": [
      "\n",
      "Epoch 4/20\n",
      "157/159 [============================>.] - ETA: 1s - loss: 0.0214WARNING:tensorflow:multiprocessing can interact badly with TensorFlow, causing nondeterministic deadlocks. For high performance data pipelines tf.data is recommended.\n",
      "159/159 [==============================] - 88s 551ms/step - loss: 0.0213\n",
      "WARNING:tensorflow:multiprocessing can interact badly with TensorFlow, causing nondeterministic deadlocks. For high performance data pipelines tf.data is recommended.\n",
      "\n",
      "WARNING:tensorflow:multiprocessing can interact badly with TensorFlow, causing nondeterministic deadlocks. For high performance data pipelines tf.data is recommended.\n",
      "\n",
      "*** Epoch 4: Spearman's correlation = 0.1874\n",
      "*** Epoch 4: MSE = 0.0203\n"
     ]
    },
    {
     "data": {
      "image/png": "[encoded data removed]",
      "text/plain": [
       "<Figure size 432x288 with 1 Axes>"
      ]
     },
     "metadata": {
      "needs_background": "light"
     },
     "output_type": "display_data"
    },
    {
     "name": "stdout",
     "output_type": "stream",
     "text": [
      "\n",
      "Epoch 5/20\n",
      "157/159 [============================>.] - ETA: 1s - loss: 0.0207WARNING:tensorflow:multiprocessing can interact badly with TensorFlow, causing nondeterministic deadlocks. For high performance data pipelines tf.data is recommended.\n",
      "159/159 [==============================] - 82s 517ms/step - loss: 0.0207\n",
      "WARNING:tensorflow:multiprocessing can interact badly with TensorFlow, causing nondeterministic deadlocks. For high performance data pipelines tf.data is recommended.\n",
      "\n",
      "*** Epoch 4: Spearman's correlation = 0.1874\n",
      "WARNING:tensorflow:multiprocessing can interact badly with TensorFlow, causing nondeterministic deadlocks. For high performance data pipelines tf.data is recommended.\n",
      "\n",
      "*** Epoch 5: Spearman's correlation = 0.2086\n",
      "*** Epoch 5: MSE = 0.0197\n"
     ]
    },
    {
     "data": {
      "image/png": "[encoded data removed]",
      "text/plain": [
       "<Figure size 432x288 with 1 Axes>"
      ]
     },
     "metadata": {
      "needs_background": "light"
     },
     "output_type": "display_data"
    },
    {
     "name": "stdout",
     "output_type": "stream",
     "text": [
      "*** Saving model to file /workspace/C684_Assignment/training/chkp/weights-0.2086-27_04_2021_20_07-0-5.hdf5\n",
      "\n",
      "Epoch 6/20\n",
      "158/159 [============================>.] - ETA: 0s - loss: 0.0197WARNING:tensorflow:multiprocessing can interact badly with TensorFlow, causing nondeterministic deadlocks. For high performance data pipelines tf.data is recommended.\n",
      "159/159 [==============================] - 84s 526ms/step - loss: 0.0197\n",
      "WARNING:tensorflow:multiprocessing can interact badly with TensorFlow, causing nondeterministic deadlocks. For high performance data pipelines tf.data is recommended.\n",
      "WARNING:tensorflow:multiprocessing can interact badly with TensorFlow, causing nondeterministic deadlocks. For high performance data pipelines tf.data is recommended.\n",
      "\n",
      "*** Epoch 6: Spearman's correlation = 0.2026\n",
      "*** Epoch 6: MSE = 0.0225\n"
     ]
    },
    {
     "data": {
      "image/png": "[encoded data removed]",
      "text/plain": [
       "<Figure size 432x288 with 1 Axes>"
      ]
     },
     "metadata": {
      "needs_background": "light"
     },
     "output_type": "display_data"
    },
    {
     "name": "stdout",
     "output_type": "stream",
     "text": [
      "*** Saving model to file /workspace/C684_Assignment/training/chkp/weights-0.2026-27_04_2021_20_07-0-6.hdf5\n",
      "\n",
      "Epoch 7/20\n",
      "157/159 [============================>.] - ETA: 1s - loss: 0.0204WARNING:tensorflow:multiprocessing can interact badly with TensorFlow, causing nondeterministic deadlocks. For high performance data pipelines tf.data is recommended.\n",
      "159/159 [==============================] - 85s 537ms/step - loss: 0.0204\n",
      "WARNING:tensorflow:multiprocessing can interact badly with TensorFlow, causing nondeterministic deadlocks. For high performance data pipelines tf.data is recommended.\n",
      "WARNING:tensorflow:multiprocessing can interact badly with TensorFlow, causing nondeterministic deadlocks. For high performance data pipelines tf.data is recommended.\n",
      "\n",
      "*** Epoch 7: Spearman's correlation = 0.2038\n",
      "*** Epoch 7: MSE = 0.0209\n"
     ]
    },
    {
     "data": {
      "image/png": "[encoded data removed]",
      "text/plain": [
       "<Figure size 432x288 with 1 Axes>"
      ]
     },
     "metadata": {
      "needs_background": "light"
     },
     "output_type": "display_data"
    },
    {
     "name": "stdout",
     "output_type": "stream",
     "text": [
      "*** Saving model to file /workspace/C684_Assignment/training/chkp/weights-0.2038-27_04_2021_20_07-0-7.hdf5\n",
      "\n",
      "Epoch 8/20\n",
      "157/159 [============================>.] - ETA: 1s - loss: 0.0202WARNING:tensorflow:multiprocessing can interact badly with TensorFlow, causing nondeterministic deadlocks. For high performance data pipelines tf.data is recommended.\n",
      "159/159 [==============================] - 85s 533ms/step - loss: 0.0202\n",
      "WARNING:tensorflow:multiprocessing can interact badly with TensorFlow, causing nondeterministic deadlocks. For high performance data pipelines tf.data is recommended.\n",
      "*** Epoch 7: MSE = 0.0209\n",
      "WARNING:tensorflow:multiprocessing can interact badly with TensorFlow, causing nondeterministic deadlocks. For high performance data pipelines tf.data is recommended.\n",
      "\n",
      "*** Epoch 8: Spearman's correlation = 0.1816\n",
      "*** Epoch 8: MSE = 0.0198\n"
     ]
    },
    {
     "data": {
      "image/png": "[encoded data removed]",
      "text/plain": [
       "<Figure size 432x288 with 1 Axes>"
      ]
     },
     "metadata": {
      "needs_background": "light"
     },
     "output_type": "display_data"
    },
    {
     "name": "stdout",
     "output_type": "stream",
     "text": [
      "\n",
      "Epoch 9/20\n",
      "158/159 [============================>.] - ETA: 0s - loss: 0.0203WARNING:tensorflow:multiprocessing can interact badly with TensorFlow, causing nondeterministic deadlocks. For high performance data pipelines tf.data is recommended.\n",
      "159/159 [==============================] - 85s 537ms/step - loss: 0.0203\n",
      "WARNING:tensorflow:multiprocessing can interact badly with TensorFlow, causing nondeterministic deadlocks. For high performance data pipelines tf.data is recommended.\n",
      "*** Epoch 8: MSE = 0.0198\n",
      "WARNING:tensorflow:multiprocessing can interact badly with TensorFlow, causing nondeterministic deadlocks. For high performance data pipelines tf.data is recommended.\n",
      "\n",
      "*** Epoch 9: Spearman's correlation = 0.1843\n",
      "*** Epoch 9: MSE = 0.0248\n"
     ]
    },
    {
     "data": {
      "image/png": "[encoded data removed]",
      "text/plain": [
       "<Figure size 432x288 with 1 Axes>"
      ]
     },
     "metadata": {
      "needs_background": "light"
     },
     "output_type": "display_data"
    },
    {
     "name": "stdout",
     "output_type": "stream",
     "text": [
      "\n",
      "Epoch 10/20\n",
      "157/159 [============================>.] - ETA: 1s - loss: 0.0198WARNING:tensorflow:multiprocessing can interact badly with TensorFlow, causing nondeterministic deadlocks. For high performance data pipelines tf.data is recommended.\n",
      "159/159 [==============================] - 91s 571ms/step - loss: 0.0198\n",
      "WARNING:tensorflow:multiprocessing can interact badly with TensorFlow, causing nondeterministic deadlocks. For high performance data pipelines tf.data is recommended.\n",
      "WARNING:tensorflow:multiprocessing can interact badly with TensorFlow, causing nondeterministic deadlocks. For high performance data pipelines tf.data is recommended.\n",
      "\n",
      "*** Epoch 10: Spearman's correlation = 0.1953\n",
      "*** Epoch 10: MSE = 0.0201\n"
     ]
    },
    {
     "data": {
      "image/png": "[encoded data removed]",
      "text/plain": [
       "<Figure size 432x288 with 1 Axes>"
      ]
     },
     "metadata": {
      "needs_background": "light"
     },
     "output_type": "display_data"
    },
    {
     "name": "stdout",
     "output_type": "stream",
     "text": [
      "\n",
      "Epoch 11/20\n",
      "158/159 [============================>.] - ETA: 0s - loss: 0.0204WARNING:tensorflow:multiprocessing can interact badly with TensorFlow, causing nondeterministic deadlocks. For high performance data pipelines tf.data is recommended.\n",
      "159/159 [==============================] - 86s 539ms/step - loss: 0.0204\n",
      "WARNING:tensorflow:multiprocessing can interact badly with TensorFlow, causing nondeterministic deadlocks. For high performance data pipelines tf.data is recommended.\n",
      "WARNING:tensorflow:multiprocessing can interact badly with TensorFlow, causing nondeterministic deadlocks. For high performance data pipelines tf.data is recommended.\n",
      "\n",
      "*** Epoch 11: Spearman's correlation = 0.2005\n",
      "*** Epoch 11: MSE = 0.0198\n"
     ]
    },
    {
     "data": {
      "image/png": "[encoded data removed]",
      "text/plain": [
       "<Figure size 432x288 with 1 Axes>"
      ]
     },
     "metadata": {
      "needs_background": "light"
     },
     "output_type": "display_data"
    },
    {
     "name": "stdout",
     "output_type": "stream",
     "text": [
      "*** Saving model to file /workspace/C684_Assignment/training/chkp/weights-0.2005-27_04_2021_20_07-0-11.hdf5\n",
      "\n",
      "Epoch 12/20\n",
      "157/159 [============================>.] - ETA: 1s - loss: 0.0188WARNING:tensorflow:multiprocessing can interact badly with TensorFlow, causing nondeterministic deadlocks. For high performance data pipelines tf.data is recommended.\n",
      "159/159 [==============================] - 87s 549ms/step - loss: 0.0188\n",
      "WARNING:tensorflow:multiprocessing can interact badly with TensorFlow, causing nondeterministic deadlocks. For high performance data pipelines tf.data is recommended.\n",
      "WARNING:tensorflow:multiprocessing can interact badly with TensorFlow, causing nondeterministic deadlocks. For high performance data pipelines tf.data is recommended.\n",
      "\n",
      "*** Epoch 12: Spearman's correlation = 0.1958\n",
      "*** Epoch 12: MSE = 0.0202\n"
     ]
    },
    {
     "data": {
      "image/png": "[encoded data removed]",
      "text/plain": [
       "<Figure size 432x288 with 1 Axes>"
      ]
     },
     "metadata": {
      "needs_background": "light"
     },
     "output_type": "display_data"
    },
    {
     "name": "stdout",
     "output_type": "stream",
     "text": [
      "\n",
      "Epoch 13/20\n",
      "158/159 [============================>.] - ETA: 0s - loss: 0.0197WARNING:tensorflow:multiprocessing can interact badly with TensorFlow, causing nondeterministic deadlocks. For high performance data pipelines tf.data is recommended.\n",
      "159/159 [==============================] - 83s 523ms/step - loss: 0.0197\n",
      "WARNING:tensorflow:multiprocessing can interact badly with TensorFlow, causing nondeterministic deadlocks. For high performance data pipelines tf.data is recommended.\n",
      "WARNING:tensorflow:multiprocessing can interact badly with TensorFlow, causing nondeterministic deadlocks. For high performance data pipelines tf.data is recommended.\n",
      "\n",
      "*** Epoch 13: Spearman's correlation = 0.1910\n",
      "*** Epoch 13: MSE = 0.0199\n"
     ]
    },
    {
     "data": {
      "image/png": "[encoded data removed]",
      "text/plain": [
       "<Figure size 432x288 with 1 Axes>"
      ]
     },
     "metadata": {
      "needs_background": "light"
     },
     "output_type": "display_data"
    },
    {
     "name": "stdout",
     "output_type": "stream",
     "text": [
      "\n",
      "Epoch 14/20\n",
      "157/159 [============================>.] - ETA: 1s - loss: 0.0201WARNING:tensorflow:multiprocessing can interact badly with TensorFlow, causing nondeterministic deadlocks. For high performance data pipelines tf.data is recommended.\n",
      "159/159 [==============================] - 92s 580ms/step - loss: 0.0201\n",
      "WARNING:tensorflow:multiprocessing can interact badly with TensorFlow, causing nondeterministic deadlocks. For high performance data pipelines tf.data is recommended.\n",
      "*** Epoch 13: MSE = 0.0199\n",
      "WARNING:tensorflow:multiprocessing can interact badly with TensorFlow, causing nondeterministic deadlocks. For high performance data pipelines tf.data is recommended.\n",
      "\n",
      "*** Epoch 14: Spearman's correlation = 0.1744\n",
      "*** Epoch 14: MSE = 0.0203\n"
     ]
    },
    {
     "data": {
      "image/png": "[encoded data removed]",
      "text/plain": [
       "<Figure size 432x288 with 1 Axes>"
      ]
     },
     "metadata": {
      "needs_background": "light"
     },
     "output_type": "display_data"
    },
    {
     "name": "stdout",
     "output_type": "stream",
     "text": [
      "\n",
      "Epoch 15/20\n",
      "157/159 [============================>.] - ETA: 1s - loss: 0.0191WARNING:tensorflow:multiprocessing can interact badly with TensorFlow, causing nondeterministic deadlocks. For high performance data pipelines tf.data is recommended.\n",
      "159/159 [==============================] - 87s 549ms/step - loss: 0.0191\n",
      "WARNING:tensorflow:multiprocessing can interact badly with TensorFlow, causing nondeterministic deadlocks. For high performance data pipelines tf.data is recommended.\n",
      "WARNING:tensorflow:multiprocessing can interact badly with TensorFlow, causing nondeterministic deadlocks. For high performance data pipelines tf.data is recommended.\n",
      "\n",
      "*** Epoch 15: Spearman's correlation = 0.1403\n",
      "*** Epoch 15: MSE = 0.0210\n"
     ]
    },
    {
     "data": {
      "image/png": "[encoded data removed]",
      "text/plain": [
       "<Figure size 432x288 with 1 Axes>"
      ]
     },
     "metadata": {
      "needs_background": "light"
     },
     "output_type": "display_data"
    },
    {
     "name": "stdout",
     "output_type": "stream",
     "text": [
      "\n",
      "Epoch 16/20\n",
      "158/159 [============================>.] - ETA: 0s - loss: 0.0190WARNING:tensorflow:multiprocessing can interact badly with TensorFlow, causing nondeterministic deadlocks. For high performance data pipelines tf.data is recommended.\n",
      "159/159 [==============================] - 85s 534ms/step - loss: 0.0190\n",
      "WARNING:tensorflow:multiprocessing can interact badly with TensorFlow, causing nondeterministic deadlocks. For high performance data pipelines tf.data is recommended.\n",
      "WARNING:tensorflow:multiprocessing can interact badly with TensorFlow, causing nondeterministic deadlocks. For high performance data pipelines tf.data is recommended.\n",
      "\n",
      "*** Epoch 16: Spearman's correlation = 0.1542\n",
      "*** Epoch 16: MSE = 0.0211\n"
     ]
    },
    {
     "data": {
      "image/png": "[encoded data removed]",
      "text/plain": [
       "<Figure size 432x288 with 1 Axes>"
      ]
     },
     "metadata": {
      "needs_background": "light"
     },
     "output_type": "display_data"
    },
    {
     "name": "stdout",
     "output_type": "stream",
     "text": [
      "\n",
      "Epoch 17/20\n",
      "157/159 [============================>.] - ETA: 1s - loss: 0.0193WARNING:tensorflow:multiprocessing can interact badly with TensorFlow, causing nondeterministic deadlocks. For high performance data pipelines tf.data is recommended.\n",
      "159/159 [==============================] - 88s 551ms/step - loss: 0.0193\n",
      "WARNING:tensorflow:multiprocessing can interact badly with TensorFlow, causing nondeterministic deadlocks. For high performance data pipelines tf.data is recommended.\n",
      "\n",
      "*** Epoch 16: Spearman's correlation = 0.1542WARNING:tensorflow:multiprocessing can interact badly with TensorFlow, causing nondeterministic deadlocks. For high performance data pipelines tf.data is recommended.\n",
      "\n",
      "*** Epoch 17: Spearman's correlation = 0.1233\n",
      "*** Epoch 17: MSE = 0.0221\n"
     ]
    },
    {
     "data": {
      "image/png": "[encoded data removed]",
      "text/plain": [
       "<Figure size 432x288 with 1 Axes>"
      ]
     },
     "metadata": {
      "needs_background": "light"
     },
     "output_type": "display_data"
    },
    {
     "name": "stdout",
     "output_type": "stream",
     "text": [
      "\n",
      "Epoch 18/20\n",
      "157/159 [============================>.] - ETA: 1s - loss: 0.0183WARNING:tensorflow:multiprocessing can interact badly with TensorFlow, causing nondeterministic deadlocks. For high performance data pipelines tf.data is recommended.\n",
      "159/159 [==============================] - 84s 525ms/step - loss: 0.0183\n",
      "WARNING:tensorflow:multiprocessing can interact badly with TensorFlow, causing nondeterministic deadlocks. For high performance data pipelines tf.data is recommended.\n",
      "WARNING:tensorflow:multiprocessing can interact badly with TensorFlow, causing nondeterministic deadlocks. For high performance data pipelines tf.data is recommended.\n",
      "\n",
      "*** Epoch 18: Spearman's correlation = 0.1236\n",
      "*** Epoch 18: MSE = 0.0205\n"
     ]
    },
    {
     "data": {
      "image/png": "[encoded data removed]",
      "text/plain": [
       "<Figure size 432x288 with 1 Axes>"
      ]
     },
     "metadata": {
      "needs_background": "light"
     },
     "output_type": "display_data"
    },
    {
     "name": "stdout",
     "output_type": "stream",
     "text": [
      "\n",
      "Epoch 19/20\n",
      "157/159 [============================>.] - ETA: 1s - loss: 0.0172WARNING:tensorflow:multiprocessing can interact badly with TensorFlow, causing nondeterministic deadlocks. For high performance data pipelines tf.data is recommended.\n",
      "159/159 [==============================] - 82s 518ms/step - loss: 0.0172\n",
      "WARNING:tensorflow:multiprocessing can interact badly with TensorFlow, causing nondeterministic deadlocks. For high performance data pipelines tf.data is recommended.\n",
      "\n",
      "*** Epoch 18: Spearman's correlation = 0.1236\n",
      "*** Epoch 18: MSE = 0.0205\n",
      "WARNING:tensorflow:multiprocessing can interact badly with TensorFlow, causing nondeterministic deadlocks. For high performance data pipelines tf.data is recommended.\n",
      "\n",
      "*** Epoch 19: Spearman's correlation = 0.0967\n",
      "*** Epoch 19: MSE = 0.0218\n"
     ]
    },
    {
     "data": {
      "image/png": "[encoded data removed]",
      "text/plain": [
       "<Figure size 432x288 with 1 Axes>"
      ]
     },
     "metadata": {
      "needs_background": "light"
     },
     "output_type": "display_data"
    },
    {
     "name": "stdout",
     "output_type": "stream",
     "text": [
      "\n",
      "Epoch 20/20\n",
      "158/159 [============================>.] - ETA: 0s - loss: 0.0177WARNING:tensorflow:multiprocessing can interact badly with TensorFlow, causing nondeterministic deadlocks. For high performance data pipelines tf.data is recommended.\n",
      "159/159 [==============================] - 84s 528ms/step - loss: 0.0177\n",
      "WARNING:tensorflow:multiprocessing can interact badly with TensorFlow, causing nondeterministic deadlocks. For high performance data pipelines tf.data is recommended.\n",
      "WARNING:tensorflow:multiprocessing can interact badly with TensorFlow, causing nondeterministic deadlocks. For high performance data pipelines tf.data is recommended.\n",
      "\n",
      "*** Epoch 20: Spearman's correlation = 0.0808\n",
      "*** Epoch 20: MSE = 0.0220\n"
     ]
    },
    {
     "data": {
      "image/png": "[encoded data removed]",
      "text/plain": [
       "<Figure size 432x288 with 1 Axes>"
      ]
     },
     "metadata": {
      "needs_background": "light"
     },
     "output_type": "display_data"
    },
    {
     "name": "stdout",
     "output_type": "stream",
     "text": [
      "\n",
      "Model: \"model_1\"\n",
      "__________________________________________________________________________________________________\n",
      "Layer (type)                    Output Shape         Param #     Connected to                     \n",
      "==================================================================================================\n",
      "input_3 (InputLayer)            [(None, 4, 70, 70, 9 0                                            \n",
      "__________________________________________________________________________________________________\n",
      "conv_lst_m2d_3 (ConvLSTM2D)     (None, 4, 70, 70, 20 20960       input_3[0][0]                    \n",
      "__________________________________________________________________________________________________\n",
      "max_pooling3d_3 (MaxPooling3D)  (None, 4, 35, 35, 20 0           conv_lst_m2d_3[0][0]             \n",
      "__________________________________________________________________________________________________\n",
      "conv_lst_m2d_4 (ConvLSTM2D)     (None, 4, 35, 35, 10 10840       max_pooling3d_3[0][0]            \n",
      "__________________________________________________________________________________________________\n",
      "max_pooling3d_4 (MaxPooling3D)  (None, 4, 12, 12, 10 0           conv_lst_m2d_4[0][0]             \n",
      "__________________________________________________________________________________________________\n",
      "conv_lst_m2d_5 (ConvLSTM2D)     (None, 4, 12, 12, 5) 2720        max_pooling3d_4[0][0]            \n",
      "__________________________________________________________________________________________________\n",
      "max_pooling3d_5 (MaxPooling3D)  (None, 4, 6, 6, 5)   0           conv_lst_m2d_5[0][0]             \n",
      "__________________________________________________________________________________________________\n",
      "time_distributed_4 (TimeDistrib (None, 4, 180)       0           max_pooling3d_5[0][0]            \n",
      "__________________________________________________________________________________________________\n",
      "time_distributed_5 (TimeDistrib (None, 4, 512)       92672       time_distributed_4[0][0]         \n",
      "__________________________________________________________________________________________________\n",
      "input_4 (InputLayer)            [(None, 4, 1)]       0                                            \n",
      "__________________________________________________________________________________________________\n",
      "time_distributed_6 (TimeDistrib (None, 4, 512)       0           time_distributed_5[0][0]         \n",
      "__________________________________________________________________________________________________\n",
      "lstm_2 (LSTM)                   (None, 4, 32)        4352        input_4[0][0]                    \n",
      "__________________________________________________________________________________________________\n",
      "time_distributed_7 (TimeDistrib (None, 4, 64)        32832       time_distributed_6[0][0]         \n",
      "__________________________________________________________________________________________________\n",
      "lstm_3 (LSTM)                   (None, 4, 32)        8320        lstm_2[0][0]                     \n",
      "__________________________________________________________________________________________________\n",
      "flatten_4 (Flatten)             (None, 256)          0           time_distributed_7[0][0]         \n",
      "__________________________________________________________________________________________________\n",
      "flatten_5 (Flatten)             (None, 128)          0           lstm_3[0][0]                     \n",
      "__________________________________________________________________________________________________\n",
      "dense_8 (Dense)                 (None, 128)          32896       flatten_4[0][0]                  \n",
      "__________________________________________________________________________________________________\n",
      "dense_9 (Dense)                 (None, 128)          16512       flatten_5[0][0]                  \n",
      "__________________________________________________________________________________________________\n",
      "average_1 (Average)             (None, 128)          0           dense_8[0][0]                    \n",
      "                                                                 dense_9[0][0]                    \n",
      "__________________________________________________________________________________________________\n",
      "batch_normalization_1 (BatchNor (None, 128)          512         average_1[0][0]                  \n",
      "__________________________________________________________________________________________________\n",
      "dense_10 (Dense)                (None, 64)           8256        batch_normalization_1[0][0]      \n",
      "__________________________________________________________________________________________________\n",
      "dense_11 (Dense)                (None, 1)            65          dense_10[0][0]                   \n",
      "==================================================================================================\n",
      "Total params: 230,937\n",
      "Trainable params: 230,681\n",
      "Non-trainable params: 256\n",
      "__________________________________________________________________________________________________\n",
      "None\n",
      "Epoch 1/20\n",
      "156/159 [============================>.] - ETA: 1s - loss: 0.0453WARNING:tensorflow:multiprocessing can interact badly with TensorFlow, causing nondeterministic deadlocks. For high performance data pipelines tf.data is recommended.\n",
      "159/159 [==============================] - 109s 382ms/step - loss: 0.0449\n",
      "WARNING:tensorflow:multiprocessing can interact badly with TensorFlow, causing nondeterministic deadlocks. For high performance data pipelines tf.data is recommended.\n",
      "\n",
      "*** Epoch 20: Spearman's correlation = 0.0808\n",
      "*** Epoch 20: MSE = 0.0220\n",
      "WARNING:tensorflow:multiprocessing can interact badly with TensorFlow, causing nondeterministic deadlocks. For high performance data pipelines tf.data is recommended.\n",
      "\n",
      "*** Epoch 1: Spearman's correlation = 0.1941\n",
      "*** Epoch 1: MSE = 0.0205\n"
     ]
    },
    {
     "data": {
      "image/png": "[encoded data removed]",
      "text/plain": [
       "<Figure size 432x288 with 1 Axes>"
      ]
     },
     "metadata": {
      "needs_background": "light"
     },
     "output_type": "display_data"
    },
    {
     "name": "stdout",
     "output_type": "stream",
     "text": [
      "\n",
      "Epoch 2/20\n",
      "157/159 [============================>.] - ETA: 0s - loss: 0.0206WARNING:tensorflow:multiprocessing can interact badly with TensorFlow, causing nondeterministic deadlocks. For high performance data pipelines tf.data is recommended.\n",
      "159/159 [==============================] - 85s 532ms/step - loss: 0.0206\n",
      "WARNING:tensorflow:multiprocessing can interact badly with TensorFlow, causing nondeterministic deadlocks. For high performance data pipelines tf.data is recommended.\n",
      "WARNING:tensorflow:multiprocessing can interact badly with TensorFlow, causing nondeterministic deadlocks. For high performance data pipelines tf.data is recommended.\n",
      "\n",
      "*** Epoch 2: Spearman's correlation = 0.1702\n",
      "*** Epoch 2: MSE = 0.0205\n"
     ]
    },
    {
     "data": {
      "image/png": "[encoded data removed]",
      "text/plain": [
       "<Figure size 432x288 with 1 Axes>"
      ]
     },
     "metadata": {
      "needs_background": "light"
     },
     "output_type": "display_data"
    },
    {
     "name": "stdout",
     "output_type": "stream",
     "text": [
      "\n",
      "Epoch 3/20\n",
      "156/159 [============================>.] - ETA: 1s - loss: 0.0203WARNING:tensorflow:multiprocessing can interact badly with TensorFlow, causing nondeterministic deadlocks. For high performance data pipelines tf.data is recommended.\n",
      "159/159 [==============================] - 89s 558ms/step - loss: 0.0203\n",
      "WARNING:tensorflow:multiprocessing can interact badly with TensorFlow, causing nondeterministic deadlocks. For high performance data pipelines tf.data is recommended.\n",
      "\n",
      "*** Epoch 2: MSE = 0.0205\n",
      "WARNING:tensorflow:multiprocessing can interact badly with TensorFlow, causing nondeterministic deadlocks. For high performance data pipelines tf.data is recommended.\n",
      "\n",
      "*** Epoch 3: Spearman's correlation = 0.1693\n",
      "*** Epoch 3: MSE = 0.0203\n"
     ]
    },
    {
     "data": {
      "image/png": "[encoded data removed]",
      "text/plain": [
       "<Figure size 432x288 with 1 Axes>"
      ]
     },
     "metadata": {
      "needs_background": "light"
     },
     "output_type": "display_data"
    },
    {
     "name": "stdout",
     "output_type": "stream",
     "text": [
      "\n",
      "Epoch 4/20\n",
      "156/159 [============================>.] - ETA: 1s - loss: 0.0215WARNING:tensorflow:multiprocessing can interact badly with TensorFlow, causing nondeterministic deadlocks. For high performance data pipelines tf.data is recommended.\n",
      "159/159 [==============================] - 89s 563ms/step - loss: 0.0215\n",
      "WARNING:tensorflow:multiprocessing can interact badly with TensorFlow, causing nondeterministic deadlocks. For high performance data pipelines tf.data is recommended.\n",
      "\n",
      "*** Epoch 3: Spearman's correlation = 0.1693\n",
      "*** Epoch 3: MSE = 0.0203WARNING:tensorflow:multiprocessing can interact badly with TensorFlow, causing nondeterministic deadlocks. For high performance data pipelines tf.data is recommended.\n",
      "\n",
      "*** Epoch 4: Spearman's correlation = 0.1811\n",
      "*** Epoch 4: MSE = 0.0202\n"
     ]
    },
    {
     "data": {
      "image/png": "[encoded data removed]",
      "text/plain": [
       "<Figure size 432x288 with 1 Axes>"
      ]
     },
     "metadata": {
      "needs_background": "light"
     },
     "output_type": "display_data"
    },
    {
     "name": "stdout",
     "output_type": "stream",
     "text": [
      "\n",
      "Epoch 5/20\n",
      "157/159 [============================>.] - ETA: 1s - loss: 0.0208WARNING:tensorflow:multiprocessing can interact badly with TensorFlow, causing nondeterministic deadlocks. For high performance data pipelines tf.data is recommended.\n",
      "159/159 [==============================] - 87s 548ms/step - loss: 0.0208\n",
      "WARNING:tensorflow:multiprocessing can interact badly with TensorFlow, causing nondeterministic deadlocks. For high performance data pipelines tf.data is recommended.\n",
      "WARNING:tensorflow:multiprocessing can interact badly with TensorFlow, causing nondeterministic deadlocks. For high performance data pipelines tf.data is recommended.\n",
      "\n",
      "*** Epoch 5: Spearman's correlation = 0.1748\n",
      "*** Epoch 5: MSE = 0.0266\n"
     ]
    },
    {
     "data": {
      "image/png": "[encoded data removed]",
      "text/plain": [
       "<Figure size 432x288 with 1 Axes>"
      ]
     },
     "metadata": {
      "needs_background": "light"
     },
     "output_type": "display_data"
    },
    {
     "name": "stdout",
     "output_type": "stream",
     "text": [
      "\n",
      "Epoch 6/20\n",
      "156/159 [============================>.] - ETA: 1s - loss: 0.0209WARNING:tensorflow:multiprocessing can interact badly with TensorFlow, causing nondeterministic deadlocks. For high performance data pipelines tf.data is recommended.\n",
      "159/159 [==============================] - 83s 520ms/step - loss: 0.0209\n",
      "WARNING:tensorflow:multiprocessing can interact badly with TensorFlow, causing nondeterministic deadlocks. For high performance data pipelines tf.data is recommended.\n",
      "WARNING:tensorflow:multiprocessing can interact badly with TensorFlow, causing nondeterministic deadlocks. For high performance data pipelines tf.data is recommended.\n",
      "\n",
      "*** Epoch 6: Spearman's correlation = 0.1851\n",
      "*** Epoch 6: MSE = 0.0212\n"
     ]
    },
    {
     "data": {
      "image/png": "[encoded data removed]",
      "text/plain": [
       "<Figure size 432x288 with 1 Axes>"
      ]
     },
     "metadata": {
      "needs_background": "light"
     },
     "output_type": "display_data"
    },
    {
     "name": "stdout",
     "output_type": "stream",
     "text": [
      "\n",
      "Epoch 7/20\n",
      "156/159 [============================>.] - ETA: 1s - loss: 0.0205WARNING:tensorflow:multiprocessing can interact badly with TensorFlow, causing nondeterministic deadlocks. For high performance data pipelines tf.data is recommended.\n",
      "159/159 [==============================] - 86s 540ms/step - loss: 0.0205\n",
      "WARNING:tensorflow:multiprocessing can interact badly with TensorFlow, causing nondeterministic deadlocks. For high performance data pipelines tf.data is recommended.\n",
      "\n",
      "*** Epoch 6: Spearman's correlation = 0.1851\n",
      "*** Epoch 6: MSE = 0.0212\n",
      "WARNING:tensorflow:multiprocessing can interact badly with TensorFlow, causing nondeterministic deadlocks. For high performance data pipelines tf.data is recommended.\n",
      "\n",
      "*** Epoch 7: Spearman's correlation = 0.1927\n",
      "*** Epoch 7: MSE = 0.0198\n"
     ]
    },
    {
     "data": {
      "image/png": "[encoded data removed]",
      "text/plain": [
       "<Figure size 432x288 with 1 Axes>"
      ]
     },
     "metadata": {
      "needs_background": "light"
     },
     "output_type": "display_data"
    },
    {
     "name": "stdout",
     "output_type": "stream",
     "text": [
      "\n",
      "Epoch 8/20\n",
      "157/159 [============================>.] - ETA: 1s - loss: 0.0198WARNING:tensorflow:multiprocessing can interact badly with TensorFlow, causing nondeterministic deadlocks. For high performance data pipelines tf.data is recommended.\n",
      "159/159 [==============================] - 88s 550ms/step - loss: 0.0198\n",
      "WARNING:tensorflow:multiprocessing can interact badly with TensorFlow, causing nondeterministic deadlocks. For high performance data pipelines tf.data is recommended.\n",
      "WARNING:tensorflow:multiprocessing can interact badly with TensorFlow, causing nondeterministic deadlocks. For high performance data pipelines tf.data is recommended.\n",
      "\n",
      "*** Epoch 8: Spearman's correlation = 0.1883\n",
      "*** Epoch 8: MSE = 0.0198\n"
     ]
    },
    {
     "data": {
      "image/png": "[encoded data removed]",
      "text/plain": [
       "<Figure size 432x288 with 1 Axes>"
      ]
     },
     "metadata": {
      "needs_background": "light"
     },
     "output_type": "display_data"
    },
    {
     "name": "stdout",
     "output_type": "stream",
     "text": [
      "\n",
      "Epoch 9/20\n",
      "156/159 [============================>.] - ETA: 1s - loss: 0.0200WARNING:tensorflow:multiprocessing can interact badly with TensorFlow, causing nondeterministic deadlocks. For high performance data pipelines tf.data is recommended.\n",
      "159/159 [==============================] - 87s 547ms/step - loss: 0.0200\n",
      "WARNING:tensorflow:multiprocessing can interact badly with TensorFlow, causing nondeterministic deadlocks. For high performance data pipelines tf.data is recommended.\n",
      "*** Epoch 8: Spearman's correlation = 0.1883\n",
      "*** Epoch 8: MSE = 0.0198\n",
      "WARNING:tensorflow:multiprocessing can interact badly with TensorFlow, causing nondeterministic deadlocks. For high performance data pipelines tf.data is recommended.\n",
      "\n",
      "*** Epoch 9: Spearman's correlation = 0.1883\n",
      "*** Epoch 9: MSE = 0.0198\n"
     ]
    },
    {
     "data": {
      "image/png": "[encoded data removed]",
      "text/plain": [
       "<Figure size 432x288 with 1 Axes>"
      ]
     },
     "metadata": {
      "needs_background": "light"
     },
     "output_type": "display_data"
    },
    {
     "name": "stdout",
     "output_type": "stream",
     "text": [
      "\n",
      "Epoch 10/20\n",
      "156/159 [============================>.] - ETA: 1s - loss: 0.0198WARNING:tensorflow:multiprocessing can interact badly with TensorFlow, causing nondeterministic deadlocks. For high performance data pipelines tf.data is recommended.\n",
      "159/159 [==============================] - 83s 520ms/step - loss: 0.0198\n",
      "WARNING:tensorflow:multiprocessing can interact badly with TensorFlow, causing nondeterministic deadlocks. For high performance data pipelines tf.data is recommended.\n",
      "*** Epoch 9: MSE = 0.0198\n",
      "WARNING:tensorflow:multiprocessing can interact badly with TensorFlow, causing nondeterministic deadlocks. For high performance data pipelines tf.data is recommended.\n",
      "\n",
      "*** Epoch 10: Spearman's correlation = 0.1711\n",
      "*** Epoch 10: MSE = 0.0201\n"
     ]
    },
    {
     "data": {
      "image/png": "[encoded data removed]",
      "text/plain": [
       "<Figure size 432x288 with 1 Axes>"
      ]
     },
     "metadata": {
      "needs_background": "light"
     },
     "output_type": "display_data"
    },
    {
     "name": "stdout",
     "output_type": "stream",
     "text": [
      "\n",
      "Epoch 11/20\n",
      "157/159 [============================>.] - ETA: 1s - loss: 0.0198WARNING:tensorflow:multiprocessing can interact badly with TensorFlow, causing nondeterministic deadlocks. For high performance data pipelines tf.data is recommended.\n",
      "159/159 [==============================] - 119s 752ms/step - loss: 0.0198\n",
      "WARNING:tensorflow:multiprocessing can interact badly with TensorFlow, causing nondeterministic deadlocks. For high performance data pipelines tf.data is recommended.\n",
      "\n",
      "*** Epoch 10: Spearman's correlation = 0.1711\n",
      "WARNING:tensorflow:multiprocessing can interact badly with TensorFlow, causing nondeterministic deadlocks. For high performance data pipelines tf.data is recommended.\n",
      "\n",
      "*** Epoch 11: Spearman's correlation = 0.1715\n",
      "*** Epoch 11: MSE = 0.0218\n"
     ]
    },
    {
     "data": {
      "image/png": "[encoded data removed]",
      "text/plain": [
       "<Figure size 432x288 with 1 Axes>"
      ]
     },
     "metadata": {
      "needs_background": "light"
     },
     "output_type": "display_data"
    },
    {
     "name": "stdout",
     "output_type": "stream",
     "text": [
      "\n",
      "Epoch 12/20\n",
      "156/159 [============================>.] - ETA: 1s - loss: 0.0192WARNING:tensorflow:multiprocessing can interact badly with TensorFlow, causing nondeterministic deadlocks. For high performance data pipelines tf.data is recommended.\n",
      "159/159 [==============================] - 111s 701ms/step - loss: 0.0192\n",
      "WARNING:tensorflow:multiprocessing can interact badly with TensorFlow, causing nondeterministic deadlocks. For high performance data pipelines tf.data is recommended.\n",
      "\n",
      "*** Epoch 11: Spearman's correlation = 0.1715\n",
      "WARNING:tensorflow:multiprocessing can interact badly with TensorFlow, causing nondeterministic deadlocks. For high performance data pipelines tf.data is recommended.\n",
      "\n",
      "*** Epoch 12: Spearman's correlation = 0.1651\n",
      "*** Epoch 12: MSE = 0.0208\n"
     ]
    },
    {
     "data": {
      "image/png": "[encoded data removed]",
      "text/plain": [
       "<Figure size 432x288 with 1 Axes>"
      ]
     },
     "metadata": {
      "needs_background": "light"
     },
     "output_type": "display_data"
    },
    {
     "name": "stdout",
     "output_type": "stream",
     "text": [
      "\n",
      "Epoch 13/20\n",
      "157/159 [============================>.] - ETA: 1s - loss: 0.0200WARNING:tensorflow:multiprocessing can interact badly with TensorFlow, causing nondeterministic deadlocks. For high performance data pipelines tf.data is recommended.\n",
      "159/159 [==============================] - 104s 658ms/step - loss: 0.0200\n",
      "WARNING:tensorflow:multiprocessing can interact badly with TensorFlow, causing nondeterministic deadlocks. For high performance data pipelines tf.data is recommended.\n",
      "\n",
      "*** Epoch 12: MSE = 0.0208\n",
      "WARNING:tensorflow:multiprocessing can interact badly with TensorFlow, causing nondeterministic deadlocks. For high performance data pipelines tf.data is recommended.\n",
      "\n",
      "*** Epoch 13: Spearman's correlation = 0.1838\n",
      "*** Epoch 13: MSE = 0.0212\n"
     ]
    },
    {
     "data": {
      "image/png": "[encoded data removed]",
      "text/plain": [
       "<Figure size 432x288 with 1 Axes>"
      ]
     },
     "metadata": {
      "needs_background": "light"
     },
     "output_type": "display_data"
    },
    {
     "name": "stdout",
     "output_type": "stream",
     "text": [
      "\n",
      "Epoch 14/20\n",
      "156/159 [============================>.] - ETA: 1s - loss: 0.0192WARNING:tensorflow:multiprocessing can interact badly with TensorFlow, causing nondeterministic deadlocks. For high performance data pipelines tf.data is recommended.\n",
      "159/159 [==============================] - 90s 566ms/step - loss: 0.0192\n",
      "WARNING:tensorflow:multiprocessing can interact badly with TensorFlow, causing nondeterministic deadlocks. For high performance data pipelines tf.data is recommended.\n",
      "\n",
      "WARNING:tensorflow:multiprocessing can interact badly with TensorFlow, causing nondeterministic deadlocks. For high performance data pipelines tf.data is recommended.\n",
      "\n",
      "*** Epoch 14: Spearman's correlation = 0.1008\n",
      "*** Epoch 14: MSE = 0.0244\n"
     ]
    },
    {
     "data": {
      "image/png": "[encoded data removed]",
      "text/plain": [
       "<Figure size 432x288 with 1 Axes>"
      ]
     },
     "metadata": {
      "needs_background": "light"
     },
     "output_type": "display_data"
    },
    {
     "name": "stdout",
     "output_type": "stream",
     "text": [
      "\n",
      "Epoch 15/20\n",
      "157/159 [============================>.] - ETA: 1s - loss: 0.0177WARNING:tensorflow:multiprocessing can interact badly with TensorFlow, causing nondeterministic deadlocks. For high performance data pipelines tf.data is recommended.\n",
      "159/159 [==============================] - 98s 620ms/step - loss: 0.0177\n",
      "WARNING:tensorflow:multiprocessing can interact badly with TensorFlow, causing nondeterministic deadlocks. For high performance data pipelines tf.data is recommended.\n",
      "\n",
      "*** Epoch 14: Spearman's correlation = 0.1008\n",
      "*** Epoch 14: MSE = 0.0244\n",
      "WARNING:tensorflow:multiprocessing can interact badly with TensorFlow, causing nondeterministic deadlocks. For high performance data pipelines tf.data is recommended.\n",
      "\n",
      "*** Epoch 15: Spearman's correlation = 0.1743\n",
      "*** Epoch 15: MSE = 0.0208\n"
     ]
    },
    {
     "data": {
      "image/png": "[encoded data removed]",
      "text/plain": [
       "<Figure size 432x288 with 1 Axes>"
      ]
     },
     "metadata": {
      "needs_background": "light"
     },
     "output_type": "display_data"
    },
    {
     "name": "stdout",
     "output_type": "stream",
     "text": [
      "\n",
      "Epoch 16/20\n",
      "157/159 [============================>.] - ETA: 1s - loss: 0.0191WARNING:tensorflow:multiprocessing can interact badly with TensorFlow, causing nondeterministic deadlocks. For high performance data pipelines tf.data is recommended.\n",
      "159/159 [==============================] - 116s 729ms/step - loss: 0.0191\n",
      "WARNING:tensorflow:multiprocessing can interact badly with TensorFlow, causing nondeterministic deadlocks. For high performance data pipelines tf.data is recommended.\n",
      "WARNING:tensorflow:multiprocessing can interact badly with TensorFlow, causing nondeterministic deadlocks. For high performance data pipelines tf.data is recommended.\n",
      "\n",
      "*** Epoch 16: Spearman's correlation = 0.1374\n",
      "*** Epoch 16: MSE = 0.0224\n"
     ]
    },
    {
     "data": {
      "image/png": "[encoded data removed]",
      "text/plain": [
       "<Figure size 432x288 with 1 Axes>"
      ]
     },
     "metadata": {
      "needs_background": "light"
     },
     "output_type": "display_data"
    },
    {
     "name": "stdout",
     "output_type": "stream",
     "text": [
      "\n",
      "Epoch 17/20\n",
      "156/159 [============================>.] - ETA: 2s - loss: 0.0183WARNING:tensorflow:multiprocessing can interact badly with TensorFlow, causing nondeterministic deadlocks. For high performance data pipelines tf.data is recommended.\n",
      "159/159 [==============================] - 119s 749ms/step - loss: 0.0183\n",
      "WARNING:tensorflow:multiprocessing can interact badly with TensorFlow, causing nondeterministic deadlocks. For high performance data pipelines tf.data is recommended.\n",
      "\n",
      "*** Epoch 16: Spearman's correlation = 0.1374\n",
      "WARNING:tensorflow:multiprocessing can interact badly with TensorFlow, causing nondeterministic deadlocks. For high performance data pipelines tf.data is recommended.\n",
      "\n",
      "*** Epoch 17: Spearman's correlation = 0.1420\n",
      "*** Epoch 17: MSE = 0.0258\n"
     ]
    },
    {
     "data": {
      "image/png": "[encoded data removed]",
      "text/plain": [
       "<Figure size 432x288 with 1 Axes>"
      ]
     },
     "metadata": {
      "needs_background": "light"
     },
     "output_type": "display_data"
    },
    {
     "name": "stdout",
     "output_type": "stream",
     "text": [
      "\n",
      "Epoch 18/20\n",
      "156/159 [============================>.] - ETA: 1s - loss: 0.0181WARNING:tensorflow:multiprocessing can interact badly with TensorFlow, causing nondeterministic deadlocks. For high performance data pipelines tf.data is recommended.\n",
      "159/159 [==============================] - 95s 596ms/step - loss: 0.0180\n",
      "WARNING:tensorflow:multiprocessing can interact badly with TensorFlow, causing nondeterministic deadlocks. For high performance data pipelines tf.data is recommended.\n",
      "\n",
      "WARNING:tensorflow:multiprocessing can interact badly with TensorFlow, causing nondeterministic deadlocks. For high performance data pipelines tf.data is recommended.\n",
      "\n",
      "*** Epoch 18: Spearman's correlation = 0.1614\n",
      "*** Epoch 18: MSE = 0.0219\n"
     ]
    },
    {
     "data": {
      "image/png": "[encoded data removed]",
      "text/plain": [
       "<Figure size 432x288 with 1 Axes>"
      ]
     },
     "metadata": {
      "needs_background": "light"
     },
     "output_type": "display_data"
    },
    {
     "name": "stdout",
     "output_type": "stream",
     "text": [
      "\n",
      "Epoch 19/20\n",
      "157/159 [============================>.] - ETA: 1s - loss: 0.0166WARNING:tensorflow:multiprocessing can interact badly with TensorFlow, causing nondeterministic deadlocks. For high performance data pipelines tf.data is recommended.\n",
      "159/159 [==============================] - 132s 833ms/step - loss: 0.0166\n",
      "WARNING:tensorflow:multiprocessing can interact badly with TensorFlow, causing nondeterministic deadlocks. For high performance data pipelines tf.data is recommended.\n",
      "WARNING:tensorflow:multiprocessing can interact badly with TensorFlow, causing nondeterministic deadlocks. For high performance data pipelines tf.data is recommended.\n",
      "\n",
      "*** Epoch 19: Spearman's correlation = 0.1680\n",
      "*** Epoch 19: MSE = 0.0214\n"
     ]
    },
    {
     "data": {
      "image/png": "[encoded data removed]",
      "text/plain": [
       "<Figure size 432x288 with 1 Axes>"
      ]
     },
     "metadata": {
      "needs_background": "light"
     },
     "output_type": "display_data"
    },
    {
     "name": "stdout",
     "output_type": "stream",
     "text": [
      "\n",
      "Epoch 20/20\n",
      "157/159 [============================>.] - ETA: 1s - loss: 0.0158WARNING:tensorflow:multiprocessing can interact badly with TensorFlow, causing nondeterministic deadlocks. For high performance data pipelines tf.data is recommended.\n",
      "159/159 [==============================] - 112s 704ms/step - loss: 0.0159\n",
      "WARNING:tensorflow:multiprocessing can interact badly with TensorFlow, causing nondeterministic deadlocks. For high performance data pipelines tf.data is recommended.\n",
      "WARNING:tensorflow:multiprocessing can interact badly with TensorFlow, causing nondeterministic deadlocks. For high performance data pipelines tf.data is recommended.\n",
      "\n",
      "*** Epoch 20: Spearman's correlation = 0.1995\n",
      "*** Epoch 20: MSE = 0.0207\n"
     ]
    },
    {
     "data": {
      "image/png": "[encoded data removed]",
      "text/plain": [
       "<Figure size 432x288 with 1 Axes>"
      ]
     },
     "metadata": {
      "needs_background": "light"
     },
     "output_type": "display_data"
    },
    {
     "name": "stdout",
     "output_type": "stream",
     "text": [
      "\n",
      "Model: \"model_2\"\n",
      "__________________________________________________________________________________________________\n",
      "Layer (type)                    Output Shape         Param #     Connected to                     \n",
      "==================================================================================================\n",
      "input_5 (InputLayer)            [(None, 4, 70, 70, 9 0                                            \n",
      "__________________________________________________________________________________________________\n",
      "conv_lst_m2d_6 (ConvLSTM2D)     (None, 4, 70, 70, 20 20960       input_5[0][0]                    \n",
      "__________________________________________________________________________________________________\n",
      "max_pooling3d_6 (MaxPooling3D)  (None, 4, 35, 35, 20 0           conv_lst_m2d_6[0][0]             \n",
      "__________________________________________________________________________________________________\n",
      "conv_lst_m2d_7 (ConvLSTM2D)     (None, 4, 35, 35, 10 10840       max_pooling3d_6[0][0]            \n",
      "__________________________________________________________________________________________________\n",
      "max_pooling3d_7 (MaxPooling3D)  (None, 4, 12, 12, 10 0           conv_lst_m2d_7[0][0]             \n",
      "__________________________________________________________________________________________________\n",
      "conv_lst_m2d_8 (ConvLSTM2D)     (None, 4, 12, 12, 5) 2720        max_pooling3d_7[0][0]            \n",
      "__________________________________________________________________________________________________\n",
      "max_pooling3d_8 (MaxPooling3D)  (None, 4, 6, 6, 5)   0           conv_lst_m2d_8[0][0]             \n",
      "__________________________________________________________________________________________________\n",
      "time_distributed_8 (TimeDistrib (None, 4, 180)       0           max_pooling3d_8[0][0]            \n",
      "__________________________________________________________________________________________________\n",
      "time_distributed_9 (TimeDistrib (None, 4, 512)       92672       time_distributed_8[0][0]         \n",
      "__________________________________________________________________________________________________\n",
      "input_6 (InputLayer)            [(None, 4, 1)]       0                                            \n",
      "__________________________________________________________________________________________________\n",
      "time_distributed_10 (TimeDistri (None, 4, 512)       0           time_distributed_9[0][0]         \n",
      "__________________________________________________________________________________________________\n",
      "lstm_4 (LSTM)                   (None, 4, 32)        4352        input_6[0][0]                    \n",
      "__________________________________________________________________________________________________\n",
      "time_distributed_11 (TimeDistri (None, 4, 64)        32832       time_distributed_10[0][0]        \n",
      "__________________________________________________________________________________________________\n",
      "lstm_5 (LSTM)                   (None, 4, 32)        8320        lstm_4[0][0]                     \n",
      "__________________________________________________________________________________________________\n",
      "flatten_7 (Flatten)             (None, 256)          0           time_distributed_11[0][0]        \n",
      "__________________________________________________________________________________________________\n",
      "flatten_8 (Flatten)             (None, 128)          0           lstm_5[0][0]                     \n",
      "__________________________________________________________________________________________________\n",
      "dense_14 (Dense)                (None, 128)          32896       flatten_7[0][0]                  \n",
      "__________________________________________________________________________________________________\n",
      "dense_15 (Dense)                (None, 128)          16512       flatten_8[0][0]                  \n",
      "__________________________________________________________________________________________________\n",
      "average_2 (Average)             (None, 128)          0           dense_14[0][0]                   \n",
      "                                                                 dense_15[0][0]                   \n",
      "__________________________________________________________________________________________________\n",
      "batch_normalization_2 (BatchNor (None, 128)          512         average_2[0][0]                  \n",
      "__________________________________________________________________________________________________\n",
      "dense_16 (Dense)                (None, 64)           8256        batch_normalization_2[0][0]      \n",
      "__________________________________________________________________________________________________\n",
      "dense_17 (Dense)                (None, 1)            65          dense_16[0][0]                   \n",
      "==================================================================================================\n",
      "Total params: 230,937\n",
      "Trainable params: 230,681\n",
      "Non-trainable params: 256\n",
      "__________________________________________________________________________________________________\n",
      "None\n",
      "Epoch 1/20\n",
      "155/159 [============================>.] - ETA: 1s - loss: 0.0469WARNING:tensorflow:multiprocessing can interact badly with TensorFlow, causing nondeterministic deadlocks. For high performance data pipelines tf.data is recommended.\n",
      "159/159 [==============================] - 117s 397ms/step - loss: 0.0463\n",
      "WARNING:tensorflow:multiprocessing can interact badly with TensorFlow, causing nondeterministic deadlocks. For high performance data pipelines tf.data is recommended.\n",
      "WARNING:tensorflow:multiprocessing can interact badly with TensorFlow, causing nondeterministic deadlocks. For high performance data pipelines tf.data is recommended.\n",
      "\n",
      "*** Epoch 1: Spearman's correlation = 0.1945\n",
      "*** Epoch 1: MSE = 0.0206\n"
     ]
    },
    {
     "data": {
      "image/png": "[encoded data removed]",
      "text/plain": [
       "<Figure size 432x288 with 1 Axes>"
      ]
     },
     "metadata": {
      "needs_background": "light"
     },
     "output_type": "display_data"
    },
    {
     "name": "stdout",
     "output_type": "stream",
     "text": [
      "\n",
      "Epoch 2/20\n",
      "155/159 [============================>.] - ETA: 2s - loss: 0.0213WARNING:tensorflow:multiprocessing can interact badly with TensorFlow, causing nondeterministic deadlocks. For high performance data pipelines tf.data is recommended.\n",
      "159/159 [==============================] - 87s 545ms/step - loss: 0.0213\n",
      "WARNING:tensorflow:multiprocessing can interact badly with TensorFlow, causing nondeterministic deadlocks. For high performance data pipelines tf.data is recommended.\n",
      "\n",
      "WARNING:tensorflow:multiprocessing can interact badly with TensorFlow, causing nondeterministic deadlocks. For high performance data pipelines tf.data is recommended.\n",
      "\n",
      "*** Epoch 2: Spearman's correlation = 0.1835\n",
      "*** Epoch 2: MSE = 0.0205\n"
     ]
    },
    {
     "data": {
      "image/png": "[encoded data removed]",
      "text/plain": [
       "<Figure size 432x288 with 1 Axes>"
      ]
     },
     "metadata": {
      "needs_background": "light"
     },
     "output_type": "display_data"
    },
    {
     "name": "stdout",
     "output_type": "stream",
     "text": [
      "\n",
      "Epoch 3/20\n",
      "155/159 [============================>.] - ETA: 2s - loss: 0.0205WARNING:tensorflow:multiprocessing can interact badly with TensorFlow, causing nondeterministic deadlocks. For high performance data pipelines tf.data is recommended.\n",
      "159/159 [==============================] - 86s 541ms/step - loss: 0.0205\n",
      "WARNING:tensorflow:multiprocessing can interact badly with TensorFlow, causing nondeterministic deadlocks. For high performance data pipelines tf.data is recommended.\n",
      "WARNING:tensorflow:multiprocessing can interact badly with TensorFlow, causing nondeterministic deadlocks. For high performance data pipelines tf.data is recommended.\n",
      "\n",
      "*** Epoch 3: Spearman's correlation = 0.1905\n",
      "*** Epoch 3: MSE = 0.0212\n"
     ]
    },
    {
     "data": {
      "image/png": "[encoded data removed]",
      "text/plain": [
       "<Figure size 432x288 with 1 Axes>"
      ]
     },
     "metadata": {
      "needs_background": "light"
     },
     "output_type": "display_data"
    },
    {
     "name": "stdout",
     "output_type": "stream",
     "text": [
      "\n",
      "Epoch 4/20\n",
      "155/159 [============================>.] - ETA: 2s - loss: 0.0210WARNING:tensorflow:multiprocessing can interact badly with TensorFlow, causing nondeterministic deadlocks. For high performance data pipelines tf.data is recommended.\n",
      "159/159 [==============================] - 88s 553ms/step - loss: 0.0210\n",
      "WARNING:tensorflow:multiprocessing can interact badly with TensorFlow, causing nondeterministic deadlocks. For high performance data pipelines tf.data is recommended.\n",
      "WARNING:tensorflow:multiprocessing can interact badly with TensorFlow, causing nondeterministic deadlocks. For high performance data pipelines tf.data is recommended.\n",
      "\n",
      "*** Epoch 4: Spearman's correlation = 0.1854\n",
      "*** Epoch 4: MSE = 0.0199\n"
     ]
    },
    {
     "data": {
      "image/png": "[encoded data removed]",
      "text/plain": [
       "<Figure size 432x288 with 1 Axes>"
      ]
     },
     "metadata": {
      "needs_background": "light"
     },
     "output_type": "display_data"
    },
    {
     "name": "stdout",
     "output_type": "stream",
     "text": [
      "\n",
      "Epoch 5/20\n",
      "156/159 [============================>.] - ETA: 1s - loss: 0.0205WARNING:tensorflow:multiprocessing can interact badly with TensorFlow, causing nondeterministic deadlocks. For high performance data pipelines tf.data is recommended.\n",
      "159/159 [==============================] - 86s 541ms/step - loss: 0.0205\n",
      "WARNING:tensorflow:multiprocessing can interact badly with TensorFlow, causing nondeterministic deadlocks. For high performance data pipelines tf.data is recommended.\n",
      "WARNING:tensorflow:multiprocessing can interact badly with TensorFlow, causing nondeterministic deadlocks. For high performance data pipelines tf.data is recommended.\n",
      "\n",
      "*** Epoch 5: Spearman's correlation = 0.1879\n",
      "*** Epoch 5: MSE = 0.0199\n"
     ]
    },
    {
     "data": {
      "image/png": "[encoded data removed]",
      "text/plain": [
       "<Figure size 432x288 with 1 Axes>"
      ]
     },
     "metadata": {
      "needs_background": "light"
     },
     "output_type": "display_data"
    },
    {
     "name": "stdout",
     "output_type": "stream",
     "text": [
      "\n",
      "Epoch 6/20\n",
      "156/159 [============================>.] - ETA: 1s - loss: 0.0202WARNING:tensorflow:multiprocessing can interact badly with TensorFlow, causing nondeterministic deadlocks. For high performance data pipelines tf.data is recommended.\n",
      "159/159 [==============================] - 88s 556ms/step - loss: 0.0202\n",
      "WARNING:tensorflow:multiprocessing can interact badly with TensorFlow, causing nondeterministic deadlocks. For high performance data pipelines tf.data is recommended.\n",
      "\n",
      "*** Epoch 5: Spearman's correlation = 0.1879\n",
      "*** Epoch 5: MSE = 0.0199\n",
      "WARNING:tensorflow:multiprocessing can interact badly with TensorFlow, causing nondeterministic deadlocks. For high performance data pipelines tf.data is recommended.\n",
      "\n",
      "*** Epoch 6: Spearman's correlation = 0.1850\n",
      "*** Epoch 6: MSE = 0.0199\n"
     ]
    },
    {
     "data": {
      "image/png": "[encoded data removed]",
      "text/plain": [
       "<Figure size 432x288 with 1 Axes>"
      ]
     },
     "metadata": {
      "needs_background": "light"
     },
     "output_type": "display_data"
    },
    {
     "name": "stdout",
     "output_type": "stream",
     "text": [
      "\n",
      "Epoch 7/20\n",
      "155/159 [============================>.] - ETA: 2s - loss: 0.0204WARNING:tensorflow:multiprocessing can interact badly with TensorFlow, causing nondeterministic deadlocks. For high performance data pipelines tf.data is recommended.\n",
      "159/159 [==============================] - 86s 540ms/step - loss: 0.0204\n",
      "WARNING:tensorflow:multiprocessing can interact badly with TensorFlow, causing nondeterministic deadlocks. For high performance data pipelines tf.data is recommended.\n",
      "*** Epoch 6: Spearman's correlation = 0.1850\n",
      "*** Epoch 6: MSE = 0.0199\n",
      "WARNING:tensorflow:multiprocessing can interact badly with TensorFlow, causing nondeterministic deadlocks. For high performance data pipelines tf.data is recommended.\n",
      "\n",
      "*** Epoch 7: Spearman's correlation = 0.1865\n",
      "*** Epoch 7: MSE = 0.0212\n"
     ]
    },
    {
     "data": {
      "image/png": "[encoded data removed]",
      "text/plain": [
       "<Figure size 432x288 with 1 Axes>"
      ]
     },
     "metadata": {
      "needs_background": "light"
     },
     "output_type": "display_data"
    },
    {
     "name": "stdout",
     "output_type": "stream",
     "text": [
      "\n",
      "Epoch 8/20\n",
      "155/159 [============================>.] - ETA: 2s - loss: 0.0203WARNING:tensorflow:multiprocessing can interact badly with TensorFlow, causing nondeterministic deadlocks. For high performance data pipelines tf.data is recommended.\n",
      "159/159 [==============================] - 92s 580ms/step - loss: 0.0203\n",
      "WARNING:tensorflow:multiprocessing can interact badly with TensorFlow, causing nondeterministic deadlocks. For high performance data pipelines tf.data is recommended.\n",
      "*** Epoch 7: MSE = 0.0212\n",
      "WARNING:tensorflow:multiprocessing can interact badly with TensorFlow, causing nondeterministic deadlocks. For high performance data pipelines tf.data is recommended.\n",
      "\n",
      "*** Epoch 8: Spearman's correlation = 0.1745\n",
      "*** Epoch 8: MSE = 0.0219\n"
     ]
    },
    {
     "data": {
      "image/png": "[encoded data removed]",
      "text/plain": [
       "<Figure size 432x288 with 1 Axes>"
      ]
     },
     "metadata": {
      "needs_background": "light"
     },
     "output_type": "display_data"
    },
    {
     "name": "stdout",
     "output_type": "stream",
     "text": [
      "\n",
      "Epoch 9/20\n",
      "156/159 [============================>.] - ETA: 1s - loss: 0.0207WARNING:tensorflow:multiprocessing can interact badly with TensorFlow, causing nondeterministic deadlocks. For high performance data pipelines tf.data is recommended.\n",
      "159/159 [==============================] - 88s 552ms/step - loss: 0.0207\n",
      "WARNING:tensorflow:multiprocessing can interact badly with TensorFlow, causing nondeterministic deadlocks. For high performance data pipelines tf.data is recommended.\n",
      "\n",
      "*** Epoch 8: Spearman's correlation = 0.1745WARNING:tensorflow:multiprocessing can interact badly with TensorFlow, causing nondeterministic deadlocks. For high performance data pipelines tf.data is recommended.\n",
      "\n",
      "*** Epoch 9: Spearman's correlation = 0.1781\n",
      "*** Epoch 9: MSE = 0.0222\n"
     ]
    },
    {
     "data": {
      "image/png": "[encoded data removed]",
      "text/plain": [
       "<Figure size 432x288 with 1 Axes>"
      ]
     },
     "metadata": {
      "needs_background": "light"
     },
     "output_type": "display_data"
    },
    {
     "name": "stdout",
     "output_type": "stream",
     "text": [
      "\n",
      "Epoch 10/20\n",
      "156/159 [============================>.] - ETA: 1s - loss: 0.0195WARNING:tensorflow:multiprocessing can interact badly with TensorFlow, causing nondeterministic deadlocks. For high performance data pipelines tf.data is recommended.\n",
      "159/159 [==============================] - 87s 549ms/step - loss: 0.0195\n",
      "WARNING:tensorflow:multiprocessing can interact badly with TensorFlow, causing nondeterministic deadlocks. For high performance data pipelines tf.data is recommended.\n",
      "\n",
      "WARNING:tensorflow:multiprocessing can interact badly with TensorFlow, causing nondeterministic deadlocks. For high performance data pipelines tf.data is recommended.\n",
      "\n",
      "*** Epoch 10: Spearman's correlation = 0.1810\n",
      "*** Epoch 10: MSE = 0.0203\n"
     ]
    },
    {
     "data": {
      "image/png": "[encoded data removed]",
      "text/plain": [
       "<Figure size 432x288 with 1 Axes>"
      ]
     },
     "metadata": {
      "needs_background": "light"
     },
     "output_type": "display_data"
    },
    {
     "name": "stdout",
     "output_type": "stream",
     "text": [
      "\n",
      "Epoch 11/20\n",
      "155/159 [============================>.] - ETA: 2s - loss: 0.0202WARNING:tensorflow:multiprocessing can interact badly with TensorFlow, causing nondeterministic deadlocks. For high performance data pipelines tf.data is recommended.\n",
      "159/159 [==============================] - 93s 587ms/step - loss: 0.0202\n",
      "WARNING:tensorflow:multiprocessing can interact badly with TensorFlow, causing nondeterministic deadlocks. For high performance data pipelines tf.data is recommended.\n",
      "\n",
      "*** Epoch 10: Spearman's correlation = 0.1810\n",
      "WARNING:tensorflow:multiprocessing can interact badly with TensorFlow, causing nondeterministic deadlocks. For high performance data pipelines tf.data is recommended.\n",
      "\n",
      "*** Epoch 11: Spearman's correlation = 0.1802\n",
      "*** Epoch 11: MSE = 0.0204\n"
     ]
    },
    {
     "data": {
      "image/png": "[encoded data removed]",
      "text/plain": [
       "<Figure size 432x288 with 1 Axes>"
      ]
     },
     "metadata": {
      "needs_background": "light"
     },
     "output_type": "display_data"
    },
    {
     "name": "stdout",
     "output_type": "stream",
     "text": [
      "\n",
      "Epoch 12/20\n",
      "155/159 [============================>.] - ETA: 2s - loss: 0.0197WARNING:tensorflow:multiprocessing can interact badly with TensorFlow, causing nondeterministic deadlocks. For high performance data pipelines tf.data is recommended.\n",
      "159/159 [==============================] - 87s 545ms/step - loss: 0.0197\n",
      "WARNING:tensorflow:multiprocessing can interact badly with TensorFlow, causing nondeterministic deadlocks. For high performance data pipelines tf.data is recommended.\n",
      "WARNING:tensorflow:multiprocessing can interact badly with TensorFlow, causing nondeterministic deadlocks. For high performance data pipelines tf.data is recommended.\n",
      "\n",
      "*** Epoch 12: Spearman's correlation = 0.1873\n",
      "*** Epoch 12: MSE = 0.0212\n"
     ]
    },
    {
     "data": {
      "image/png": "[encoded data removed]",
      "text/plain": [
       "<Figure size 432x288 with 1 Axes>"
      ]
     },
     "metadata": {
      "needs_background": "light"
     },
     "output_type": "display_data"
    },
    {
     "name": "stdout",
     "output_type": "stream",
     "text": [
      "\n",
      "Epoch 13/20\n",
      "155/159 [============================>.] - ETA: 2s - loss: 0.0200WARNING:tensorflow:multiprocessing can interact badly with TensorFlow, causing nondeterministic deadlocks. For high performance data pipelines tf.data is recommended.\n",
      "159/159 [==============================] - 86s 541ms/step - loss: 0.0200\n",
      "WARNING:tensorflow:multiprocessing can interact badly with TensorFlow, causing nondeterministic deadlocks. For high performance data pipelines tf.data is recommended.\n",
      "*** Epoch 12: Spearman's correlation = 0.1873\n",
      "*** Epoch 12: MSE = 0.0212\n",
      "WARNING:tensorflow:multiprocessing can interact badly with TensorFlow, causing nondeterministic deadlocks. For high performance data pipelines tf.data is recommended.\n",
      "\n",
      "*** Epoch 13: Spearman's correlation = 0.0971\n",
      "*** Epoch 13: MSE = 0.0216\n"
     ]
    },
    {
     "data": {
      "image/png": "[encoded data removed]",
      "text/plain": [
       "<Figure size 432x288 with 1 Axes>"
      ]
     },
     "metadata": {
      "needs_background": "light"
     },
     "output_type": "display_data"
    },
    {
     "name": "stdout",
     "output_type": "stream",
     "text": [
      "\n",
      "Epoch 14/20\n",
      " 10/159 [>.............................] - ETA: 1:17 - loss: 0.0209"
     ]
    },
    {
     "name": "stderr",
     "output_type": "stream",
     "text": [
      "Process Keras_worker_ForkPoolWorker-1267:\n",
      "Process Keras_worker_ForkPoolWorker-1282:\n",
      "Process Keras_worker_ForkPoolWorker-1268:\n",
      "Process Keras_worker_ForkPoolWorker-1287:\n",
      "Process Keras_worker_ForkPoolWorker-1270:\n",
      "Process Keras_worker_ForkPoolWorker-1272:\n",
      "Process Keras_worker_ForkPoolWorker-1284:\n",
      "Process Keras_worker_ForkPoolWorker-1271:\n",
      "Process Keras_worker_ForkPoolWorker-1265:\n",
      "Process Keras_worker_ForkPoolWorker-1285:\n",
      "Process Keras_worker_ForkPoolWorker-1286:\n",
      "Process Keras_worker_ForkPoolWorker-1281:\n",
      "Traceback (most recent call last):\n",
      "Traceback (most recent call last):\n",
      "Traceback (most recent call last):\n",
      "Traceback (most recent call last):\n",
      "Traceback (most recent call last):\n",
      "Traceback (most recent call last):\n",
      "Process Keras_worker_ForkPoolWorker-1283:\n",
      "Process Keras_worker_ForkPoolWorker-1266:\n",
      "Traceback (most recent call last):\n",
      "Process Keras_worker_ForkPoolWorker-1269:\n",
      "Process Keras_worker_ForkPoolWorker-1288:\n",
      "  File \"/usr/lib/python3.8/multiprocessing/process.py\", line 315, in _bootstrap\n",
      "    self.run()\n",
      "Traceback (most recent call last):\n",
      "  File \"/usr/lib/python3.8/multiprocessing/process.py\", line 315, in _bootstrap\n",
      "    self.run()\n",
      "  File \"/usr/lib/python3.8/multiprocessing/process.py\", line 315, in _bootstrap\n",
      "    self.run()\n",
      "Traceback (most recent call last):\n",
      "  File \"/usr/lib/python3.8/multiprocessing/process.py\", line 315, in _bootstrap\n",
      "    self.run()\n",
      "Traceback (most recent call last):\n",
      "Traceback (most recent call last):\n",
      "  File \"/usr/lib/python3.8/multiprocessing/process.py\", line 108, in run\n",
      "    self._target(*self._args, **self._kwargs)\n",
      "  File \"/usr/lib/python3.8/multiprocessing/process.py\", line 315, in _bootstrap\n",
      "    self.run()\n",
      "  File \"/usr/lib/python3.8/multiprocessing/process.py\", line 315, in _bootstrap\n",
      "    self.run()\n",
      "  File \"/usr/lib/python3.8/multiprocessing/process.py\", line 108, in run\n",
      "    self._target(*self._args, **self._kwargs)\n",
      "Traceback (most recent call last):\n",
      "  File \"/usr/lib/python3.8/multiprocessing/process.py\", line 108, in run\n",
      "    self._target(*self._args, **self._kwargs)\n",
      "  File \"/usr/lib/python3.8/multiprocessing/process.py\", line 315, in _bootstrap\n",
      "    self.run()\n",
      "  File \"/usr/lib/python3.8/multiprocessing/process.py\", line 315, in _bootstrap\n",
      "    self.run()\n",
      "  File \"/usr/lib/python3.8/multiprocessing/pool.py\", line 131, in worker\n",
      "    put((job, i, result))\n",
      "  File \"/usr/lib/python3.8/multiprocessing/process.py\", line 108, in run\n",
      "    self._target(*self._args, **self._kwargs)\n",
      "Traceback (most recent call last):\n",
      "Traceback (most recent call last):\n",
      "  File \"/usr/lib/python3.8/multiprocessing/pool.py\", line 125, in worker\n",
      "    result = (True, func(*args, **kwds))\n",
      "  File \"/usr/lib/python3.8/multiprocessing/pool.py\", line 131, in worker\n",
      "    put((job, i, result))\n",
      "  File \"/usr/lib/python3.8/multiprocessing/queues.py\", line 368, in put\n",
      "    self._writer.send_bytes(obj)\n",
      "  File \"/usr/lib/python3.8/multiprocessing/process.py\", line 108, in run\n",
      "    self._target(*self._args, **self._kwargs)\n",
      "  File \"/usr/lib/python3.8/multiprocessing/process.py\", line 315, in _bootstrap\n",
      "    self.run()\n",
      "  File \"/usr/lib/python3.8/multiprocessing/process.py\", line 315, in _bootstrap\n",
      "    self.run()\n",
      "  File \"/usr/lib/python3.8/multiprocessing/process.py\", line 315, in _bootstrap\n",
      "    self.run()\n",
      "  File \"/usr/lib/python3.8/multiprocessing/process.py\", line 315, in _bootstrap\n",
      "    self.run()\n",
      "  File \"/usr/lib/python3.8/multiprocessing/process.py\", line 108, in run\n",
      "    self._target(*self._args, **self._kwargs)\n",
      "  File \"/usr/lib/python3.8/multiprocessing/process.py\", line 315, in _bootstrap\n",
      "    self.run()\n",
      "  File \"/usr/lib/python3.8/multiprocessing/process.py\", line 108, in run\n",
      "    self._target(*self._args, **self._kwargs)\n",
      "  File \"/usr/lib/python3.8/multiprocessing/connection.py\", line 200, in send_bytes\n",
      "    self._send_bytes(m[offset:offset + size])\n",
      "  File \"/usr/lib/python3.8/multiprocessing/process.py\", line 108, in run\n",
      "    self._target(*self._args, **self._kwargs)\n",
      "  File \"/usr/lib/python3.8/multiprocessing/process.py\", line 108, in run\n",
      "    self._target(*self._args, **self._kwargs)\n",
      "Traceback (most recent call last):\n",
      "  File \"/usr/lib/python3.8/multiprocessing/pool.py\", line 125, in worker\n",
      "    result = (True, func(*args, **kwds))\n",
      "  File \"/usr/lib/python3.8/multiprocessing/process.py\", line 315, in _bootstrap\n",
      "    self.run()\n",
      "  File \"/usr/local/lib/python3.8/dist-packages/tensorflow/python/keras/utils/data_utils.py\", line 567, in get_index\n",
      "    return _SHARED_SEQUENCES[uid][i]\n",
      "  File \"/usr/lib/python3.8/multiprocessing/process.py\", line 108, in run\n",
      "    self._target(*self._args, **self._kwargs)\n",
      "  File \"/usr/lib/python3.8/multiprocessing/process.py\", line 108, in run\n",
      "    self._target(*self._args, **self._kwargs)\n",
      "Traceback (most recent call last):\n",
      "  File \"/usr/local/lib/python3.8/dist-packages/tensorflow/python/keras/utils/data_utils.py\", line 567, in get_index\n",
      "    return _SHARED_SEQUENCES[uid][i]\n",
      "  File \"/usr/lib/python3.8/multiprocessing/pool.py\", line 125, in worker\n",
      "    result = (True, func(*args, **kwds))\n",
      "  File \"/usr/lib/python3.8/multiprocessing/pool.py\", line 125, in worker\n",
      "    result = (True, func(*args, **kwds))\n",
      "  File \"<ipython-input-6-d4a43571e59c>\", line 44, in __getitem__\n",
      "    batch_x_features.append(self._load_images(batch_x))\n",
      "  File \"/usr/lib/python3.8/multiprocessing/pool.py\", line 125, in worker\n",
      "    result = (True, func(*args, **kwds))\n",
      "  File \"/usr/lib/python3.8/multiprocessing/queues.py\", line 367, in put\n",
      "    with self._wlock:\n",
      "  File \"/usr/lib/python3.8/multiprocessing/pool.py\", line 125, in worker\n",
      "    result = (True, func(*args, **kwds))\n",
      "  File \"/usr/lib/python3.8/multiprocessing/process.py\", line 108, in run\n",
      "    self._target(*self._args, **self._kwargs)\n",
      "  File \"/usr/lib/python3.8/multiprocessing/pool.py\", line 125, in worker\n",
      "    result = (True, func(*args, **kwds))\n",
      "  File \"/usr/lib/python3.8/multiprocessing/process.py\", line 108, in run\n",
      "    self._target(*self._args, **self._kwargs)\n",
      "  File \"/usr/lib/python3.8/multiprocessing/process.py\", line 315, in _bootstrap\n",
      "    self.run()\n",
      "  File \"/usr/lib/python3.8/multiprocessing/synchronize.py\", line 95, in __enter__\n",
      "    return self._semlock.__enter__()\n",
      "  File \"/usr/lib/python3.8/multiprocessing/connection.py\", line 405, in _send_bytes\n",
      "    self._send(buf)\n",
      "  File \"/usr/lib/python3.8/multiprocessing/process.py\", line 315, in _bootstrap\n",
      "    self.run()\n",
      "  File \"/usr/local/lib/python3.8/dist-packages/tensorflow/python/keras/utils/data_utils.py\", line 567, in get_index\n",
      "    return _SHARED_SEQUENCES[uid][i]\n",
      "  File \"<ipython-input-6-d4a43571e59c>\", line 44, in __getitem__\n",
      "    batch_x_features.append(self._load_images(batch_x))\n",
      "  File \"/usr/lib/python3.8/multiprocessing/process.py\", line 108, in run\n",
      "    self._target(*self._args, **self._kwargs)\n",
      "  File \"/usr/lib/python3.8/multiprocessing/pool.py\", line 125, in worker\n",
      "    result = (True, func(*args, **kwds))\n",
      "  File \"/usr/lib/python3.8/multiprocessing/connection.py\", line 368, in _send\n",
      "    n = write(self._handle, buf)\n",
      "  File \"/usr/local/lib/python3.8/dist-packages/tensorflow/python/keras/utils/data_utils.py\", line 567, in get_index\n",
      "    return _SHARED_SEQUENCES[uid][i]\n",
      "  File \"<ipython-input-6-d4a43571e59c>\", line 18, in _load_images\n",
      "    img = imgproc.load_img(os.path.join(dirname, filename))\n",
      "  File \"/usr/local/lib/python3.8/dist-packages/tensorflow/python/keras/utils/data_utils.py\", line 567, in get_index\n",
      "    return _SHARED_SEQUENCES[uid][i]\n",
      "  File \"/usr/local/lib/python3.8/dist-packages/tensorflow/python/keras/utils/data_utils.py\", line 567, in get_index\n",
      "    return _SHARED_SEQUENCES[uid][i]\n",
      "  File \"/usr/lib/python3.8/multiprocessing/process.py\", line 108, in run\n",
      "    self._target(*self._args, **self._kwargs)\n",
      "  File \"/usr/lib/python3.8/multiprocessing/pool.py\", line 125, in worker\n",
      "    result = (True, func(*args, **kwds))\n",
      "  File \"/usr/local/lib/python3.8/dist-packages/tensorflow/python/keras/utils/data_utils.py\", line 567, in get_index\n",
      "    return _SHARED_SEQUENCES[uid][i]\n",
      "  File \"<ipython-input-6-d4a43571e59c>\", line 44, in __getitem__\n",
      "    batch_x_features.append(self._load_images(batch_x))\n",
      "  File \"<ipython-input-6-d4a43571e59c>\", line 44, in __getitem__\n",
      "    batch_x_features.append(self._load_images(batch_x))\n",
      "  File \"/usr/local/lib/python3.8/dist-packages/tensorflow/python/keras/utils/data_utils.py\", line 567, in get_index\n",
      "    return _SHARED_SEQUENCES[uid][i]\n"
     ]
    },
    {
     "name": "stderr",
     "output_type": "stream",
     "text": [
      "  File \"<ipython-input-6-d4a43571e59c>\", line 44, in __getitem__\n",
      "    batch_x_features.append(self._load_images(batch_x))\n",
      "  File \"<ipython-input-6-d4a43571e59c>\", line 18, in _load_images\n",
      "    img = imgproc.load_img(os.path.join(dirname, filename))\n",
      "  File \"/usr/lib/python3.8/multiprocessing/pool.py\", line 125, in worker\n",
      "    result = (True, func(*args, **kwds))\n",
      "  File \"<ipython-input-6-d4a43571e59c>\", line 24, in _load_images\n",
      "    images[video_index][sequence_index] = np.concatenate(pilimg, axis=2) / 255.\n",
      "KeyboardInterrupt\n",
      "  File \"<ipython-input-6-d4a43571e59c>\", line 44, in __getitem__\n",
      "    batch_x_features.append(self._load_images(batch_x))\n",
      "  File \"<ipython-input-6-d4a43571e59c>\", line 18, in _load_images\n",
      "    img = imgproc.load_img(os.path.join(dirname, filename))\n",
      "  File \"/usr/lib/python3.8/multiprocessing/pool.py\", line 125, in worker\n",
      "    result = (True, func(*args, **kwds))\n",
      "  File \"/usr/lib/python3.8/multiprocessing/process.py\", line 108, in run\n",
      "    self._target(*self._args, **self._kwargs)\n",
      "  File \"/usr/local/lib/python3.8/dist-packages/tensorflow/python/keras/preprocessing/image.py\", line 299, in load_img\n",
      "    return image.load_img(path, grayscale=grayscale, color_mode=color_mode,\n",
      "  File \"/usr/lib/python3.8/multiprocessing/pool.py\", line 125, in worker\n",
      "    result = (True, func(*args, **kwds))\n",
      "  File \"/usr/local/lib/python3.8/dist-packages/tensorflow/python/keras/utils/data_utils.py\", line 567, in get_index\n",
      "    return _SHARED_SEQUENCES[uid][i]\n",
      "  File \"<ipython-input-6-d4a43571e59c>\", line 18, in _load_images\n",
      "    img = imgproc.load_img(os.path.join(dirname, filename))\n",
      "  File \"<ipython-input-6-d4a43571e59c>\", line 44, in __getitem__\n",
      "    batch_x_features.append(self._load_images(batch_x))\n",
      "  File \"/usr/lib/python3.8/multiprocessing/pool.py\", line 125, in worker\n",
      "    result = (True, func(*args, **kwds))\n",
      "  File \"/usr/local/lib/python3.8/dist-packages/tensorflow/python/keras/utils/data_utils.py\", line 567, in get_index\n",
      "    return _SHARED_SEQUENCES[uid][i]\n",
      "KeyboardInterrupt\n",
      "  File \"/usr/local/lib/python3.8/dist-packages/tensorflow/python/keras/preprocessing/image.py\", line 299, in load_img\n",
      "    return image.load_img(path, grayscale=grayscale, color_mode=color_mode,\n",
      "  File \"/usr/local/lib/python3.8/dist-packages/tensorflow/python/keras/utils/data_utils.py\", line 567, in get_index\n",
      "    return _SHARED_SEQUENCES[uid][i]\n",
      "  File \"<ipython-input-6-d4a43571e59c>\", line 18, in _load_images\n",
      "    img = imgproc.load_img(os.path.join(dirname, filename))\n",
      "  File \"/usr/lib/python3.8/multiprocessing/pool.py\", line 125, in worker\n",
      "    result = (True, func(*args, **kwds))\n",
      "  File \"/usr/local/lib/python3.8/dist-packages/keras_preprocessing/image/utils.py\", line 139, in load_img\n",
      "    return img\n",
      "  File \"/usr/local/lib/python3.8/dist-packages/tensorflow/python/keras/preprocessing/image.py\", line 299, in load_img\n",
      "    return image.load_img(path, grayscale=grayscale, color_mode=color_mode,\n",
      "KeyboardInterrupt\n",
      "KeyboardInterrupt\n",
      "  File \"/usr/local/lib/python3.8/dist-packages/tensorflow/python/keras/preprocessing/image.py\", line 299, in load_img\n",
      "    return image.load_img(path, grayscale=grayscale, color_mode=color_mode,\n",
      "  File \"/usr/local/lib/python3.8/dist-packages/keras_preprocessing/image/utils.py\", line 139, in load_img\n",
      "    return img\n",
      "  File \"/usr/local/lib/python3.8/dist-packages/tensorflow/python/keras/utils/data_utils.py\", line 567, in get_index\n",
      "    return _SHARED_SEQUENCES[uid][i]\n",
      "  File \"<ipython-input-6-d4a43571e59c>\", line 44, in __getitem__\n",
      "    batch_x_features.append(self._load_images(batch_x))\n",
      "  File \"/usr/local/lib/python3.8/dist-packages/keras_preprocessing/image/utils.py\", line 113, in load_img\n",
      "    with open(path, 'rb') as f:\n",
      "  File \"<ipython-input-6-d4a43571e59c>\", line 18, in _load_images\n",
      "    img = imgproc.load_img(os.path.join(dirname, filename))\n",
      "  File \"<ipython-input-6-d4a43571e59c>\", line 44, in __getitem__\n",
      "    batch_x_features.append(self._load_images(batch_x))\n",
      "  File \"<ipython-input-6-d4a43571e59c>\", line 44, in __getitem__\n",
      "    batch_x_features.append(self._load_images(batch_x))\n",
      "KeyboardInterrupt\n",
      "  File \"/usr/local/lib/python3.8/dist-packages/tensorflow/python/keras/utils/data_utils.py\", line 567, in get_index\n",
      "    return _SHARED_SEQUENCES[uid][i]\n",
      "  File \"/usr/local/lib/python3.8/dist-packages/tensorflow/python/keras/preprocessing/image.py\", line 299, in load_img\n",
      "    return image.load_img(path, grayscale=grayscale, color_mode=color_mode,\n",
      "  File \"<ipython-input-6-d4a43571e59c>\", line 44, in __getitem__\n",
      "    batch_x_features.append(self._load_images(batch_x))\n",
      "KeyboardInterrupt\n",
      "  File \"<ipython-input-6-d4a43571e59c>\", line 44, in __getitem__\n",
      "    batch_x_features.append(self._load_images(batch_x))\n",
      "  File \"/usr/local/lib/python3.8/dist-packages/keras_preprocessing/image/utils.py\", line 113, in load_img\n",
      "    with open(path, 'rb') as f:\n",
      "  File \"<ipython-input-6-d4a43571e59c>\", line 18, in _load_images\n",
      "    img = imgproc.load_img(os.path.join(dirname, filename))\n",
      "  File \"<ipython-input-6-d4a43571e59c>\", line 18, in _load_images\n",
      "    img = imgproc.load_img(os.path.join(dirname, filename))\n",
      "  File \"/usr/local/lib/python3.8/dist-packages/tensorflow/python/keras/utils/data_utils.py\", line 567, in get_index\n",
      "    return _SHARED_SEQUENCES[uid][i]\n",
      "  File \"/usr/local/lib/python3.8/dist-packages/tensorflow/python/keras/preprocessing/image.py\", line 299, in load_img\n",
      "    return image.load_img(path, grayscale=grayscale, color_mode=color_mode,\n",
      "  File \"<ipython-input-6-d4a43571e59c>\", line 18, in _load_images\n",
      "    img = imgproc.load_img(os.path.join(dirname, filename))\n",
      "  File \"/usr/local/lib/python3.8/dist-packages/tensorflow/python/keras/preprocessing/image.py\", line 299, in load_img\n",
      "    return image.load_img(path, grayscale=grayscale, color_mode=color_mode,\n",
      "  File \"<ipython-input-6-d4a43571e59c>\", line 18, in _load_images\n",
      "    img = imgproc.load_img(os.path.join(dirname, filename))\n",
      "  File \"<ipython-input-6-d4a43571e59c>\", line 18, in _load_images\n",
      "    img = imgproc.load_img(os.path.join(dirname, filename))\n",
      "  File \"<ipython-input-6-d4a43571e59c>\", line 44, in __getitem__\n",
      "    batch_x_features.append(self._load_images(batch_x))\n",
      "KeyboardInterrupt\n",
      "  File \"/usr/local/lib/python3.8/dist-packages/keras_preprocessing/image/utils.py\", line 139, in load_img\n",
      "    return img\n",
      "  File \"/usr/local/lib/python3.8/dist-packages/tensorflow/python/keras/preprocessing/image.py\", line 299, in load_img\n",
      "    return image.load_img(path, grayscale=grayscale, color_mode=color_mode,\n",
      "  File \"/usr/local/lib/python3.8/dist-packages/tensorflow/python/keras/preprocessing/image.py\", line 299, in load_img\n",
      "    return image.load_img(path, grayscale=grayscale, color_mode=color_mode,\n",
      "  File \"/usr/local/lib/python3.8/dist-packages/keras_preprocessing/image/utils.py\", line 113, in load_img\n",
      "    with open(path, 'rb') as f:\n",
      "  File \"/usr/local/lib/python3.8/dist-packages/keras_preprocessing/image/utils.py\", line 113, in load_img\n",
      "    with open(path, 'rb') as f:\n",
      "  File \"<ipython-input-6-d4a43571e59c>\", line 18, in _load_images\n",
      "    img = imgproc.load_img(os.path.join(dirname, filename))\n",
      "KeyboardInterrupt\n",
      "  File \"/usr/local/lib/python3.8/dist-packages/tensorflow/python/keras/preprocessing/image.py\", line 299, in load_img\n",
      "    return image.load_img(path, grayscale=grayscale, color_mode=color_mode,\n",
      "  File \"/usr/local/lib/python3.8/dist-packages/tensorflow/python/keras/preprocessing/image.py\", line 299, in load_img\n",
      "    return image.load_img(path, grayscale=grayscale, color_mode=color_mode,\n",
      "  File \"/usr/local/lib/python3.8/dist-packages/keras_preprocessing/image/utils.py\", line 113, in load_img\n",
      "    with open(path, 'rb') as f:\n",
      "  File \"/usr/local/lib/python3.8/dist-packages/keras_preprocessing/image/utils.py\", line 113, in load_img\n",
      "    with open(path, 'rb') as f:\n",
      "KeyboardInterrupt\n",
      "  File \"/usr/local/lib/python3.8/dist-packages/tensorflow/python/keras/preprocessing/image.py\", line 299, in load_img\n",
      "    return image.load_img(path, grayscale=grayscale, color_mode=color_mode,\n",
      "  File \"/usr/local/lib/python3.8/dist-packages/keras_preprocessing/image/utils.py\", line 114, in load_img\n",
      "    img = pil_image.open(io.BytesIO(f.read()))\n"
     ]
    },
    {
     "name": "stdout",
     "output_type": "stream",
     "text": [
      "\n",
      "*** Epoch 13: Spearman's correlation = 0.0971\n"
     ]
    },
    {
     "name": "stderr",
     "output_type": "stream",
     "text": [
      "  File \"<ipython-input-6-d4a43571e59c>\", line 44, in __getitem__\n",
      "    batch_x_features.append(self._load_images(batch_x))\n",
      "KeyboardInterrupt\n",
      "  File \"/usr/local/lib/python3.8/dist-packages/keras_preprocessing/image/utils.py\", line 114, in load_img\n",
      "    img = pil_image.open(io.BytesIO(f.read()))\n",
      "KeyboardInterrupt\n",
      "KeyboardInterrupt\n",
      "  File \"<ipython-input-6-d4a43571e59c>\", line 18, in _load_images\n",
      "    img = imgproc.load_img(os.path.join(dirname, filename))\n",
      "KeyboardInterrupt\n",
      "  File \"/usr/local/lib/python3.8/dist-packages/keras_preprocessing/image/utils.py\", line 114, in load_img\n",
      "    img = pil_image.open(io.BytesIO(f.read()))\n",
      "  File \"/usr/local/lib/python3.8/dist-packages/PIL/Image.py\", line 2953, in open\n",
      "    im = _open_core(fp, filename, prefix, formats)\n",
      "KeyboardInterrupt\n",
      "  File \"/usr/local/lib/python3.8/dist-packages/tensorflow/python/keras/preprocessing/image.py\", line 299, in load_img\n",
      "    return image.load_img(path, grayscale=grayscale, color_mode=color_mode,\n",
      "  File \"/usr/local/lib/python3.8/dist-packages/keras_preprocessing/image/utils.py\", line 113, in load_img\n",
      "    with open(path, 'rb') as f:\n",
      "  File \"/usr/local/lib/python3.8/dist-packages/PIL/Image.py\", line 2934, in _open_core\n",
      "    result = not accept or accept(prefix)\n",
      "KeyboardInterrupt\n",
      "KeyboardInterrupt\n"
     ]
    },
    {
     "ename": "KeyboardInterrupt",
     "evalue": "",
     "output_type": "error",
     "traceback": [
      "\u001b[0;31m---------------------------------------------------------------------------\u001b[0m",
      "\u001b[0;31mKeyboardInterrupt\u001b[0m                         Traceback (most recent call last)",
      "\u001b[0;32m<ipython-input-8-15c4e0985f6b>\u001b[0m in \u001b[0;36m<module>\u001b[0;34m\u001b[0m\n\u001b[1;32m     12\u001b[0m         \u001b[0mvalidation_callback\u001b[0m\u001b[0;34m.\u001b[0m\u001b[0mset_run\u001b[0m\u001b[0;34m(\u001b[0m\u001b[0mattempt\u001b[0m\u001b[0;34m,\u001b[0m \u001b[0mmodel\u001b[0m\u001b[0;34m)\u001b[0m\u001b[0;34m\u001b[0m\u001b[0;34m\u001b[0m\u001b[0m\n\u001b[1;32m     13\u001b[0m     ]\n\u001b[0;32m---> 14\u001b[0;31m     model.fit(train_generator,\n\u001b[0m\u001b[1;32m     15\u001b[0m               \u001b[0mepochs\u001b[0m\u001b[0;34m=\u001b[0m\u001b[0mEPOCHS\u001b[0m\u001b[0;34m,\u001b[0m\u001b[0;34m\u001b[0m\u001b[0;34m\u001b[0m\u001b[0m\n\u001b[1;32m     16\u001b[0m               \u001b[0msteps_per_epoch\u001b[0m\u001b[0;34m=\u001b[0m\u001b[0mtrain_size\u001b[0m\u001b[0;34m//\u001b[0m\u001b[0mBATCH_SIZE\u001b[0m\u001b[0;34m,\u001b[0m\u001b[0;34m\u001b[0m\u001b[0;34m\u001b[0m\u001b[0m\n",
      "\u001b[0;32m/usr/local/lib/python3.8/dist-packages/tensorflow/python/keras/engine/training.py\u001b[0m in \u001b[0;36mfit\u001b[0;34m(self, x, y, batch_size, epochs, verbose, callbacks, validation_split, validation_data, shuffle, class_weight, sample_weight, initial_epoch, steps_per_epoch, validation_steps, validation_batch_size, validation_freq, max_queue_size, workers, use_multiprocessing)\u001b[0m\n\u001b[1;32m   1098\u001b[0m                 _r=1):\n\u001b[1;32m   1099\u001b[0m               \u001b[0mcallbacks\u001b[0m\u001b[0;34m.\u001b[0m\u001b[0mon_train_batch_begin\u001b[0m\u001b[0;34m(\u001b[0m\u001b[0mstep\u001b[0m\u001b[0;34m)\u001b[0m\u001b[0;34m\u001b[0m\u001b[0;34m\u001b[0m\u001b[0m\n\u001b[0;32m-> 1100\u001b[0;31m               \u001b[0mtmp_logs\u001b[0m \u001b[0;34m=\u001b[0m \u001b[0mself\u001b[0m\u001b[0;34m.\u001b[0m\u001b[0mtrain_function\u001b[0m\u001b[0;34m(\u001b[0m\u001b[0miterator\u001b[0m\u001b[0;34m)\u001b[0m\u001b[0;34m\u001b[0m\u001b[0;34m\u001b[0m\u001b[0m\n\u001b[0m\u001b[1;32m   1101\u001b[0m               \u001b[0;32mif\u001b[0m \u001b[0mdata_handler\u001b[0m\u001b[0;34m.\u001b[0m\u001b[0mshould_sync\u001b[0m\u001b[0;34m:\u001b[0m\u001b[0;34m\u001b[0m\u001b[0;34m\u001b[0m\u001b[0m\n\u001b[1;32m   1102\u001b[0m                 \u001b[0mcontext\u001b[0m\u001b[0;34m.\u001b[0m\u001b[0masync_wait\u001b[0m\u001b[0;34m(\u001b[0m\u001b[0;34m)\u001b[0m\u001b[0;34m\u001b[0m\u001b[0;34m\u001b[0m\u001b[0m\n",
      "\u001b[0;32m/usr/local/lib/python3.8/dist-packages/tensorflow/python/eager/def_function.py\u001b[0m in \u001b[0;36m__call__\u001b[0;34m(self, *args, **kwds)\u001b[0m\n\u001b[1;32m    826\u001b[0m     \u001b[0mtracing_count\u001b[0m \u001b[0;34m=\u001b[0m \u001b[0mself\u001b[0m\u001b[0;34m.\u001b[0m\u001b[0mexperimental_get_tracing_count\u001b[0m\u001b[0;34m(\u001b[0m\u001b[0;34m)\u001b[0m\u001b[0;34m\u001b[0m\u001b[0;34m\u001b[0m\u001b[0m\n\u001b[1;32m    827\u001b[0m     \u001b[0;32mwith\u001b[0m \u001b[0mtrace\u001b[0m\u001b[0;34m.\u001b[0m\u001b[0mTrace\u001b[0m\u001b[0;34m(\u001b[0m\u001b[0mself\u001b[0m\u001b[0;34m.\u001b[0m\u001b[0m_name\u001b[0m\u001b[0;34m)\u001b[0m \u001b[0;32mas\u001b[0m \u001b[0mtm\u001b[0m\u001b[0;34m:\u001b[0m\u001b[0;34m\u001b[0m\u001b[0;34m\u001b[0m\u001b[0m\n\u001b[0;32m--> 828\u001b[0;31m       \u001b[0mresult\u001b[0m \u001b[0;34m=\u001b[0m \u001b[0mself\u001b[0m\u001b[0;34m.\u001b[0m\u001b[0m_call\u001b[0m\u001b[0;34m(\u001b[0m\u001b[0;34m*\u001b[0m\u001b[0margs\u001b[0m\u001b[0;34m,\u001b[0m \u001b[0;34m**\u001b[0m\u001b[0mkwds\u001b[0m\u001b[0;34m)\u001b[0m\u001b[0;34m\u001b[0m\u001b[0;34m\u001b[0m\u001b[0m\n\u001b[0m\u001b[1;32m    829\u001b[0m       \u001b[0mcompiler\u001b[0m \u001b[0;34m=\u001b[0m \u001b[0;34m\"xla\"\u001b[0m \u001b[0;32mif\u001b[0m \u001b[0mself\u001b[0m\u001b[0;34m.\u001b[0m\u001b[0m_experimental_compile\u001b[0m \u001b[0;32melse\u001b[0m \u001b[0;34m\"nonXla\"\u001b[0m\u001b[0;34m\u001b[0m\u001b[0;34m\u001b[0m\u001b[0m\n\u001b[1;32m    830\u001b[0m       \u001b[0mnew_tracing_count\u001b[0m \u001b[0;34m=\u001b[0m \u001b[0mself\u001b[0m\u001b[0;34m.\u001b[0m\u001b[0mexperimental_get_tracing_count\u001b[0m\u001b[0;34m(\u001b[0m\u001b[0;34m)\u001b[0m\u001b[0;34m\u001b[0m\u001b[0;34m\u001b[0m\u001b[0m\n",
      "\u001b[0;32m/usr/local/lib/python3.8/dist-packages/tensorflow/python/eager/def_function.py\u001b[0m in \u001b[0;36m_call\u001b[0;34m(self, *args, **kwds)\u001b[0m\n\u001b[1;32m    853\u001b[0m       \u001b[0;31m# In this case we have created variables on the first call, so we run the\u001b[0m\u001b[0;34m\u001b[0m\u001b[0;34m\u001b[0m\u001b[0;34m\u001b[0m\u001b[0m\n\u001b[1;32m    854\u001b[0m       \u001b[0;31m# defunned version which is guaranteed to never create variables.\u001b[0m\u001b[0;34m\u001b[0m\u001b[0;34m\u001b[0m\u001b[0;34m\u001b[0m\u001b[0m\n\u001b[0;32m--> 855\u001b[0;31m       \u001b[0;32mreturn\u001b[0m \u001b[0mself\u001b[0m\u001b[0;34m.\u001b[0m\u001b[0m_stateless_fn\u001b[0m\u001b[0;34m(\u001b[0m\u001b[0;34m*\u001b[0m\u001b[0margs\u001b[0m\u001b[0;34m,\u001b[0m \u001b[0;34m**\u001b[0m\u001b[0mkwds\u001b[0m\u001b[0;34m)\u001b[0m  \u001b[0;31m# pylint: disable=not-callable\u001b[0m\u001b[0;34m\u001b[0m\u001b[0;34m\u001b[0m\u001b[0m\n\u001b[0m\u001b[1;32m    856\u001b[0m     \u001b[0;32melif\u001b[0m \u001b[0mself\u001b[0m\u001b[0;34m.\u001b[0m\u001b[0m_stateful_fn\u001b[0m \u001b[0;32mis\u001b[0m \u001b[0;32mnot\u001b[0m \u001b[0;32mNone\u001b[0m\u001b[0;34m:\u001b[0m\u001b[0;34m\u001b[0m\u001b[0;34m\u001b[0m\u001b[0m\n\u001b[1;32m    857\u001b[0m       \u001b[0;31m# Release the lock early so that multiple threads can perform the call\u001b[0m\u001b[0;34m\u001b[0m\u001b[0;34m\u001b[0m\u001b[0;34m\u001b[0m\u001b[0m\n",
      "\u001b[0;32m/usr/local/lib/python3.8/dist-packages/tensorflow/python/eager/function.py\u001b[0m in \u001b[0;36m__call__\u001b[0;34m(self, *args, **kwargs)\u001b[0m\n\u001b[1;32m   2940\u001b[0m       (graph_function,\n\u001b[1;32m   2941\u001b[0m        filtered_flat_args) = self._maybe_define_function(args, kwargs)\n\u001b[0;32m-> 2942\u001b[0;31m     return graph_function._call_flat(\n\u001b[0m\u001b[1;32m   2943\u001b[0m         filtered_flat_args, captured_inputs=graph_function.captured_inputs)  # pylint: disable=protected-access\n\u001b[1;32m   2944\u001b[0m \u001b[0;34m\u001b[0m\u001b[0m\n",
      "\u001b[0;32m/usr/local/lib/python3.8/dist-packages/tensorflow/python/eager/function.py\u001b[0m in \u001b[0;36m_call_flat\u001b[0;34m(self, args, captured_inputs, cancellation_manager)\u001b[0m\n\u001b[1;32m   1916\u001b[0m         and executing_eagerly):\n\u001b[1;32m   1917\u001b[0m       \u001b[0;31m# No tape is watching; skip to running the function.\u001b[0m\u001b[0;34m\u001b[0m\u001b[0;34m\u001b[0m\u001b[0;34m\u001b[0m\u001b[0m\n\u001b[0;32m-> 1918\u001b[0;31m       return self._build_call_outputs(self._inference_function.call(\n\u001b[0m\u001b[1;32m   1919\u001b[0m           ctx, args, cancellation_manager=cancellation_manager))\n\u001b[1;32m   1920\u001b[0m     forward_backward = self._select_forward_and_backward_functions(\n",
      "\u001b[0;32m/usr/local/lib/python3.8/dist-packages/tensorflow/python/eager/function.py\u001b[0m in \u001b[0;36mcall\u001b[0;34m(self, ctx, args, cancellation_manager)\u001b[0m\n\u001b[1;32m    553\u001b[0m       \u001b[0;32mwith\u001b[0m \u001b[0m_InterpolateFunctionError\u001b[0m\u001b[0;34m(\u001b[0m\u001b[0mself\u001b[0m\u001b[0;34m)\u001b[0m\u001b[0;34m:\u001b[0m\u001b[0;34m\u001b[0m\u001b[0;34m\u001b[0m\u001b[0m\n\u001b[1;32m    554\u001b[0m         \u001b[0;32mif\u001b[0m \u001b[0mcancellation_manager\u001b[0m \u001b[0;32mis\u001b[0m \u001b[0;32mNone\u001b[0m\u001b[0;34m:\u001b[0m\u001b[0;34m\u001b[0m\u001b[0;34m\u001b[0m\u001b[0m\n\u001b[0;32m--> 555\u001b[0;31m           outputs = execute.execute(\n\u001b[0m\u001b[1;32m    556\u001b[0m               \u001b[0mstr\u001b[0m\u001b[0;34m(\u001b[0m\u001b[0mself\u001b[0m\u001b[0;34m.\u001b[0m\u001b[0msignature\u001b[0m\u001b[0;34m.\u001b[0m\u001b[0mname\u001b[0m\u001b[0;34m)\u001b[0m\u001b[0;34m,\u001b[0m\u001b[0;34m\u001b[0m\u001b[0;34m\u001b[0m\u001b[0m\n\u001b[1;32m    557\u001b[0m               \u001b[0mnum_outputs\u001b[0m\u001b[0;34m=\u001b[0m\u001b[0mself\u001b[0m\u001b[0;34m.\u001b[0m\u001b[0m_num_outputs\u001b[0m\u001b[0;34m,\u001b[0m\u001b[0;34m\u001b[0m\u001b[0;34m\u001b[0m\u001b[0m\n",
      "\u001b[0;32m/usr/local/lib/python3.8/dist-packages/tensorflow/python/eager/execute.py\u001b[0m in \u001b[0;36mquick_execute\u001b[0;34m(op_name, num_outputs, inputs, attrs, ctx, name)\u001b[0m\n\u001b[1;32m     57\u001b[0m   \u001b[0;32mtry\u001b[0m\u001b[0;34m:\u001b[0m\u001b[0;34m\u001b[0m\u001b[0;34m\u001b[0m\u001b[0m\n\u001b[1;32m     58\u001b[0m     \u001b[0mctx\u001b[0m\u001b[0;34m.\u001b[0m\u001b[0mensure_initialized\u001b[0m\u001b[0;34m(\u001b[0m\u001b[0;34m)\u001b[0m\u001b[0;34m\u001b[0m\u001b[0;34m\u001b[0m\u001b[0m\n\u001b[0;32m---> 59\u001b[0;31m     tensors = pywrap_tfe.TFE_Py_Execute(ctx._handle, device_name, op_name,\n\u001b[0m\u001b[1;32m     60\u001b[0m                                         inputs, attrs, num_outputs)\n\u001b[1;32m     61\u001b[0m   \u001b[0;32mexcept\u001b[0m \u001b[0mcore\u001b[0m\u001b[0;34m.\u001b[0m\u001b[0m_NotOkStatusException\u001b[0m \u001b[0;32mas\u001b[0m \u001b[0me\u001b[0m\u001b[0;34m:\u001b[0m\u001b[0;34m\u001b[0m\u001b[0;34m\u001b[0m\u001b[0m\n",
      "\u001b[0;31mKeyboardInterrupt\u001b[0m: "
     ]
    }
   ],
   "source": [
    "# train model\n",
    "train_generator = make_generator(X_train, y_train, True, WORKERS).get()\n",
    "validation_callback = SpearmanCalcCallback(X_test, y_test, BATCH_SIZE, WORKERS)\n",
    "for attempt in range(TRAINING_ITERATIONS):\n",
    "    model = functional_model()\n",
    "    model.compile(\n",
    "        optimizer='adam',\n",
    "        loss='mse'\n",
    "    )\n",
    "    callbacks = [\n",
    "        keras.callbacks.TensorBoard(log_dir=os.path.join(logs_dir, \"{}\".format(time()))),\n",
    "        validation_callback.set_run(attempt, model)\n",
    "    ]\n",
    "    model.fit(train_generator,\n",
    "              epochs=EPOCHS,\n",
    "              steps_per_epoch=train_size//BATCH_SIZE,\n",
    "              callbacks=callbacks)"
   ]
  }
 ],
 "metadata": {
  "kernelspec": {
   "display_name": "Python 3",
   "language": "python",
   "name": "python3"
  },
  "language_info": {
   "codemirror_mode": {
    "name": "ipython",
    "version": 3
   },
   "file_extension": ".py",
   "mimetype": "text/x-python",
   "name": "python",
   "nbconvert_exporter": "python",
   "pygments_lexer": "ipython3",
   "version": "3.8.5"
  }
 },
 "nbformat": 4,
 "nbformat_minor": 4
}
