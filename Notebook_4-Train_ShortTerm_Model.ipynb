{
 "cells": [
  {
   "cell_type": "code",
   "execution_count": 9,
   "metadata": {
    "scrolled": false
   },
   "outputs": [
    {
     "name": "stdout",
     "output_type": "stream",
     "text": [
      "The tensorboard extension is already loaded. To reload it, use:\n",
      "  %reload_ext tensorboard\n",
      "Num GPUs Available: 1\n",
      "Tensorflow version: 2.4.0\n",
      "Using seed value: 20212042\n"
     ]
    }
   ],
   "source": [
    "#!apt-get update ; apt-get install -y graphviz libgraphviz-dev\n",
    "#%pip install pydot\n",
    "# %pip install tqdm\n",
    "# %pip install pandas\n",
    "# %pip install sklearn\n",
    "# %pip install pillow\n",
    "# %pip install seaborn\n",
    "from tensorflow import keras\n",
    "import tensorflow\n",
    "import pandas as pd\n",
    "import numpy as np\n",
    "import functools\n",
    "from time import time\n",
    "import matplotlib.pyplot as plt\n",
    "import math\n",
    "from tensorflow.keras.preprocessing import image as imgproc\n",
    "from sklearn.model_selection import train_test_split\n",
    "from tensorflow.keras.layers import Conv2D, BatchNormalization, MaxPool2D, GlobalMaxPool2D, Flatten, AveragePooling2D, LSTM, ConvLSTM2D\n",
    "from tensorflow.keras.layers import TimeDistributed, Bidirectional, GRU, Dense, Dropout, Conv3D, MaxPooling3D, GlobalMaxPool3D\n",
    "from tensorflow.keras.utils import Sequence, OrderedEnqueuer\n",
    "import tensorflow as tf\n",
    "from glob import glob\n",
    "from tqdm import tqdm\n",
    "import numpy as np\n",
    "from sklearn.utils import shuffle\n",
    "from sklearn.metrics import mean_squared_error\n",
    "import seaborn as sns\n",
    "from tensorflow.keras.models import load_model\n",
    "import matplotlib.pyplot as plt\n",
    "import tempfile\n",
    "from sklearn.preprocessing import MinMaxScaler\n",
    "import os\n",
    "import random\n",
    "from datetime import datetime\n",
    "%load_ext tensorboard\n",
    "%matplotlib inline\n",
    "print(\"Num GPUs Available:\", len(tf.config.list_physical_devices('GPU')))\n",
    "print(\"Tensorflow version:\", tensorflow.__version__)\n",
    "\n",
    "physical_devices = tf.config.experimental.list_physical_devices('GPU')\n",
    "if len(physical_devices) > 0:\n",
    "    tf.config.experimental.set_memory_growth(physical_devices[0], True)\n",
    "    \n",
    "# Attempt to make runs more reproducible\n",
    "seed_value=20212042\n",
    "print(\"Using seed value: %d\" % seed_value)\n",
    "os.environ['PYTHONHASHSEED']=str(seed_value)\n",
    "random.seed(seed_value)\n",
    "np.random.seed(seed_value)\n",
    "tf.random.set_seed(seed_value) # tensorflow 2.x"
   ]
  },
  {
   "cell_type": "markdown",
   "metadata": {},
   "source": [
    "## Set Parameters"
   ]
  },
  {
   "cell_type": "code",
   "execution_count": 10,
   "metadata": {},
   "outputs": [],
   "source": [
    "# set up paths\n",
    "base_dir = \"/workspace/C684_Assignment/\"\n",
    "processing_dir = os.path.join(base_dir, \"processing\")\n",
    "frames_dir = os.path.join(processing_dir, \"att_maps\")\n",
    "train_dir = os.path.join(base_dir, \"training\")\n",
    "train_frame_dir = os.path.join(train_dir, \"train_frames\")\n",
    "chkp_dir = os.path.join(train_dir, \"chkp\")\n",
    "if not os.path.exists(chkp_dir):\n",
    "    os.makedirs(chkp_dir)\n",
    "logs_dir = os.path.join(train_dir, \"logs\")\n",
    "if not os.path.exists(logs_dir):\n",
    "    os.makedirs(logs_dir)\n",
    "    \n",
    "# some global params\n",
    "SHORT_TERM_MODEL = False\n",
    "SIZE = (70, 70)\n",
    "USE_ATT_MAPS = False\n",
    "USE_AMNET_PRED = True\n",
    "ATT_MAPS = [ 0, 1, 2 ] # full list - [ 0, 1, 2 ]\n",
    "RGB = True\n",
    "FRAME_INDEXES = [0, 48, 96, 144] # full list - [0, 24, 48, 72, 96, 120, 144]\n",
    "BATCH_SIZE=32\n",
    "TRAINING_ITERATIONS=4\n",
    "EPOCHS=20\n",
    "MULTIPROCESSING=True\n",
    "WORKERS=8\n",
    "SPEARMAN_THRESHOLD = 0.43\n",
    "CHANNELS = len(ATT_MAPS) * (3 if RGB else 1)\n",
    "NBFRAME = len(FRAME_INDEXES)"
   ]
  },
  {
   "cell_type": "markdown",
   "metadata": {},
   "source": [
    "## Load Train and Test Data"
   ]
  },
  {
   "cell_type": "code",
   "execution_count": 11,
   "metadata": {},
   "outputs": [
    {
     "data": {
      "text/plain": [
       "count    224000.000000\n",
       "mean          0.600106\n",
       "std           0.160918\n",
       "min           0.000000\n",
       "25%           0.487308\n",
       "50%           0.628983\n",
       "75%           0.726435\n",
       "max           1.000000\n",
       "Name: Y_pred, dtype: float64"
      ]
     },
     "metadata": {},
     "output_type": "display_data"
    }
   ],
   "source": [
    "# load data\n",
    "amnet_preds = pd.read_csv(os.path.join(processing_dir, \"all_amnet_pred.csv\")).set_index(\"video\")\n",
    "amnet_preds[\"Y_pred\"] = MinMaxScaler().fit_transform(amnet_preds[\"Y_pred\"].values.reshape(-1, 1))\n",
    "display(amnet_preds[\"Y_pred\"].describe())\n",
    "dev_videos = pd.read_csv(os.path.join(processing_dir, \"amnet_devset_preds.csv\"))\n",
    "dev_videos_train = dev_videos[dev_videos[\"test\"]==False]\n",
    "dev_videos_test = dev_videos[dev_videos[\"test\"]==True]"
   ]
  },
  {
   "cell_type": "markdown",
   "metadata": {},
   "source": [
    "## Plot Ground Truth Memorability Histograms"
   ]
  },
  {
   "cell_type": "code",
   "execution_count": 12,
   "metadata": {},
   "outputs": [
    {
     "name": "stdout",
     "output_type": "stream",
     "text": [
      "Train size: 5100. Test size: 900\n"
     ]
    },
    {
     "data": {
      "image/png": "[encoded data removed]",
      "text/plain": [
       "<Figure size 432x288 with 1 Axes>"
      ]
     },
     "metadata": {
      "needs_background": "light"
     },
     "output_type": "display_data"
    }
   ],
   "source": [
    "# train/test y_true histogram\n",
    "X_train = dev_videos_train[\"video\"]\n",
    "y_train = dev_videos_train[\"short-term_memorability\"] if SHORT_TERM_MODEL else dev_videos_train[\"long-term_memorability\"]\n",
    "X_test = dev_videos_test[\"video\"]\n",
    "y_test = dev_videos_test[\"short-term_memorability\"] if SHORT_TERM_MODEL else dev_videos_test[\"long-term_memorability\"]\n",
    "train_size = X_train.shape[0]\n",
    "test_size = X_test.shape[0]\n",
    "print(\"Train size: %d. Test size: %d\" % (train_size, test_size))\n",
    "plt.hist(y_train, color='blue')\n",
    "plt.hist(y_test, color='green')\n",
    "plt.show()"
   ]
  },
  {
   "cell_type": "markdown",
   "metadata": {},
   "source": [
    "## Calculate Baseline Performance"
   ]
  },
  {
   "cell_type": "code",
   "execution_count": 13,
   "metadata": {},
   "outputs": [
    {
     "name": "stdout",
     "output_type": "stream",
     "text": [
      "AMNet Overall: short-term score=0.4183|mse=0.0194, long-term score=0.2143|mse=0.0232\n",
      "AMNet Train: short-term score=0.4175|mse=0.0194, long-term score=0.2196|mse=0.0231\n",
      "AMNet Test: short-term score=0.4214|mse=0.0195, long-term score=0.1867|mse=0.0235\n"
     ]
    }
   ],
   "source": [
    "# calculate AMNet scores\n",
    "def calc_spearman(a1, a2):\n",
    "    Res = pd.DataFrame()\n",
    "    Res[\"Y_true\"] = a1\n",
    "    Res[\"Y_pred\"] = a2\n",
    "    return Res[['Y_true','Y_pred']].corr(method='spearman',min_periods=1).iloc[1][0]\n",
    "\n",
    "amnet_short_score = calc_spearman(dev_videos[\"short-term_memorability\"], dev_videos[\"Y_pred\"])\n",
    "amnet_short_mse = mean_squared_error(dev_videos[\"short-term_memorability\"], dev_videos[\"Y_pred\"])\n",
    "amnet_long_score = calc_spearman(dev_videos[\"long-term_memorability\"], dev_videos[\"Y_pred\"])\n",
    "amnet_long_mse = mean_squared_error(dev_videos[\"long-term_memorability\"], dev_videos[\"Y_pred\"])\n",
    "print(\"AMNet Overall: short-term score=%.04f|mse=%.04f, long-term score=%.04f|mse=%.04f\"\n",
    "      % (amnet_short_score, amnet_short_mse, amnet_long_score, amnet_long_mse))\n",
    "amnet_short_score = calc_spearman(dev_videos_train[\"short-term_memorability\"], dev_videos_train[\"Y_pred\"])\n",
    "amnet_short_mse = mean_squared_error(dev_videos_train[\"short-term_memorability\"], dev_videos_train[\"Y_pred\"])\n",
    "amnet_long_score = calc_spearman(dev_videos_train[\"long-term_memorability\"], dev_videos_train[\"Y_pred\"])\n",
    "amnet_long_mse = mean_squared_error(dev_videos_train[\"long-term_memorability\"], dev_videos_train[\"Y_pred\"])\n",
    "print(\"AMNet Train: short-term score=%.04f|mse=%.04f, long-term score=%.04f|mse=%.04f\"\n",
    "      % (amnet_short_score, amnet_short_mse, amnet_long_score, amnet_long_mse))\n",
    "amnet_short_score = calc_spearman(dev_videos_test[\"short-term_memorability\"], dev_videos_test[\"Y_pred\"])\n",
    "amnet_short_mse = mean_squared_error(dev_videos_test[\"short-term_memorability\"], dev_videos_test[\"Y_pred\"])\n",
    "amnet_long_score = calc_spearman(dev_videos_test[\"long-term_memorability\"], dev_videos_test[\"Y_pred\"])\n",
    "amnet_long_mse = mean_squared_error(dev_videos_test[\"long-term_memorability\"], dev_videos_test[\"Y_pred\"])\n",
    "print(\"AMNet Test: short-term score=%.04f|mse=%.04f, long-term score=%.04f|mse=%.04f\"\n",
    "      % (amnet_short_score, amnet_short_mse, amnet_long_score, amnet_long_mse))"
   ]
  },
  {
   "cell_type": "markdown",
   "metadata": {},
   "source": [
    "## Define Generator and Callback Classes"
   ]
  },
  {
   "cell_type": "code",
   "execution_count": 14,
   "metadata": {},
   "outputs": [],
   "source": [
    "class TrainTestSequence(Sequence):\n",
    "    def __init__(self, X_set, y_set, do_shuffle):\n",
    "        self.x, self.y = X_set, y_set\n",
    "        self.do_shuffle = do_shuffle\n",
    "        self.on_epoch_end()\n",
    "        \n",
    "    def __len__(self):\n",
    "        return len(self.x) // BATCH_SIZE\n",
    "    \n",
    "    def _load_images(self, batch):\n",
    "        images = np.zeros((len(batch), NBFRAME, SIZE[0], SIZE[1], CHANNELS))\n",
    "        for video_index, video in enumerate(batch):\n",
    "            for sequence_index, frame_index in enumerate(FRAME_INDEXES):\n",
    "                filename = \"%s_%d_att.jpg\" % (video, frame_index)\n",
    "                pilimg = []\n",
    "                for img_index in ATT_MAPS:\n",
    "                    dirname = \"%s-%d\" % (train_frame_dir, img_index)\n",
    "                    img = imgproc.load_img(os.path.join(dirname, filename))\n",
    "                    if not RGB:\n",
    "                        img = img.convert('L')\n",
    "                    img = img.resize(SIZE)\n",
    "                    img = imgproc.img_to_array(img)\n",
    "                    pilimg.append(img)\n",
    "                images[video_index][sequence_index] = np.concatenate(pilimg, axis=2) / 255.\n",
    "        return images\n",
    "    \n",
    "    def _load_amnet_preds(self, batch):\n",
    "        batch_amnet_preds = np.zeros((len(batch), NBFRAME))\n",
    "        for video_index, video in enumerate(batch):\n",
    "            for sequence_index, frame_index in enumerate(FRAME_INDEXES):\n",
    "                frame_id = \"%s_%d\" % (video, frame_index)\n",
    "                batch_amnet_preds[video_index][sequence_index] = amnet_preds.loc[frame_id, \"Y_pred\"]\n",
    "        return batch_amnet_preds\n",
    "    \n",
    "    def on_epoch_end(self):\n",
    "        if self.do_shuffle:\n",
    "            self.x, self.y = shuffle(self.x, self.y)\n",
    "            \n",
    "    def __getitem__(self, idx):\n",
    "        batch_x = self.x[idx * BATCH_SIZE:(idx + 1) * BATCH_SIZE]\n",
    "        batch_y = self.y[idx * BATCH_SIZE:(idx + 1) * BATCH_SIZE]\n",
    "        batch_x_features = []\n",
    "        if USE_ATT_MAPS:\n",
    "            batch_x_features.append(self._load_images(batch_x))\n",
    "        if USE_AMNET_PRED:\n",
    "            batch_x_features.append(self._load_amnet_preds(batch_x))\n",
    "        return batch_x_features, np.array(batch_y)\n",
    "\n",
    "def make_generator(X_set, y_set, shuffle, worker_count):\n",
    "    seq = TrainTestSequence(X_set, y_set, shuffle)\n",
    "    enq = OrderedEnqueuer(seq, use_multiprocessing=MULTIPROCESSING, shuffle=shuffle)\n",
    "    enq.start(workers=worker_count, max_queue_size=worker_count*20)\n",
    "    return enq\n",
    "\n",
    "class SpearmanCalcCallback(keras.callbacks.Callback):\n",
    "    def __init__(self, X_test, y_test, batch_size, worker_count):\n",
    "        batch_remainder = y_test.shape[0] % batch_size\n",
    "        self.steps = y_test.shape[0] // batch_size\n",
    "        self.y_test = y_test[:-batch_remainder]\n",
    "        self.X_test = X_test[:-batch_remainder]\n",
    "        self.worker_count = worker_count\n",
    "        self.generator = make_generator(self.X_test, self.y_test, False, self.worker_count)\n",
    "        \n",
    "    def on_epoch_end(self, zero_based_epoch, logs=None):\n",
    "        epoch = zero_based_epoch + 1\n",
    "        y_pred = self.model.predict(self.generator.get(), steps=self.steps)\n",
    "        \n",
    "        # reset generator before next epoch\n",
    "        self.generator.stop()\n",
    "        self.generator.start(workers=self.worker_count)\n",
    "        \n",
    "        Res = pd.DataFrame()\n",
    "        Res[\"Y_true\"] = self.y_test\n",
    "        Res[\"Y_pred\"] = y_pred\n",
    "        score_mat = Res[['Y_true','Y_pred']].corr(method='spearman',min_periods=1).iloc[1][0]\n",
    "        print()\n",
    "        print(\"*** Epoch %d: Spearman's correlation = %.4f\" % (epoch, score_mat))\n",
    "        mse = mean_squared_error(Res[\"Y_true\"], Res[\"Y_pred\"])\n",
    "        print(\"*** Epoch %d: MSE = %.4f\" % (epoch, mse))\n",
    "        plt.hist(y_pred)\n",
    "        plt.show()\n",
    "            \n",
    "        if score_mat > SPEARMAN_THRESHOLD:\n",
    "            model_file = os.path.join(chkp_dir, \"weights-%.04f-%s-%d.hdf5\" % (score_mat, self.run_id, epoch))\n",
    "            print(\"*** Saving model to file %s\" % model_file)\n",
    "            model.save(model_file)\n",
    "        print()\n",
    "\n",
    "    def set_run(self, run_id, model):\n",
    "        timestamp = datetime.now().strftime(\"%d_%m_%Y_%H_%M\")\n",
    "        self.run_id = \"%s-%d\" % (timestamp, run_id)\n",
    "        self.model = model\n",
    "        return self\n",
    "    \n",
    "    def evaluate_model(self, model):\n",
    "        self.set_run(0, model)\n",
    "        self.on_epoch_end(-1)"
   ]
  },
  {
   "cell_type": "markdown",
   "metadata": {},
   "source": [
    "## Define Model"
   ]
  },
  {
   "cell_type": "code",
   "execution_count": 15,
   "metadata": {
    "scrolled": false
   },
   "outputs": [],
   "source": [
    "# define model\n",
    "def functional_model(shape=(NBFRAME,) + SIZE + (CHANNELS,)):\n",
    "    frame_inputs = keras.Input(shape=shape)\n",
    "    f = ConvLSTM2D(filters=20, kernel_size=(3, 3), padding='same',\n",
    "                   return_sequences=True)(frame_inputs)\n",
    "    f = MaxPooling3D(pool_size=(1, 2, 2), padding='same')(f)\n",
    "    f = ConvLSTM2D(filters=10, kernel_size=(3, 3), padding='same',\n",
    "                   return_sequences=True)(f)\n",
    "    f = MaxPooling3D(pool_size=(1, 3, 3), padding='same')(f)\n",
    "    f = ConvLSTM2D(filters=5, kernel_size=(3, 3), padding='same',\n",
    "                   return_sequences=True)(f)\n",
    "    f = MaxPooling3D(pool_size=(1, 2, 2), padding='same')(f)\n",
    "    f = TimeDistributed(Flatten())(f)\n",
    "    f = TimeDistributed(Dense(512))(f)\n",
    "    f = TimeDistributed(Dropout(0.5))(f)\n",
    "    f = TimeDistributed(Dense(64))(f)\n",
    "    f = Flatten()(f)\n",
    "    f = Dense(128)(f)\n",
    "    pred_inputs = keras.Input(shape=(NBFRAME,1,))\n",
    "    p = keras.layers.LSTM(32, return_sequences=True)(pred_inputs)\n",
    "    p = keras.layers.LSTM(32, return_sequences=True)(p)\n",
    "    p = Flatten()(p)\n",
    "    p = Dense(128)(p)\n",
    "    \n",
    "    inputs = None\n",
    "    if USE_ATT_MAPS and USE_AMNET_PRED:\n",
    "        f = keras.layers.Average()([f, p])\n",
    "        inputs = [frame_inputs, pred_inputs]\n",
    "    elif USE_ATT_MAPS:\n",
    "        inputs = [frame_inputs]\n",
    "    elif USE_AMNET_PRED:\n",
    "        f = p\n",
    "        inputs = [pred_inputs]\n",
    "    else:\n",
    "        raise Exception(\"USE_ATT_MAPS and/or USE_AMNET_PRED needs to be True\")\n",
    "\n",
    "    f = keras.layers.BatchNormalization()(f)\n",
    "    f = Dense(64)(f)\n",
    "    f = Dense(1, activation='sigmoid')(f)\n",
    "    model = keras.Model(inputs=inputs, outputs=f)\n",
    "    \n",
    "    # display layer information\n",
    "    print(model.summary())\n",
    "    keras.utils.plot_model(model)\n",
    "    \n",
    "    return model"
   ]
  },
  {
   "cell_type": "markdown",
   "metadata": {},
   "source": [
    "## Train Model"
   ]
  },
  {
   "cell_type": "code",
   "execution_count": 16,
   "metadata": {
    "scrolled": false
   },
   "outputs": [
    {
     "name": "stdout",
     "output_type": "stream",
     "text": [
      "WARNING:tensorflow:multiprocessing can interact badly with TensorFlow, causing nondeterministic deadlocks. For high performance data pipelines tf.data is recommended.\n",
      "WARNING:tensorflow:multiprocessing can interact badly with TensorFlow, causing nondeterministic deadlocks. For high performance data pipelines tf.data is recommended.\n",
      "Model: \"model_4\"\n",
      "_________________________________________________________________\n",
      "Layer (type)                 Output Shape              Param #   \n",
      "=================================================================\n",
      "input_10 (InputLayer)        [(None, 4, 1)]            0         \n",
      "_________________________________________________________________\n",
      "lstm_8 (LSTM)                (None, 4, 32)             4352      \n",
      "_________________________________________________________________\n",
      "lstm_9 (LSTM)                (None, 4, 32)             8320      \n",
      "_________________________________________________________________\n",
      "flatten_14 (Flatten)         (None, 128)               0         \n",
      "_________________________________________________________________\n",
      "dense_27 (Dense)             (None, 128)               16512     \n",
      "_________________________________________________________________\n",
      "batch_normalization_4 (Batch (None, 128)               512       \n",
      "_________________________________________________________________\n",
      "dense_28 (Dense)             (None, 64)                8256      \n",
      "_________________________________________________________________\n",
      "dense_29 (Dense)             (None, 1)                 65        \n",
      "=================================================================\n",
      "Total params: 38,017\n",
      "Trainable params: 37,761\n",
      "Non-trainable params: 256\n",
      "_________________________________________________________________\n",
      "None\n",
      "Epoch 1/20\n",
      "  6/159 [>.............................] - ETA: 23s - loss: 0.0853WARNING:tensorflow:Callback method `on_train_batch_end` is slow compared to the batch time (batch time: 0.0192s vs `on_train_batch_end` time: 0.1079s). Check your callbacks.\n",
      "157/159 [============================>.] - ETA: 0s - loss: 0.0405WARNING:tensorflow:multiprocessing can interact badly with TensorFlow, causing nondeterministic deadlocks. For high performance data pipelines tf.data is recommended.\n",
      "159/159 [==============================] - 13s 20ms/step - loss: 0.0402\n",
      "WARNING:tensorflow:multiprocessing can interact badly with TensorFlow, causing nondeterministic deadlocks. For high performance data pipelines tf.data is recommended.\n",
      "WARNING:tensorflow:multiprocessing can interact badly with TensorFlow, causing nondeterministic deadlocks. For high performance data pipelines tf.data is recommended.\n",
      "\n",
      "*** Epoch 1: Spearman's correlation = 0.1856\n",
      "*** Epoch 1: MSE = 0.0207\n"
     ]
    },
    {
     "data": {
      "image/png": "[encoded data removed]",
      "text/plain": [
       "<Figure size 432x288 with 1 Axes>"
      ]
     },
     "metadata": {
      "needs_background": "light"
     },
     "output_type": "display_data"
    },
    {
     "name": "stdout",
     "output_type": "stream",
     "text": [
      "\n",
      "Epoch 2/20\n",
      "159/159 [==============================] - 2s 15ms/step - loss: 0.0204\n",
      "WARNING:tensorflow:multiprocessing can interact badly with TensorFlow, causing nondeterministic deadlocks. For high performance data pipelines tf.data is recommended.\n",
      "WARNING:tensorflow:multiprocessing can interact badly with TensorFlow, causing nondeterministic deadlocks. For high performance data pipelines tf.data is recommended.\n",
      "WARNING:tensorflow:multiprocessing can interact badly with TensorFlow, causing nondeterministic deadlocks. For high performance data pipelines tf.data is recommended.\n",
      "\n",
      "*** Epoch 2: Spearman's correlation = 0.1868\n",
      "*** Epoch 2: MSE = 0.0206\n"
     ]
    },
    {
     "data": {
      "image/png": "[encoded data removed]",
      "text/plain": [
       "<Figure size 432x288 with 1 Axes>"
      ]
     },
     "metadata": {
      "needs_background": "light"
     },
     "output_type": "display_data"
    },
    {
     "name": "stdout",
     "output_type": "stream",
     "text": [
      "\n",
      "Epoch 3/20\n",
      "155/159 [============================>.] - ETA: 0s - loss: 0.0198WARNING:tensorflow:multiprocessing can interact badly with TensorFlow, causing nondeterministic deadlocks. For high performance data pipelines tf.data is recommended.\n",
      "159/159 [==============================] - 2s 15ms/step - loss: 0.0198\n",
      "WARNING:tensorflow:multiprocessing can interact badly with TensorFlow, causing nondeterministic deadlocks. For high performance data pipelines tf.data is recommended.\n",
      "WARNING:tensorflow:multiprocessing can interact badly with TensorFlow, causing nondeterministic deadlocks. For high performance data pipelines tf.data is recommended.\n",
      "\n",
      "*** Epoch 3: Spearman's correlation = 0.1854\n",
      "*** Epoch 3: MSE = 0.0202\n"
     ]
    },
    {
     "data": {
      "image/png": "[encoded data removed]",
      "text/plain": [
       "<Figure size 432x288 with 1 Axes>"
      ]
     },
     "metadata": {
      "needs_background": "light"
     },
     "output_type": "display_data"
    },
    {
     "name": "stdout",
     "output_type": "stream",
     "text": [
      "\n",
      "Epoch 4/20\n",
      "159/159 [==============================] - 2s 13ms/step - loss: 0.0205\n",
      "WARNING:tensorflow:multiprocessing can interact badly with TensorFlow, causing nondeterministic deadlocks. For high performance data pipelines tf.data is recommended.\n",
      "WARNING:tensorflow:multiprocessing can interact badly with TensorFlow, causing nondeterministic deadlocks. For high performance data pipelines tf.data is recommended.\n",
      "\n",
      "*** Epoch 3: Spearman's correlation = 0.1854\n",
      "*** Epoch 3: MSE = 0.0202\n",
      "WARNING:tensorflow:multiprocessing can interact badly with TensorFlow, causing nondeterministic deadlocks. For high performance data pipelines tf.data is recommended.\n",
      "\n",
      "*** Epoch 4: Spearman's correlation = 0.1861\n",
      "*** Epoch 4: MSE = 0.0201\n"
     ]
    },
    {
     "data": {
      "image/png": "[encoded data removed]",
      "text/plain": [
       "<Figure size 432x288 with 1 Axes>"
      ]
     },
     "metadata": {
      "needs_background": "light"
     },
     "output_type": "display_data"
    },
    {
     "name": "stdout",
     "output_type": "stream",
     "text": [
      "\n",
      "Epoch 5/20\n",
      "154/159 [============================>.] - ETA: 0s - loss: 0.0202WARNING:tensorflow:multiprocessing can interact badly with TensorFlow, causing nondeterministic deadlocks. For high performance data pipelines tf.data is recommended.\n",
      "159/159 [==============================] - 3s 16ms/step - loss: 0.0202\n",
      "WARNING:tensorflow:multiprocessing can interact badly with TensorFlow, causing nondeterministic deadlocks. For high performance data pipelines tf.data is recommended.\n",
      "WARNING:tensorflow:multiprocessing can interact badly with TensorFlow, causing nondeterministic deadlocks. For high performance data pipelines tf.data is recommended.\n",
      "\n",
      "*** Epoch 5: Spearman's correlation = 0.1856\n",
      "*** Epoch 5: MSE = 0.0221\n"
     ]
    },
    {
     "data": {
      "image/png": "[encoded data removed]",
      "text/plain": [
       "<Figure size 432x288 with 1 Axes>"
      ]
     },
     "metadata": {
      "needs_background": "light"
     },
     "output_type": "display_data"
    },
    {
     "name": "stdout",
     "output_type": "stream",
     "text": [
      "\n",
      "Epoch 6/20\n",
      "159/159 [==============================] - 2s 13ms/step - loss: 0.0193\n",
      "WARNING:tensorflow:multiprocessing can interact badly with TensorFlow, causing nondeterministic deadlocks. For high performance data pipelines tf.data is recommended.\n",
      "WARNING:tensorflow:multiprocessing can interact badly with TensorFlow, causing nondeterministic deadlocks. For high performance data pipelines tf.data is recommended.\n",
      "WARNING:tensorflow:multiprocessing can interact badly with TensorFlow, causing nondeterministic deadlocks. For high performance data pipelines tf.data is recommended.\n",
      "\n",
      "*** Epoch 6: Spearman's correlation = 0.1855\n",
      "*** Epoch 6: MSE = 0.0202\n"
     ]
    },
    {
     "data": {
      "image/png": "[encoded data removed]",
      "text/plain": [
       "<Figure size 432x288 with 1 Axes>"
      ]
     },
     "metadata": {
      "needs_background": "light"
     },
     "output_type": "display_data"
    },
    {
     "name": "stdout",
     "output_type": "stream",
     "text": [
      "\n",
      "Epoch 7/20\n",
      "156/159 [============================>.] - ETA: 0s - loss: 0.0202WARNING:tensorflow:multiprocessing can interact badly with TensorFlow, causing nondeterministic deadlocks. For high performance data pipelines tf.data is recommended.\n",
      "159/159 [==============================] - 2s 13ms/step - loss: 0.0202\n",
      "WARNING:tensorflow:multiprocessing can interact badly with TensorFlow, causing nondeterministic deadlocks. For high performance data pipelines tf.data is recommended.\n",
      "*** Epoch 6: MSE = 0.0202\n",
      "WARNING:tensorflow:multiprocessing can interact badly with TensorFlow, causing nondeterministic deadlocks. For high performance data pipelines tf.data is recommended.\n",
      "\n",
      "*** Epoch 7: Spearman's correlation = 0.1842\n",
      "*** Epoch 7: MSE = 0.0200\n"
     ]
    },
    {
     "data": {
      "image/png": "[encoded data removed]",
      "text/plain": [
       "<Figure size 432x288 with 1 Axes>"
      ]
     },
     "metadata": {
      "needs_background": "light"
     },
     "output_type": "display_data"
    },
    {
     "name": "stdout",
     "output_type": "stream",
     "text": [
      "\n",
      "Epoch 8/20\n",
      "159/159 [==============================] - 2s 14ms/step - loss: 0.0200\n",
      "WARNING:tensorflow:multiprocessing can interact badly with TensorFlow, causing nondeterministic deadlocks. For high performance data pipelines tf.data is recommended.\n",
      "WARNING:tensorflow:multiprocessing can interact badly with TensorFlow, causing nondeterministic deadlocks. For high performance data pipelines tf.data is recommended.\n",
      "*** Epoch 7: Spearman's correlation = 0.1842\n",
      "*** Epoch 7: MSE = 0.0200\n",
      "WARNING:tensorflow:multiprocessing can interact badly with TensorFlow, causing nondeterministic deadlocks. For high performance data pipelines tf.data is recommended.\n",
      "\n",
      "*** Epoch 8: Spearman's correlation = 0.1854\n",
      "*** Epoch 8: MSE = 0.0197\n"
     ]
    },
    {
     "data": {
      "image/png": "[encoded data removed]",
      "text/plain": [
       "<Figure size 432x288 with 1 Axes>"
      ]
     },
     "metadata": {
      "needs_background": "light"
     },
     "output_type": "display_data"
    },
    {
     "name": "stdout",
     "output_type": "stream",
     "text": [
      "\n",
      "Epoch 9/20\n",
      "157/159 [============================>.] - ETA: 0s - loss: 0.0201WARNING:tensorflow:multiprocessing can interact badly with TensorFlow, causing nondeterministic deadlocks. For high performance data pipelines tf.data is recommended.\n",
      "159/159 [==============================] - 3s 17ms/step - loss: 0.0201\n",
      "WARNING:tensorflow:multiprocessing can interact badly with TensorFlow, causing nondeterministic deadlocks. For high performance data pipelines tf.data is recommended.\n",
      "WARNING:tensorflow:multiprocessing can interact badly with TensorFlow, causing nondeterministic deadlocks. For high performance data pipelines tf.data is recommended.\n",
      "\n",
      "*** Epoch 9: Spearman's correlation = 0.1853\n",
      "*** Epoch 9: MSE = 0.0212\n"
     ]
    },
    {
     "data": {
      "image/png": "[encoded data removed]",
      "text/plain": [
       "<Figure size 432x288 with 1 Axes>"
      ]
     },
     "metadata": {
      "needs_background": "light"
     },
     "output_type": "display_data"
    },
    {
     "name": "stdout",
     "output_type": "stream",
     "text": [
      "\n",
      "Epoch 10/20\n",
      "155/159 [============================>.] - ETA: 0s - loss: 0.0200WARNING:tensorflow:multiprocessing can interact badly with TensorFlow, causing nondeterministic deadlocks. For high performance data pipelines tf.data is recommended.\n",
      "159/159 [==============================] - 2s 13ms/step - loss: 0.0200\n",
      "WARNING:tensorflow:multiprocessing can interact badly with TensorFlow, causing nondeterministic deadlocks. For high performance data pipelines tf.data is recommended.\n",
      "\n",
      "*** Epoch 9: Spearman's correlation = 0.1853\n",
      "WARNING:tensorflow:multiprocessing can interact badly with TensorFlow, causing nondeterministic deadlocks. For high performance data pipelines tf.data is recommended.\n",
      "\n",
      "*** Epoch 10: Spearman's correlation = 0.1845\n",
      "*** Epoch 10: MSE = 0.0201\n"
     ]
    },
    {
     "data": {
      "image/png": "[encoded data removed]",
      "text/plain": [
       "<Figure size 432x288 with 1 Axes>"
      ]
     },
     "metadata": {
      "needs_background": "light"
     },
     "output_type": "display_data"
    },
    {
     "name": "stdout",
     "output_type": "stream",
     "text": [
      "\n",
      "Epoch 11/20\n",
      "157/159 [============================>.] - ETA: 0s - loss: 0.0202WARNING:tensorflow:multiprocessing can interact badly with TensorFlow, causing nondeterministic deadlocks. For high performance data pipelines tf.data is recommended.\n",
      "159/159 [==============================] - 2s 14ms/step - loss: 0.0202\n",
      "WARNING:tensorflow:multiprocessing can interact badly with TensorFlow, causing nondeterministic deadlocks. For high performance data pipelines tf.data is recommended.\n",
      "WARNING:tensorflow:multiprocessing can interact badly with TensorFlow, causing nondeterministic deadlocks. For high performance data pipelines tf.data is recommended.\n",
      "\n",
      "*** Epoch 11: Spearman's correlation = 0.1836\n",
      "*** Epoch 11: MSE = 0.0200\n"
     ]
    },
    {
     "data": {
      "image/png": "[encoded data removed]",
      "text/plain": [
       "<Figure size 432x288 with 1 Axes>"
      ]
     },
     "metadata": {
      "needs_background": "light"
     },
     "output_type": "display_data"
    },
    {
     "name": "stdout",
     "output_type": "stream",
     "text": [
      "\n",
      "Epoch 12/20\n",
      "159/159 [==============================] - 2s 13ms/step - loss: 0.0193\n",
      "WARNING:tensorflow:multiprocessing can interact badly with TensorFlow, causing nondeterministic deadlocks. For high performance data pipelines tf.data is recommended.\n",
      "WARNING:tensorflow:multiprocessing can interact badly with TensorFlow, causing nondeterministic deadlocks. For high performance data pipelines tf.data is recommended.\n",
      "WARNING:tensorflow:multiprocessing can interact badly with TensorFlow, causing nondeterministic deadlocks. For high performance data pipelines tf.data is recommended.\n",
      "\n",
      "*** Epoch 12: Spearman's correlation = 0.1850\n",
      "*** Epoch 12: MSE = 0.0203\n"
     ]
    },
    {
     "data": {
      "image/png": "[encoded data removed]",
      "text/plain": [
       "<Figure size 432x288 with 1 Axes>"
      ]
     },
     "metadata": {
      "needs_background": "light"
     },
     "output_type": "display_data"
    },
    {
     "name": "stdout",
     "output_type": "stream",
     "text": [
      "\n",
      "Epoch 13/20\n",
      "159/159 [==============================] - 2s 14ms/step - loss: 0.0199\n",
      "WARNING:tensorflow:multiprocessing can interact badly with TensorFlow, causing nondeterministic deadlocks. For high performance data pipelines tf.data is recommended.\n",
      "WARNING:tensorflow:multiprocessing can interact badly with TensorFlow, causing nondeterministic deadlocks. For high performance data pipelines tf.data is recommended.\n",
      "WARNING:tensorflow:multiprocessing can interact badly with TensorFlow, causing nondeterministic deadlocks. For high performance data pipelines tf.data is recommended.\n",
      "\n",
      "*** Epoch 13: Spearman's correlation = 0.1849\n",
      "*** Epoch 13: MSE = 0.0199\n"
     ]
    },
    {
     "data": {
      "image/png": "[encoded data removed]",
      "text/plain": [
       "<Figure size 432x288 with 1 Axes>"
      ]
     },
     "metadata": {
      "needs_background": "light"
     },
     "output_type": "display_data"
    },
    {
     "name": "stdout",
     "output_type": "stream",
     "text": [
      "\n",
      "Epoch 14/20\n",
      "159/159 [==============================] - 2s 13ms/step - loss: 0.0209\n",
      "WARNING:tensorflow:multiprocessing can interact badly with TensorFlow, causing nondeterministic deadlocks. For high performance data pipelines tf.data is recommended.\n",
      "WARNING:tensorflow:multiprocessing can interact badly with TensorFlow, causing nondeterministic deadlocks. For high performance data pipelines tf.data is recommended.\n",
      "WARNING:tensorflow:multiprocessing can interact badly with TensorFlow, causing nondeterministic deadlocks. For high performance data pipelines tf.data is recommended.\n",
      "\n",
      "*** Epoch 14: Spearman's correlation = 0.1866\n",
      "*** Epoch 14: MSE = 0.0280\n"
     ]
    },
    {
     "data": {
      "image/png": "[encoded data removed]",
      "text/plain": [
       "<Figure size 432x288 with 1 Axes>"
      ]
     },
     "metadata": {
      "needs_background": "light"
     },
     "output_type": "display_data"
    },
    {
     "name": "stdout",
     "output_type": "stream",
     "text": [
      "\n",
      "Epoch 15/20\n",
      "159/159 [==============================] - 2s 13ms/step - loss: 0.0199\n",
      "WARNING:tensorflow:multiprocessing can interact badly with TensorFlow, causing nondeterministic deadlocks. For high performance data pipelines tf.data is recommended.\n",
      "WARNING:tensorflow:multiprocessing can interact badly with TensorFlow, causing nondeterministic deadlocks. For high performance data pipelines tf.data is recommended.\n",
      "WARNING:tensorflow:multiprocessing can interact badly with TensorFlow, causing nondeterministic deadlocks. For high performance data pipelines tf.data is recommended.\n",
      "\n",
      "*** Epoch 15: Spearman's correlation = 0.1856\n",
      "*** Epoch 15: MSE = 0.0211\n"
     ]
    },
    {
     "data": {
      "image/png": "[encoded data removed]",
      "text/plain": [
       "<Figure size 432x288 with 1 Axes>"
      ]
     },
     "metadata": {
      "needs_background": "light"
     },
     "output_type": "display_data"
    },
    {
     "name": "stdout",
     "output_type": "stream",
     "text": [
      "\n",
      "Epoch 16/20\n",
      "159/159 [==============================] - 2s 14ms/step - loss: 0.0200\n",
      "WARNING:tensorflow:multiprocessing can interact badly with TensorFlow, causing nondeterministic deadlocks. For high performance data pipelines tf.data is recommended.\n",
      "WARNING:tensorflow:multiprocessing can interact badly with TensorFlow, causing nondeterministic deadlocks. For high performance data pipelines tf.data is recommended.\n",
      "WARNING:tensorflow:multiprocessing can interact badly with TensorFlow, causing nondeterministic deadlocks. For high performance data pipelines tf.data is recommended.\n",
      "\n",
      "*** Epoch 16: Spearman's correlation = 0.1854\n",
      "*** Epoch 16: MSE = 0.0212\n"
     ]
    },
    {
     "data": {
      "image/png": "[encoded data removed]",
      "text/plain": [
       "<Figure size 432x288 with 1 Axes>"
      ]
     },
     "metadata": {
      "needs_background": "light"
     },
     "output_type": "display_data"
    },
    {
     "name": "stdout",
     "output_type": "stream",
     "text": [
      "\n",
      "Epoch 17/20\n",
      "159/159 [==============================] - 2s 13ms/step - loss: 0.0205\n",
      "WARNING:tensorflow:multiprocessing can interact badly with TensorFlow, causing nondeterministic deadlocks. For high performance data pipelines tf.data is recommended.\n",
      "WARNING:tensorflow:multiprocessing can interact badly with TensorFlow, causing nondeterministic deadlocks. For high performance data pipelines tf.data is recommended.\n",
      "\n",
      "*** Epoch 16: Spearman's correlation = 0.1854\n",
      "WARNING:tensorflow:multiprocessing can interact badly with TensorFlow, causing nondeterministic deadlocks. For high performance data pipelines tf.data is recommended.\n",
      "\n",
      "*** Epoch 17: Spearman's correlation = 0.1839\n",
      "*** Epoch 17: MSE = 0.0243\n"
     ]
    },
    {
     "data": {
      "image/png": "[encoded data removed]",
      "text/plain": [
       "<Figure size 432x288 with 1 Axes>"
      ]
     },
     "metadata": {
      "needs_background": "light"
     },
     "output_type": "display_data"
    },
    {
     "name": "stdout",
     "output_type": "stream",
     "text": [
      "\n",
      "Epoch 18/20\n",
      "159/159 [==============================] - 2s 13ms/step - loss: 0.0204\n",
      "WARNING:tensorflow:multiprocessing can interact badly with TensorFlow, causing nondeterministic deadlocks. For high performance data pipelines tf.data is recommended.\n",
      "WARNING:tensorflow:multiprocessing can interact badly with TensorFlow, causing nondeterministic deadlocks. For high performance data pipelines tf.data is recommended.\n",
      "\n",
      "*** Epoch 17: Spearman's correlation = 0.1839\n",
      "*** Epoch 17: MSE = 0.0243\n",
      "WARNING:tensorflow:multiprocessing can interact badly with TensorFlow, causing nondeterministic deadlocks. For high performance data pipelines tf.data is recommended.\n",
      "\n",
      "*** Epoch 18: Spearman's correlation = 0.1855\n",
      "*** Epoch 18: MSE = 0.0203\n"
     ]
    },
    {
     "data": {
      "image/png": "[encoded data removed]",
      "text/plain": [
       "<Figure size 432x288 with 1 Axes>"
      ]
     },
     "metadata": {
      "needs_background": "light"
     },
     "output_type": "display_data"
    },
    {
     "name": "stdout",
     "output_type": "stream",
     "text": [
      "\n",
      "Epoch 19/20\n",
      "159/159 [==============================] - 2s 14ms/step - loss: 0.0191\n",
      "WARNING:tensorflow:multiprocessing can interact badly with TensorFlow, causing nondeterministic deadlocks. For high performance data pipelines tf.data is recommended.\n",
      "WARNING:tensorflow:multiprocessing can interact badly with TensorFlow, causing nondeterministic deadlocks. For high performance data pipelines tf.data is recommended.\n",
      "WARNING:tensorflow:multiprocessing can interact badly with TensorFlow, causing nondeterministic deadlocks. For high performance data pipelines tf.data is recommended.\n",
      "\n",
      "*** Epoch 19: Spearman's correlation = 0.1853\n",
      "*** Epoch 19: MSE = 0.0203\n"
     ]
    },
    {
     "data": {
      "image/png": "[encoded data removed]",
      "text/plain": [
       "<Figure size 432x288 with 1 Axes>"
      ]
     },
     "metadata": {
      "needs_background": "light"
     },
     "output_type": "display_data"
    },
    {
     "name": "stdout",
     "output_type": "stream",
     "text": [
      "\n",
      "Epoch 20/20\n",
      "159/159 [==============================] - 2s 13ms/step - loss: 0.0205\n",
      "WARNING:tensorflow:multiprocessing can interact badly with TensorFlow, causing nondeterministic deadlocks. For high performance data pipelines tf.data is recommended.\n",
      "WARNING:tensorflow:multiprocessing can interact badly with TensorFlow, causing nondeterministic deadlocks. For high performance data pipelines tf.data is recommended.\n",
      "WARNING:tensorflow:multiprocessing can interact badly with TensorFlow, causing nondeterministic deadlocks. For high performance data pipelines tf.data is recommended.\n",
      "\n",
      "*** Epoch 20: Spearman's correlation = 0.1858\n",
      "*** Epoch 20: MSE = 0.0393\n"
     ]
    },
    {
     "data": {
      "image/png": "[encoded data removed]",
      "text/plain": [
       "<Figure size 432x288 with 1 Axes>"
      ]
     },
     "metadata": {
      "needs_background": "light"
     },
     "output_type": "display_data"
    },
    {
     "name": "stdout",
     "output_type": "stream",
     "text": [
      "\n",
      "Model: \"model_5\"\n",
      "_________________________________________________________________\n",
      "Layer (type)                 Output Shape              Param #   \n",
      "=================================================================\n",
      "input_12 (InputLayer)        [(None, 4, 1)]            0         \n",
      "_________________________________________________________________\n",
      "lstm_10 (LSTM)               (None, 4, 32)             4352      \n",
      "_________________________________________________________________\n",
      "lstm_11 (LSTM)               (None, 4, 32)             8320      \n",
      "_________________________________________________________________\n",
      "flatten_17 (Flatten)         (None, 128)               0         \n",
      "_________________________________________________________________\n",
      "dense_33 (Dense)             (None, 128)               16512     \n",
      "_________________________________________________________________\n",
      "batch_normalization_5 (Batch (None, 128)               512       \n",
      "_________________________________________________________________\n",
      "dense_34 (Dense)             (None, 64)                8256      \n",
      "_________________________________________________________________\n",
      "dense_35 (Dense)             (None, 1)                 65        \n",
      "=================================================================\n",
      "Total params: 38,017\n",
      "Trainable params: 37,761\n",
      "Non-trainable params: 256\n",
      "_________________________________________________________________\n",
      "None\n",
      "Epoch 1/20\n",
      "  3/159 [..............................] - ETA: 45s - loss: 0.1053WARNING:tensorflow:Callback method `on_train_batch_end` is slow compared to the batch time (batch time: 0.0169s vs `on_train_batch_end` time: 0.0890s). Check your callbacks.\n",
      "155/159 [============================>.] - ETA: 0s - loss: 0.0394WARNING:tensorflow:multiprocessing can interact badly with TensorFlow, causing nondeterministic deadlocks. For high performance data pipelines tf.data is recommended.\n",
      "159/159 [==============================] - 9s 24ms/step - loss: 0.0389\n",
      "WARNING:tensorflow:multiprocessing can interact badly with TensorFlow, causing nondeterministic deadlocks. For high performance data pipelines tf.data is recommended.\n",
      "\n",
      "WARNING:tensorflow:multiprocessing can interact badly with TensorFlow, causing nondeterministic deadlocks. For high performance data pipelines tf.data is recommended.\n",
      "\n",
      "*** Epoch 1: Spearman's correlation = 0.1858\n",
      "*** Epoch 1: MSE = 0.0205\n"
     ]
    },
    {
     "data": {
      "image/png": "[encoded data removed]",
      "text/plain": [
       "<Figure size 432x288 with 1 Axes>"
      ]
     },
     "metadata": {
      "needs_background": "light"
     },
     "output_type": "display_data"
    },
    {
     "name": "stdout",
     "output_type": "stream",
     "text": [
      "\n",
      "Epoch 2/20\n",
      "157/159 [============================>.] - ETA: 0s - loss: 0.0195WARNING:tensorflow:multiprocessing can interact badly with TensorFlow, causing nondeterministic deadlocks. For high performance data pipelines tf.data is recommended.\n",
      "159/159 [==============================] - 3s 21ms/step - loss: 0.0195\n",
      "WARNING:tensorflow:multiprocessing can interact badly with TensorFlow, causing nondeterministic deadlocks. For high performance data pipelines tf.data is recommended.\n",
      "*** Epoch 1: Spearman's correlation = 0.1858\n",
      "*** Epoch 1: MSE = 0.0205\n",
      "WARNING:tensorflow:multiprocessing can interact badly with TensorFlow, causing nondeterministic deadlocks. For high performance data pipelines tf.data is recommended.\n",
      "\n",
      "*** Epoch 2: Spearman's correlation = 0.1857\n",
      "*** Epoch 2: MSE = 0.0206\n"
     ]
    },
    {
     "data": {
      "image/png": "[encoded data removed]",
      "text/plain": [
       "<Figure size 432x288 with 1 Axes>"
      ]
     },
     "metadata": {
      "needs_background": "light"
     },
     "output_type": "display_data"
    },
    {
     "name": "stdout",
     "output_type": "stream",
     "text": [
      "\n",
      "Epoch 3/20\n",
      "156/159 [============================>.] - ETA: 0s - loss: 0.0194WARNING:tensorflow:multiprocessing can interact badly with TensorFlow, causing nondeterministic deadlocks. For high performance data pipelines tf.data is recommended.\n",
      "159/159 [==============================] - 3s 18ms/step - loss: 0.0194\n",
      "WARNING:tensorflow:multiprocessing can interact badly with TensorFlow, causing nondeterministic deadlocks. For high performance data pipelines tf.data is recommended.\n",
      "\n",
      "*** Epoch 2: Spearman's correlation = 0.1857\n",
      "WARNING:tensorflow:multiprocessing can interact badly with TensorFlow, causing nondeterministic deadlocks. For high performance data pipelines tf.data is recommended.\n",
      "\n",
      "*** Epoch 3: Spearman's correlation = 0.1856\n",
      "*** Epoch 3: MSE = 0.0206\n"
     ]
    },
    {
     "data": {
      "image/png": "[encoded data removed]",
      "text/plain": [
       "<Figure size 432x288 with 1 Axes>"
      ]
     },
     "metadata": {
      "needs_background": "light"
     },
     "output_type": "display_data"
    },
    {
     "name": "stdout",
     "output_type": "stream",
     "text": [
      "\n",
      "Epoch 4/20\n",
      "156/159 [============================>.] - ETA: 0s - loss: 0.0205WARNING:tensorflow:multiprocessing can interact badly with TensorFlow, causing nondeterministic deadlocks. For high performance data pipelines tf.data is recommended.\n",
      "159/159 [==============================] - 3s 18ms/step - loss: 0.0205\n",
      "WARNING:tensorflow:multiprocessing can interact badly with TensorFlow, causing nondeterministic deadlocks. For high performance data pipelines tf.data is recommended.\n",
      "\n",
      "*** Epoch 3: MSE = 0.0206\n",
      "WARNING:tensorflow:multiprocessing can interact badly with TensorFlow, causing nondeterministic deadlocks. For high performance data pipelines tf.data is recommended.\n",
      "\n",
      "*** Epoch 4: Spearman's correlation = 0.1856\n",
      "*** Epoch 4: MSE = 0.0199\n"
     ]
    },
    {
     "data": {
      "image/png": "[encoded data removed]",
      "text/plain": [
       "<Figure size 432x288 with 1 Axes>"
      ]
     },
     "metadata": {
      "needs_background": "light"
     },
     "output_type": "display_data"
    },
    {
     "name": "stdout",
     "output_type": "stream",
     "text": [
      "\n",
      "Epoch 5/20\n",
      "157/159 [============================>.] - ETA: 0s - loss: 0.0202WARNING:tensorflow:multiprocessing can interact badly with TensorFlow, causing nondeterministic deadlocks. For high performance data pipelines tf.data is recommended.\n",
      "159/159 [==============================] - 3s 19ms/step - loss: 0.0202\n",
      "WARNING:tensorflow:multiprocessing can interact badly with TensorFlow, causing nondeterministic deadlocks. For high performance data pipelines tf.data is recommended.\n",
      "WARNING:tensorflow:multiprocessing can interact badly with TensorFlow, causing nondeterministic deadlocks. For high performance data pipelines tf.data is recommended.\n",
      "\n",
      "*** Epoch 5: Spearman's correlation = 0.1851\n",
      "*** Epoch 5: MSE = 0.0198\n"
     ]
    },
    {
     "data": {
      "image/png": "[encoded data removed]",
      "text/plain": [
       "<Figure size 432x288 with 1 Axes>"
      ]
     },
     "metadata": {
      "needs_background": "light"
     },
     "output_type": "display_data"
    },
    {
     "name": "stdout",
     "output_type": "stream",
     "text": [
      "\n",
      "Epoch 6/20\n",
      "154/159 [============================>.] - ETA: 0s - loss: 0.0203WARNING:tensorflow:multiprocessing can interact badly with TensorFlow, causing nondeterministic deadlocks. For high performance data pipelines tf.data is recommended.\n",
      "159/159 [==============================] - 3s 18ms/step - loss: 0.0203\n",
      "WARNING:tensorflow:multiprocessing can interact badly with TensorFlow, causing nondeterministic deadlocks. For high performance data pipelines tf.data is recommended.\n",
      "\n",
      "WARNING:tensorflow:multiprocessing can interact badly with TensorFlow, causing nondeterministic deadlocks. For high performance data pipelines tf.data is recommended.\n",
      "\n",
      "*** Epoch 6: Spearman's correlation = 0.1852\n",
      "*** Epoch 6: MSE = 0.0199\n"
     ]
    },
    {
     "data": {
      "image/png": "[encoded data removed]",
      "text/plain": [
       "<Figure size 432x288 with 1 Axes>"
      ]
     },
     "metadata": {
      "needs_background": "light"
     },
     "output_type": "display_data"
    },
    {
     "name": "stdout",
     "output_type": "stream",
     "text": [
      "\n",
      "Epoch 7/20\n",
      "157/159 [============================>.] - ETA: 0s - loss: 0.0202WARNING:tensorflow:multiprocessing can interact badly with TensorFlow, causing nondeterministic deadlocks. For high performance data pipelines tf.data is recommended.\n",
      "159/159 [==============================] - 3s 20ms/step - loss: 0.0202\n",
      "WARNING:tensorflow:multiprocessing can interact badly with TensorFlow, causing nondeterministic deadlocks. For high performance data pipelines tf.data is recommended.\n",
      "WARNING:tensorflow:multiprocessing can interact badly with TensorFlow, causing nondeterministic deadlocks. For high performance data pipelines tf.data is recommended.\n",
      "\n",
      "*** Epoch 7: Spearman's correlation = 0.1854\n",
      "*** Epoch 7: MSE = 0.0211\n"
     ]
    },
    {
     "data": {
      "image/png": "[encoded data removed]",
      "text/plain": [
       "<Figure size 432x288 with 1 Axes>"
      ]
     },
     "metadata": {
      "needs_background": "light"
     },
     "output_type": "display_data"
    },
    {
     "name": "stdout",
     "output_type": "stream",
     "text": [
      "\n",
      "Epoch 8/20\n",
      "155/159 [============================>.] - ETA: 0s - loss: 0.0199WARNING:tensorflow:multiprocessing can interact badly with TensorFlow, causing nondeterministic deadlocks. For high performance data pipelines tf.data is recommended.\n",
      "159/159 [==============================] - 3s 19ms/step - loss: 0.0199\n",
      "WARNING:tensorflow:multiprocessing can interact badly with TensorFlow, causing nondeterministic deadlocks. For high performance data pipelines tf.data is recommended.\n",
      "WARNING:tensorflow:multiprocessing can interact badly with TensorFlow, causing nondeterministic deadlocks. For high performance data pipelines tf.data is recommended.\n",
      "\n",
      "*** Epoch 8: Spearman's correlation = 0.1853\n",
      "*** Epoch 8: MSE = 0.0203\n"
     ]
    },
    {
     "data": {
      "image/png": "[encoded data removed]",
      "text/plain": [
       "<Figure size 432x288 with 1 Axes>"
      ]
     },
     "metadata": {
      "needs_background": "light"
     },
     "output_type": "display_data"
    },
    {
     "name": "stdout",
     "output_type": "stream",
     "text": [
      "\n",
      "Epoch 9/20\n",
      "157/159 [============================>.] - ETA: 0s - loss: 0.0201WARNING:tensorflow:multiprocessing can interact badly with TensorFlow, causing nondeterministic deadlocks. For high performance data pipelines tf.data is recommended.\n",
      "159/159 [==============================] - 3s 19ms/step - loss: 0.0201\n",
      "WARNING:tensorflow:multiprocessing can interact badly with TensorFlow, causing nondeterministic deadlocks. For high performance data pipelines tf.data is recommended.\n",
      "\n",
      "*** Epoch 8: Spearman's correlation = 0.1853\n",
      "*** Epoch 8: MSE = 0.0203\n",
      "WARNING:tensorflow:multiprocessing can interact badly with TensorFlow, causing nondeterministic deadlocks. For high performance data pipelines tf.data is recommended.\n",
      "\n",
      "*** Epoch 9: Spearman's correlation = 0.1844\n",
      "*** Epoch 9: MSE = 0.0205\n"
     ]
    },
    {
     "data": {
      "image/png": "[encoded data removed]",
      "text/plain": [
       "<Figure size 432x288 with 1 Axes>"
      ]
     },
     "metadata": {
      "needs_background": "light"
     },
     "output_type": "display_data"
    },
    {
     "name": "stdout",
     "output_type": "stream",
     "text": [
      "\n",
      "Epoch 10/20\n",
      "156/159 [============================>.] - ETA: 0s - loss: 0.0199WARNING:tensorflow:multiprocessing can interact badly with TensorFlow, causing nondeterministic deadlocks. For high performance data pipelines tf.data is recommended.\n",
      "159/159 [==============================] - 3s 19ms/step - loss: 0.0199\n",
      "WARNING:tensorflow:multiprocessing can interact badly with TensorFlow, causing nondeterministic deadlocks. For high performance data pipelines tf.data is recommended.\n",
      "*** Epoch 9: MSE = 0.0205\n",
      "WARNING:tensorflow:multiprocessing can interact badly with TensorFlow, causing nondeterministic deadlocks. For high performance data pipelines tf.data is recommended.\n",
      "\n",
      "*** Epoch 10: Spearman's correlation = 0.1843\n",
      "*** Epoch 10: MSE = 0.0215\n"
     ]
    },
    {
     "data": {
      "image/png": "[encoded data removed]",
      "text/plain": [
       "<Figure size 432x288 with 1 Axes>"
      ]
     },
     "metadata": {
      "needs_background": "light"
     },
     "output_type": "display_data"
    },
    {
     "name": "stdout",
     "output_type": "stream",
     "text": [
      "\n",
      "Epoch 11/20\n",
      "155/159 [============================>.] - ETA: 0s - loss: 0.0199WARNING:tensorflow:multiprocessing can interact badly with TensorFlow, causing nondeterministic deadlocks. For high performance data pipelines tf.data is recommended.\n",
      "159/159 [==============================] - 3s 20ms/step - loss: 0.0199\n",
      "WARNING:tensorflow:multiprocessing can interact badly with TensorFlow, causing nondeterministic deadlocks. For high performance data pipelines tf.data is recommended.\n",
      "*** Epoch 10: Spearman's correlation = 0.1843\n",
      "WARNING:tensorflow:multiprocessing can interact badly with TensorFlow, causing nondeterministic deadlocks. For high performance data pipelines tf.data is recommended.\n",
      "\n",
      "*** Epoch 11: Spearman's correlation = 0.1854\n",
      "*** Epoch 11: MSE = 0.0233\n"
     ]
    },
    {
     "data": {
      "image/png": "[encoded data removed]",
      "text/plain": [
       "<Figure size 432x288 with 1 Axes>"
      ]
     },
     "metadata": {
      "needs_background": "light"
     },
     "output_type": "display_data"
    },
    {
     "name": "stdout",
     "output_type": "stream",
     "text": [
      "\n",
      "Epoch 12/20\n",
      "154/159 [============================>.] - ETA: 0s - loss: 0.0197WARNING:tensorflow:multiprocessing can interact badly with TensorFlow, causing nondeterministic deadlocks. For high performance data pipelines tf.data is recommended.\n",
      "159/159 [==============================] - 3s 19ms/step - loss: 0.0197\n",
      "WARNING:tensorflow:multiprocessing can interact badly with TensorFlow, causing nondeterministic deadlocks. For high performance data pipelines tf.data is recommended.\n",
      "\n",
      "*** Epoch 11: Spearman's correlation = 0.1854\n",
      "*** Epoch 11: MSE = 0.0233\n",
      "WARNING:tensorflow:multiprocessing can interact badly with TensorFlow, causing nondeterministic deadlocks. For high performance data pipelines tf.data is recommended.\n",
      "\n",
      "*** Epoch 12: Spearman's correlation = 0.1847\n",
      "*** Epoch 12: MSE = 0.0199\n"
     ]
    },
    {
     "data": {
      "image/png": "[encoded data removed]",
      "text/plain": [
       "<Figure size 432x288 with 1 Axes>"
      ]
     },
     "metadata": {
      "needs_background": "light"
     },
     "output_type": "display_data"
    },
    {
     "name": "stdout",
     "output_type": "stream",
     "text": [
      "\n",
      "Epoch 13/20\n",
      "156/159 [============================>.] - ETA: 0s - loss: 0.0206WARNING:tensorflow:multiprocessing can interact badly with TensorFlow, causing nondeterministic deadlocks. For high performance data pipelines tf.data is recommended.\n",
      "159/159 [==============================] - 3s 19ms/step - loss: 0.0206\n",
      "WARNING:tensorflow:multiprocessing can interact badly with TensorFlow, causing nondeterministic deadlocks. For high performance data pipelines tf.data is recommended.\n",
      "*** Epoch 12: Spearman's correlation = 0.1847\n",
      "*** Epoch 12: MSE = 0.0199\n",
      "WARNING:tensorflow:multiprocessing can interact badly with TensorFlow, causing nondeterministic deadlocks. For high performance data pipelines tf.data is recommended.\n",
      "\n",
      "*** Epoch 13: Spearman's correlation = 0.1846\n",
      "*** Epoch 13: MSE = 0.0198\n"
     ]
    },
    {
     "data": {
      "image/png": "[encoded data removed]",
      "text/plain": [
       "<Figure size 432x288 with 1 Axes>"
      ]
     },
     "metadata": {
      "needs_background": "light"
     },
     "output_type": "display_data"
    },
    {
     "name": "stdout",
     "output_type": "stream",
     "text": [
      "\n",
      "Epoch 14/20\n",
      "156/159 [============================>.] - ETA: 0s - loss: 0.0202WARNING:tensorflow:multiprocessing can interact badly with TensorFlow, causing nondeterministic deadlocks. For high performance data pipelines tf.data is recommended.\n",
      "159/159 [==============================] - 3s 20ms/step - loss: 0.0202\n",
      "WARNING:tensorflow:multiprocessing can interact badly with TensorFlow, causing nondeterministic deadlocks. For high performance data pipelines tf.data is recommended.\n",
      "WARNING:tensorflow:multiprocessing can interact badly with TensorFlow, causing nondeterministic deadlocks. For high performance data pipelines tf.data is recommended.\n",
      "\n",
      "*** Epoch 14: Spearman's correlation = 0.1859\n",
      "*** Epoch 14: MSE = 0.0199\n"
     ]
    },
    {
     "data": {
      "image/png": "[encoded data removed]",
      "text/plain": [
       "<Figure size 432x288 with 1 Axes>"
      ]
     },
     "metadata": {
      "needs_background": "light"
     },
     "output_type": "display_data"
    },
    {
     "name": "stdout",
     "output_type": "stream",
     "text": [
      "\n",
      "Epoch 15/20\n",
      "157/159 [============================>.] - ETA: 0s - loss: 0.0193WARNING:tensorflow:multiprocessing can interact badly with TensorFlow, causing nondeterministic deadlocks. For high performance data pipelines tf.data is recommended.\n",
      "159/159 [==============================] - 3s 19ms/step - loss: 0.0193\n",
      "WARNING:tensorflow:multiprocessing can interact badly with TensorFlow, causing nondeterministic deadlocks. For high performance data pipelines tf.data is recommended.\n",
      "WARNING:tensorflow:multiprocessing can interact badly with TensorFlow, causing nondeterministic deadlocks. For high performance data pipelines tf.data is recommended.\n",
      "\n",
      "*** Epoch 15: Spearman's correlation = 0.1849\n",
      "*** Epoch 15: MSE = 0.0220\n"
     ]
    },
    {
     "data": {
      "image/png": "[encoded data removed]",
      "text/plain": [
       "<Figure size 432x288 with 1 Axes>"
      ]
     },
     "metadata": {
      "needs_background": "light"
     },
     "output_type": "display_data"
    },
    {
     "name": "stdout",
     "output_type": "stream",
     "text": [
      "\n",
      "Epoch 16/20\n",
      "155/159 [============================>.] - ETA: 0s - loss: 0.0207WARNING:tensorflow:multiprocessing can interact badly with TensorFlow, causing nondeterministic deadlocks. For high performance data pipelines tf.data is recommended.\n",
      "159/159 [==============================] - 3s 20ms/step - loss: 0.0207\n",
      "WARNING:tensorflow:multiprocessing can interact badly with TensorFlow, causing nondeterministic deadlocks. For high performance data pipelines tf.data is recommended.\n",
      "WARNING:tensorflow:multiprocessing can interact badly with TensorFlow, causing nondeterministic deadlocks. For high performance data pipelines tf.data is recommended.\n",
      "\n",
      "*** Epoch 16: Spearman's correlation = 0.1850\n",
      "*** Epoch 16: MSE = 0.0198\n"
     ]
    },
    {
     "data": {
      "image/png": "[encoded data removed]",
      "text/plain": [
       "<Figure size 432x288 with 1 Axes>"
      ]
     },
     "metadata": {
      "needs_background": "light"
     },
     "output_type": "display_data"
    },
    {
     "name": "stdout",
     "output_type": "stream",
     "text": [
      "\n",
      "Epoch 17/20\n",
      "158/159 [============================>.] - ETA: 0s - loss: 0.0199WARNING:tensorflow:multiprocessing can interact badly with TensorFlow, causing nondeterministic deadlocks. For high performance data pipelines tf.data is recommended.\n",
      "159/159 [==============================] - 3s 19ms/step - loss: 0.0199\n",
      "WARNING:tensorflow:multiprocessing can interact badly with TensorFlow, causing nondeterministic deadlocks. For high performance data pipelines tf.data is recommended.\n",
      "\n",
      "*** Epoch 16: Spearman's correlation = 0.1850\n",
      "*** Epoch 16: MSE = 0.0198\n",
      "WARNING:tensorflow:multiprocessing can interact badly with TensorFlow, causing nondeterministic deadlocks. For high performance data pipelines tf.data is recommended.\n",
      "\n",
      "*** Epoch 17: Spearman's correlation = 0.1844\n",
      "*** Epoch 17: MSE = 0.0407\n"
     ]
    },
    {
     "data": {
      "image/png": "[encoded data removed]",
      "text/plain": [
       "<Figure size 432x288 with 1 Axes>"
      ]
     },
     "metadata": {
      "needs_background": "light"
     },
     "output_type": "display_data"
    },
    {
     "name": "stdout",
     "output_type": "stream",
     "text": [
      "\n",
      "Epoch 18/20\n",
      "156/159 [============================>.] - ETA: 0s - loss: 0.0205WARNING:tensorflow:multiprocessing can interact badly with TensorFlow, causing nondeterministic deadlocks. For high performance data pipelines tf.data is recommended.\n",
      "159/159 [==============================] - 3s 18ms/step - loss: 0.0205\n",
      "WARNING:tensorflow:multiprocessing can interact badly with TensorFlow, causing nondeterministic deadlocks. For high performance data pipelines tf.data is recommended.\n",
      "\n",
      "*** Epoch 17: Spearman's correlation = 0.1844\n",
      "WARNING:tensorflow:multiprocessing can interact badly with TensorFlow, causing nondeterministic deadlocks. For high performance data pipelines tf.data is recommended.\n",
      "\n",
      "*** Epoch 18: Spearman's correlation = 0.1850\n",
      "*** Epoch 18: MSE = 0.0218\n"
     ]
    },
    {
     "data": {
      "image/png": "[encoded data removed]",
      "text/plain": [
       "<Figure size 432x288 with 1 Axes>"
      ]
     },
     "metadata": {
      "needs_background": "light"
     },
     "output_type": "display_data"
    },
    {
     "name": "stdout",
     "output_type": "stream",
     "text": [
      "\n",
      "Epoch 19/20\n",
      "156/159 [============================>.] - ETA: 0s - loss: 0.0198WARNING:tensorflow:multiprocessing can interact badly with TensorFlow, causing nondeterministic deadlocks. For high performance data pipelines tf.data is recommended.\n",
      "159/159 [==============================] - 3s 19ms/step - loss: 0.0198\n",
      "WARNING:tensorflow:multiprocessing can interact badly with TensorFlow, causing nondeterministic deadlocks. For high performance data pipelines tf.data is recommended.\n",
      "\n",
      "*** Epoch 18: Spearman's correlation = 0.1850\n",
      "*** Epoch 18: MSE = 0.0218\n",
      "WARNING:tensorflow:multiprocessing can interact badly with TensorFlow, causing nondeterministic deadlocks. For high performance data pipelines tf.data is recommended.\n",
      "\n",
      "*** Epoch 19: Spearman's correlation = 0.1850\n",
      "*** Epoch 19: MSE = 0.0361\n"
     ]
    },
    {
     "data": {
      "image/png": "[encoded data removed]",
      "text/plain": [
       "<Figure size 432x288 with 1 Axes>"
      ]
     },
     "metadata": {
      "needs_background": "light"
     },
     "output_type": "display_data"
    },
    {
     "name": "stdout",
     "output_type": "stream",
     "text": [
      "\n",
      "Epoch 20/20\n",
      "157/159 [============================>.] - ETA: 0s - loss: 0.0193WARNING:tensorflow:multiprocessing can interact badly with TensorFlow, causing nondeterministic deadlocks. For high performance data pipelines tf.data is recommended.\n",
      "159/159 [==============================] - 3s 19ms/step - loss: 0.0193\n",
      "WARNING:tensorflow:multiprocessing can interact badly with TensorFlow, causing nondeterministic deadlocks. For high performance data pipelines tf.data is recommended.\n",
      "WARNING:tensorflow:multiprocessing can interact badly with TensorFlow, causing nondeterministic deadlocks. For high performance data pipelines tf.data is recommended.\n",
      "\n",
      "*** Epoch 20: Spearman's correlation = 0.1853\n",
      "*** Epoch 20: MSE = 0.0215\n"
     ]
    },
    {
     "data": {
      "image/png": "[encoded data removed]",
      "text/plain": [
       "<Figure size 432x288 with 1 Axes>"
      ]
     },
     "metadata": {
      "needs_background": "light"
     },
     "output_type": "display_data"
    },
    {
     "name": "stdout",
     "output_type": "stream",
     "text": [
      "\n",
      "Model: \"model_6\"\n",
      "_________________________________________________________________\n",
      "Layer (type)                 Output Shape              Param #   \n",
      "=================================================================\n",
      "input_14 (InputLayer)        [(None, 4, 1)]            0         \n",
      "_________________________________________________________________\n",
      "lstm_12 (LSTM)               (None, 4, 32)             4352      \n",
      "_________________________________________________________________\n",
      "lstm_13 (LSTM)               (None, 4, 32)             8320      \n",
      "_________________________________________________________________\n",
      "flatten_20 (Flatten)         (None, 128)               0         \n",
      "_________________________________________________________________\n",
      "dense_39 (Dense)             (None, 128)               16512     \n",
      "_________________________________________________________________\n",
      "batch_normalization_6 (Batch (None, 128)               512       \n",
      "_________________________________________________________________\n",
      "dense_40 (Dense)             (None, 64)                8256      \n",
      "_________________________________________________________________\n",
      "dense_41 (Dense)             (None, 1)                 65        \n",
      "=================================================================\n",
      "Total params: 38,017\n",
      "Trainable params: 37,761\n",
      "Non-trainable params: 256\n",
      "_________________________________________________________________\n",
      "None\n",
      "Epoch 1/20\n",
      "  3/159 [..............................] - ETA: 38s - loss: 0.1033WARNING:tensorflow:Callback method `on_train_batch_end` is slow compared to the batch time (batch time: 0.0143s vs `on_train_batch_end` time: 0.0739s). Check your callbacks.\n",
      "157/159 [============================>.] - ETA: 0s - loss: 0.0417WARNING:tensorflow:multiprocessing can interact badly with TensorFlow, causing nondeterministic deadlocks. For high performance data pipelines tf.data is recommended.\n",
      "159/159 [==============================] - 7s 23ms/step - loss: 0.0414\n",
      "WARNING:tensorflow:multiprocessing can interact badly with TensorFlow, causing nondeterministic deadlocks. For high performance data pipelines tf.data is recommended.\n",
      "WARNING:tensorflow:multiprocessing can interact badly with TensorFlow, causing nondeterministic deadlocks. For high performance data pipelines tf.data is recommended.\n",
      "\n",
      "*** Epoch 1: Spearman's correlation = 0.1865\n",
      "*** Epoch 1: MSE = 0.0206\n"
     ]
    },
    {
     "data": {
      "image/png": "[encoded data removed]",
      "text/plain": [
       "<Figure size 432x288 with 1 Axes>"
      ]
     },
     "metadata": {
      "needs_background": "light"
     },
     "output_type": "display_data"
    },
    {
     "name": "stdout",
     "output_type": "stream",
     "text": [
      "\n",
      "Epoch 2/20\n",
      "157/159 [============================>.] - ETA: 0s - loss: 0.0203WARNING:tensorflow:multiprocessing can interact badly with TensorFlow, causing nondeterministic deadlocks. For high performance data pipelines tf.data is recommended.\n",
      "159/159 [==============================] - 3s 21ms/step - loss: 0.0203\n",
      "WARNING:tensorflow:multiprocessing can interact badly with TensorFlow, causing nondeterministic deadlocks. For high performance data pipelines tf.data is recommended.\n",
      "*** Epoch 1: MSE = 0.0206\n",
      "WARNING:tensorflow:multiprocessing can interact badly with TensorFlow, causing nondeterministic deadlocks. For high performance data pipelines tf.data is recommended.\n",
      "\n",
      "*** Epoch 2: Spearman's correlation = 0.1856\n",
      "*** Epoch 2: MSE = 0.0205\n"
     ]
    },
    {
     "data": {
      "image/png": "[encoded data removed]",
      "text/plain": [
       "<Figure size 432x288 with 1 Axes>"
      ]
     },
     "metadata": {
      "needs_background": "light"
     },
     "output_type": "display_data"
    },
    {
     "name": "stdout",
     "output_type": "stream",
     "text": [
      "\n",
      "Epoch 3/20\n",
      "154/159 [============================>.] - ETA: 0s - loss: 0.0196WARNING:tensorflow:multiprocessing can interact badly with TensorFlow, causing nondeterministic deadlocks. For high performance data pipelines tf.data is recommended.\n",
      "159/159 [==============================] - 3s 19ms/step - loss: 0.0196\n",
      "WARNING:tensorflow:multiprocessing can interact badly with TensorFlow, causing nondeterministic deadlocks. For high performance data pipelines tf.data is recommended.\n",
      "WARNING:tensorflow:multiprocessing can interact badly with TensorFlow, causing nondeterministic deadlocks. For high performance data pipelines tf.data is recommended.\n",
      "\n",
      "*** Epoch 3: Spearman's correlation = 0.1851\n",
      "*** Epoch 3: MSE = 0.0202\n"
     ]
    },
    {
     "data": {
      "image/png": "[encoded data removed]",
      "text/plain": [
       "<Figure size 432x288 with 1 Axes>"
      ]
     },
     "metadata": {
      "needs_background": "light"
     },
     "output_type": "display_data"
    },
    {
     "name": "stdout",
     "output_type": "stream",
     "text": [
      "\n",
      "Epoch 4/20\n",
      "152/159 [===========================>..] - ETA: 0s - loss: 0.0201WARNING:tensorflow:multiprocessing can interact badly with TensorFlow, causing nondeterministic deadlocks. For high performance data pipelines tf.data is recommended.\n",
      "159/159 [==============================] - 3s 20ms/step - loss: 0.0201\n",
      "WARNING:tensorflow:multiprocessing can interact badly with TensorFlow, causing nondeterministic deadlocks. For high performance data pipelines tf.data is recommended.\n",
      "WARNING:tensorflow:multiprocessing can interact badly with TensorFlow, causing nondeterministic deadlocks. For high performance data pipelines tf.data is recommended.\n",
      "\n",
      "*** Epoch 4: Spearman's correlation = 0.1851\n",
      "*** Epoch 4: MSE = 0.0201\n"
     ]
    },
    {
     "data": {
      "image/png": "[encoded data removed]",
      "text/plain": [
       "<Figure size 432x288 with 1 Axes>"
      ]
     },
     "metadata": {
      "needs_background": "light"
     },
     "output_type": "display_data"
    },
    {
     "name": "stdout",
     "output_type": "stream",
     "text": [
      "\n",
      "Epoch 5/20\n",
      "156/159 [============================>.] - ETA: 0s - loss: 0.0199WARNING:tensorflow:multiprocessing can interact badly with TensorFlow, causing nondeterministic deadlocks. For high performance data pipelines tf.data is recommended.\n",
      "159/159 [==============================] - 3s 19ms/step - loss: 0.0199\n",
      "WARNING:tensorflow:multiprocessing can interact badly with TensorFlow, causing nondeterministic deadlocks. For high performance data pipelines tf.data is recommended.\n",
      "\n",
      "*** Epoch 4: Spearman's correlation = 0.1851\n",
      "*** Epoch 4: MSE = 0.0201\n",
      "WARNING:tensorflow:multiprocessing can interact badly with TensorFlow, causing nondeterministic deadlocks. For high performance data pipelines tf.data is recommended.\n",
      "\n",
      "*** Epoch 5: Spearman's correlation = 0.1739\n",
      "*** Epoch 5: MSE = 0.0216\n"
     ]
    },
    {
     "data": {
      "image/png": "[encoded data removed]",
      "text/plain": [
       "<Figure size 432x288 with 1 Axes>"
      ]
     },
     "metadata": {
      "needs_background": "light"
     },
     "output_type": "display_data"
    },
    {
     "name": "stdout",
     "output_type": "stream",
     "text": [
      "\n",
      "Epoch 6/20\n",
      "153/159 [===========================>..] - ETA: 0s - loss: 0.0198WARNING:tensorflow:multiprocessing can interact badly with TensorFlow, causing nondeterministic deadlocks. For high performance data pipelines tf.data is recommended.\n",
      "159/159 [==============================] - 3s 18ms/step - loss: 0.0198\n",
      "WARNING:tensorflow:multiprocessing can interact badly with TensorFlow, causing nondeterministic deadlocks. For high performance data pipelines tf.data is recommended.\n",
      "\n",
      "*** Epoch 5: Spearman's correlation = 0.1739\n",
      "WARNING:tensorflow:multiprocessing can interact badly with TensorFlow, causing nondeterministic deadlocks. For high performance data pipelines tf.data is recommended.\n",
      "\n",
      "*** Epoch 6: Spearman's correlation = 0.1858\n",
      "*** Epoch 6: MSE = 0.0214\n"
     ]
    },
    {
     "data": {
      "image/png": "[encoded data removed]",
      "text/plain": [
       "<Figure size 432x288 with 1 Axes>"
      ]
     },
     "metadata": {
      "needs_background": "light"
     },
     "output_type": "display_data"
    },
    {
     "name": "stdout",
     "output_type": "stream",
     "text": [
      "\n",
      "Epoch 7/20\n",
      "155/159 [============================>.] - ETA: 0s - loss: 0.0200WARNING:tensorflow:multiprocessing can interact badly with TensorFlow, causing nondeterministic deadlocks. For high performance data pipelines tf.data is recommended.\n",
      "159/159 [==============================] - 4s 22ms/step - loss: 0.0200\n",
      "WARNING:tensorflow:multiprocessing can interact badly with TensorFlow, causing nondeterministic deadlocks. For high performance data pipelines tf.data is recommended.\n",
      "\n",
      "WARNING:tensorflow:multiprocessing can interact badly with TensorFlow, causing nondeterministic deadlocks. For high performance data pipelines tf.data is recommended.\n",
      "\n",
      "*** Epoch 7: Spearman's correlation = 0.1850\n",
      "*** Epoch 7: MSE = 0.0216\n"
     ]
    },
    {
     "data": {
      "image/png": "[encoded data removed]",
      "text/plain": [
       "<Figure size 432x288 with 1 Axes>"
      ]
     },
     "metadata": {
      "needs_background": "light"
     },
     "output_type": "display_data"
    },
    {
     "name": "stdout",
     "output_type": "stream",
     "text": [
      "\n",
      "Epoch 8/20\n",
      "155/159 [============================>.] - ETA: 0s - loss: 0.0201WARNING:tensorflow:multiprocessing can interact badly with TensorFlow, causing nondeterministic deadlocks. For high performance data pipelines tf.data is recommended.\n",
      "159/159 [==============================] - 3s 20ms/step - loss: 0.0201\n",
      "WARNING:tensorflow:multiprocessing can interact badly with TensorFlow, causing nondeterministic deadlocks. For high performance data pipelines tf.data is recommended.\n",
      "\n",
      "WARNING:tensorflow:multiprocessing can interact badly with TensorFlow, causing nondeterministic deadlocks. For high performance data pipelines tf.data is recommended.\n",
      "\n",
      "*** Epoch 8: Spearman's correlation = 0.1850\n",
      "*** Epoch 8: MSE = 0.0212\n"
     ]
    },
    {
     "data": {
      "image/png": "[encoded data removed]",
      "text/plain": [
       "<Figure size 432x288 with 1 Axes>"
      ]
     },
     "metadata": {
      "needs_background": "light"
     },
     "output_type": "display_data"
    },
    {
     "name": "stdout",
     "output_type": "stream",
     "text": [
      "\n",
      "Epoch 9/20\n",
      "153/159 [===========================>..] - ETA: 0s - loss: 0.0206WARNING:tensorflow:multiprocessing can interact badly with TensorFlow, causing nondeterministic deadlocks. For high performance data pipelines tf.data is recommended.\n",
      "159/159 [==============================] - 3s 20ms/step - loss: 0.0206\n",
      "WARNING:tensorflow:multiprocessing can interact badly with TensorFlow, causing nondeterministic deadlocks. For high performance data pipelines tf.data is recommended.\n",
      "\n",
      "*** Epoch 8: Spearman's correlation = 0.1850WARNING:tensorflow:multiprocessing can interact badly with TensorFlow, causing nondeterministic deadlocks. For high performance data pipelines tf.data is recommended.\n",
      "\n",
      "*** Epoch 9: Spearman's correlation = 0.1848\n",
      "*** Epoch 9: MSE = 0.0200\n"
     ]
    },
    {
     "data": {
      "image/png": "[encoded data removed]",
      "text/plain": [
       "<Figure size 432x288 with 1 Axes>"
      ]
     },
     "metadata": {
      "needs_background": "light"
     },
     "output_type": "display_data"
    },
    {
     "name": "stdout",
     "output_type": "stream",
     "text": [
      "\n",
      "Epoch 10/20\n",
      "157/159 [============================>.] - ETA: 0s - loss: 0.0196WARNING:tensorflow:multiprocessing can interact badly with TensorFlow, causing nondeterministic deadlocks. For high performance data pipelines tf.data is recommended.\n",
      "159/159 [==============================] - 3s 19ms/step - loss: 0.0196\n",
      "WARNING:tensorflow:multiprocessing can interact badly with TensorFlow, causing nondeterministic deadlocks. For high performance data pipelines tf.data is recommended.\n",
      "*** Epoch 9: MSE = 0.0200\n",
      "WARNING:tensorflow:multiprocessing can interact badly with TensorFlow, causing nondeterministic deadlocks. For high performance data pipelines tf.data is recommended.\n",
      "\n",
      "*** Epoch 10: Spearman's correlation = 0.1838\n",
      "*** Epoch 10: MSE = 0.0216\n"
     ]
    },
    {
     "data": {
      "image/png": "[encoded data removed]",
      "text/plain": [
       "<Figure size 432x288 with 1 Axes>"
      ]
     },
     "metadata": {
      "needs_background": "light"
     },
     "output_type": "display_data"
    },
    {
     "name": "stdout",
     "output_type": "stream",
     "text": [
      "\n",
      "Epoch 11/20\n",
      "156/159 [============================>.] - ETA: 0s - loss: 0.0205WARNING:tensorflow:multiprocessing can interact badly with TensorFlow, causing nondeterministic deadlocks. For high performance data pipelines tf.data is recommended.\n",
      "159/159 [==============================] - 3s 20ms/step - loss: 0.0205\n",
      "WARNING:tensorflow:multiprocessing can interact badly with TensorFlow, causing nondeterministic deadlocks. For high performance data pipelines tf.data is recommended.\n",
      "\n",
      "*** Epoch 10: Spearman's correlation = 0.1838\n",
      "*** Epoch 10: MSE = 0.0216\n",
      "WARNING:tensorflow:multiprocessing can interact badly with TensorFlow, causing nondeterministic deadlocks. For high performance data pipelines tf.data is recommended.\n",
      "\n",
      "*** Epoch 11: Spearman's correlation = 0.1857\n",
      "*** Epoch 11: MSE = 0.0198\n"
     ]
    },
    {
     "data": {
      "image/png": "[encoded data removed]",
      "text/plain": [
       "<Figure size 432x288 with 1 Axes>"
      ]
     },
     "metadata": {
      "needs_background": "light"
     },
     "output_type": "display_data"
    },
    {
     "name": "stdout",
     "output_type": "stream",
     "text": [
      "\n",
      "Epoch 12/20\n",
      "157/159 [============================>.] - ETA: 0s - loss: 0.0200WARNING:tensorflow:multiprocessing can interact badly with TensorFlow, causing nondeterministic deadlocks. For high performance data pipelines tf.data is recommended.\n",
      "159/159 [==============================] - 3s 19ms/step - loss: 0.0200\n",
      "WARNING:tensorflow:multiprocessing can interact badly with TensorFlow, causing nondeterministic deadlocks. For high performance data pipelines tf.data is recommended.\n",
      "\n",
      "WARNING:tensorflow:multiprocessing can interact badly with TensorFlow, causing nondeterministic deadlocks. For high performance data pipelines tf.data is recommended.\n",
      "\n",
      "*** Epoch 12: Spearman's correlation = 0.1857\n",
      "*** Epoch 12: MSE = 0.0199\n"
     ]
    },
    {
     "data": {
      "image/png": "[encoded data removed]",
      "text/plain": [
       "<Figure size 432x288 with 1 Axes>"
      ]
     },
     "metadata": {
      "needs_background": "light"
     },
     "output_type": "display_data"
    },
    {
     "name": "stdout",
     "output_type": "stream",
     "text": [
      "\n",
      "Epoch 13/20\n",
      "155/159 [============================>.] - ETA: 0s - loss: 0.0205WARNING:tensorflow:multiprocessing can interact badly with TensorFlow, causing nondeterministic deadlocks. For high performance data pipelines tf.data is recommended.\n",
      "159/159 [==============================] - 3s 18ms/step - loss: 0.0205\n",
      "WARNING:tensorflow:multiprocessing can interact badly with TensorFlow, causing nondeterministic deadlocks. For high performance data pipelines tf.data is recommended.\n",
      "WARNING:tensorflow:multiprocessing can interact badly with TensorFlow, causing nondeterministic deadlocks. For high performance data pipelines tf.data is recommended.\n",
      "\n",
      "*** Epoch 13: Spearman's correlation = 0.1844\n",
      "*** Epoch 13: MSE = 0.0213\n"
     ]
    },
    {
     "data": {
      "image/png": "[encoded data removed]",
      "text/plain": [
       "<Figure size 432x288 with 1 Axes>"
      ]
     },
     "metadata": {
      "needs_background": "light"
     },
     "output_type": "display_data"
    },
    {
     "name": "stdout",
     "output_type": "stream",
     "text": [
      "\n",
      "Epoch 14/20\n",
      "154/159 [============================>.] - ETA: 0s - loss: 0.0202WARNING:tensorflow:multiprocessing can interact badly with TensorFlow, causing nondeterministic deadlocks. For high performance data pipelines tf.data is recommended.\n",
      "159/159 [==============================] - 3s 19ms/step - loss: 0.0202\n",
      "WARNING:tensorflow:multiprocessing can interact badly with TensorFlow, causing nondeterministic deadlocks. For high performance data pipelines tf.data is recommended.\n",
      "\n",
      "*** Epoch 13: Spearman's correlation = 0.1844\n",
      "*** Epoch 13: MSE = 0.0213\n",
      "WARNING:tensorflow:multiprocessing can interact badly with TensorFlow, causing nondeterministic deadlocks. For high performance data pipelines tf.data is recommended.\n",
      "\n",
      "*** Epoch 14: Spearman's correlation = 0.1861\n",
      "*** Epoch 14: MSE = 0.0198\n"
     ]
    },
    {
     "data": {
      "image/png": "[encoded data removed]",
      "text/plain": [
       "<Figure size 432x288 with 1 Axes>"
      ]
     },
     "metadata": {
      "needs_background": "light"
     },
     "output_type": "display_data"
    },
    {
     "name": "stdout",
     "output_type": "stream",
     "text": [
      "\n",
      "Epoch 15/20\n",
      "154/159 [============================>.] - ETA: 0s - loss: 0.0204WARNING:tensorflow:multiprocessing can interact badly with TensorFlow, causing nondeterministic deadlocks. For high performance data pipelines tf.data is recommended.\n",
      "159/159 [==============================] - 3s 19ms/step - loss: 0.0203\n",
      "WARNING:tensorflow:multiprocessing can interact badly with TensorFlow, causing nondeterministic deadlocks. For high performance data pipelines tf.data is recommended.\n",
      "*** Epoch 14: MSE = 0.0198\n",
      "WARNING:tensorflow:multiprocessing can interact badly with TensorFlow, causing nondeterministic deadlocks. For high performance data pipelines tf.data is recommended.\n",
      "\n",
      "*** Epoch 15: Spearman's correlation = 0.1851\n",
      "*** Epoch 15: MSE = 0.0198\n"
     ]
    },
    {
     "data": {
      "image/png": "[encoded data removed]",
      "text/plain": [
       "<Figure size 432x288 with 1 Axes>"
      ]
     },
     "metadata": {
      "needs_background": "light"
     },
     "output_type": "display_data"
    },
    {
     "name": "stdout",
     "output_type": "stream",
     "text": [
      "\n",
      "Epoch 16/20\n",
      "154/159 [============================>.] - ETA: 0s - loss: 0.0198WARNING:tensorflow:multiprocessing can interact badly with TensorFlow, causing nondeterministic deadlocks. For high performance data pipelines tf.data is recommended.\n",
      "159/159 [==============================] - 3s 19ms/step - loss: 0.0198\n",
      "WARNING:tensorflow:multiprocessing can interact badly with TensorFlow, causing nondeterministic deadlocks. For high performance data pipelines tf.data is recommended.\n",
      "\n",
      "*** Epoch 15: Spearman's correlation = 0.1851\n",
      "*** Epoch 15: MSE = 0.0198\n",
      "WARNING:tensorflow:multiprocessing can interact badly with TensorFlow, causing nondeterministic deadlocks. For high performance data pipelines tf.data is recommended.\n",
      "\n",
      "*** Epoch 16: Spearman's correlation = 0.1856\n",
      "*** Epoch 16: MSE = 0.0201\n"
     ]
    },
    {
     "data": {
      "image/png": "[encoded data removed]",
      "text/plain": [
       "<Figure size 432x288 with 1 Axes>"
      ]
     },
     "metadata": {
      "needs_background": "light"
     },
     "output_type": "display_data"
    },
    {
     "name": "stdout",
     "output_type": "stream",
     "text": [
      "\n",
      "Epoch 17/20\n",
      "156/159 [============================>.] - ETA: 0s - loss: 0.0202WARNING:tensorflow:multiprocessing can interact badly with TensorFlow, causing nondeterministic deadlocks. For high performance data pipelines tf.data is recommended.\n",
      "159/159 [==============================] - 3s 19ms/step - loss: 0.0202\n",
      "WARNING:tensorflow:multiprocessing can interact badly with TensorFlow, causing nondeterministic deadlocks. For high performance data pipelines tf.data is recommended.\n",
      "WARNING:tensorflow:multiprocessing can interact badly with TensorFlow, causing nondeterministic deadlocks. For high performance data pipelines tf.data is recommended.\n",
      "\n",
      "*** Epoch 17: Spearman's correlation = 0.1855\n",
      "*** Epoch 17: MSE = 0.0201\n"
     ]
    },
    {
     "data": {
      "image/png": "[encoded data removed]",
      "text/plain": [
       "<Figure size 432x288 with 1 Axes>"
      ]
     },
     "metadata": {
      "needs_background": "light"
     },
     "output_type": "display_data"
    },
    {
     "name": "stdout",
     "output_type": "stream",
     "text": [
      "\n",
      "Epoch 18/20\n",
      "154/159 [============================>.] - ETA: 0s - loss: 0.0195WARNING:tensorflow:multiprocessing can interact badly with TensorFlow, causing nondeterministic deadlocks. For high performance data pipelines tf.data is recommended.\n",
      "159/159 [==============================] - 3s 20ms/step - loss: 0.0195\n",
      "WARNING:tensorflow:multiprocessing can interact badly with TensorFlow, causing nondeterministic deadlocks. For high performance data pipelines tf.data is recommended.\n",
      "WARNING:tensorflow:multiprocessing can interact badly with TensorFlow, causing nondeterministic deadlocks. For high performance data pipelines tf.data is recommended.\n",
      "\n",
      "*** Epoch 18: Spearman's correlation = 0.1852\n",
      "*** Epoch 18: MSE = 0.0215\n"
     ]
    },
    {
     "data": {
      "image/png": "[encoded data removed]",
      "text/plain": [
       "<Figure size 432x288 with 1 Axes>"
      ]
     },
     "metadata": {
      "needs_background": "light"
     },
     "output_type": "display_data"
    },
    {
     "name": "stdout",
     "output_type": "stream",
     "text": [
      "\n",
      "Epoch 19/20\n",
      "156/159 [============================>.] - ETA: 0s - loss: 0.0198WARNING:tensorflow:multiprocessing can interact badly with TensorFlow, causing nondeterministic deadlocks. For high performance data pipelines tf.data is recommended.\n",
      "159/159 [==============================] - 3s 19ms/step - loss: 0.0198\n",
      "WARNING:tensorflow:multiprocessing can interact badly with TensorFlow, causing nondeterministic deadlocks. For high performance data pipelines tf.data is recommended.\n",
      "\n",
      "*** Epoch 18: Spearman's correlation = 0.1852\n",
      "WARNING:tensorflow:multiprocessing can interact badly with TensorFlow, causing nondeterministic deadlocks. For high performance data pipelines tf.data is recommended.\n",
      "\n",
      "*** Epoch 19: Spearman's correlation = 0.1851\n",
      "*** Epoch 19: MSE = 0.0199\n"
     ]
    },
    {
     "data": {
      "image/png": "[encoded data removed]",
      "text/plain": [
       "<Figure size 432x288 with 1 Axes>"
      ]
     },
     "metadata": {
      "needs_background": "light"
     },
     "output_type": "display_data"
    },
    {
     "name": "stdout",
     "output_type": "stream",
     "text": [
      "\n",
      "Epoch 20/20\n",
      "156/159 [============================>.] - ETA: 0s - loss: 0.0198WARNING:tensorflow:multiprocessing can interact badly with TensorFlow, causing nondeterministic deadlocks. For high performance data pipelines tf.data is recommended.\n",
      "159/159 [==============================] - 3s 20ms/step - loss: 0.0198\n",
      "WARNING:tensorflow:multiprocessing can interact badly with TensorFlow, causing nondeterministic deadlocks. For high performance data pipelines tf.data is recommended.\n",
      "WARNING:tensorflow:multiprocessing can interact badly with TensorFlow, causing nondeterministic deadlocks. For high performance data pipelines tf.data is recommended.\n",
      "\n",
      "*** Epoch 20: Spearman's correlation = 0.1852\n",
      "*** Epoch 20: MSE = 0.0198\n"
     ]
    },
    {
     "data": {
      "image/png": "[encoded data removed]",
      "text/plain": [
       "<Figure size 432x288 with 1 Axes>"
      ]
     },
     "metadata": {
      "needs_background": "light"
     },
     "output_type": "display_data"
    },
    {
     "name": "stdout",
     "output_type": "stream",
     "text": [
      "\n",
      "Model: \"model_7\"\n",
      "_________________________________________________________________\n",
      "Layer (type)                 Output Shape              Param #   \n",
      "=================================================================\n",
      "input_16 (InputLayer)        [(None, 4, 1)]            0         \n",
      "_________________________________________________________________\n",
      "lstm_14 (LSTM)               (None, 4, 32)             4352      \n",
      "_________________________________________________________________\n",
      "lstm_15 (LSTM)               (None, 4, 32)             8320      \n",
      "_________________________________________________________________\n",
      "flatten_23 (Flatten)         (None, 128)               0         \n",
      "_________________________________________________________________\n",
      "dense_45 (Dense)             (None, 128)               16512     \n",
      "_________________________________________________________________\n",
      "batch_normalization_7 (Batch (None, 128)               512       \n",
      "_________________________________________________________________\n",
      "dense_46 (Dense)             (None, 64)                8256      \n",
      "_________________________________________________________________\n",
      "dense_47 (Dense)             (None, 1)                 65        \n",
      "=================================================================\n",
      "Total params: 38,017\n",
      "Trainable params: 37,761\n",
      "Non-trainable params: 256\n",
      "_________________________________________________________________\n",
      "None\n",
      "Epoch 1/20\n",
      "  3/159 [..............................] - ETA: 36s - loss: 0.0993WARNING:tensorflow:Callback method `on_train_batch_end` is slow compared to the batch time (batch time: 0.0130s vs `on_train_batch_end` time: 0.0715s). Check your callbacks.\n",
      "155/159 [============================>.] - ETA: 0s - loss: 0.0402WARNING:tensorflow:multiprocessing can interact badly with TensorFlow, causing nondeterministic deadlocks. For high performance data pipelines tf.data is recommended.\n",
      "159/159 [==============================] - 8s 23ms/step - loss: 0.0398\n",
      "WARNING:tensorflow:multiprocessing can interact badly with TensorFlow, causing nondeterministic deadlocks. For high performance data pipelines tf.data is recommended.\n",
      "\n",
      "*** Epoch 20: Spearman's correlation = 0.1852\n",
      "*** Epoch 20: MSE = 0.0198\n",
      "WARNING:tensorflow:multiprocessing can interact badly with TensorFlow, causing nondeterministic deadlocks. For high performance data pipelines tf.data is recommended.\n",
      "\n",
      "*** Epoch 1: Spearman's correlation = 0.1866\n",
      "*** Epoch 1: MSE = 0.0206\n"
     ]
    },
    {
     "data": {
      "image/png": "[encoded data removed]",
      "text/plain": [
       "<Figure size 432x288 with 1 Axes>"
      ]
     },
     "metadata": {
      "needs_background": "light"
     },
     "output_type": "display_data"
    },
    {
     "name": "stdout",
     "output_type": "stream",
     "text": [
      "\n",
      "Epoch 2/20\n",
      "153/159 [===========================>..] - ETA: 0s - loss: 0.0197WARNING:tensorflow:multiprocessing can interact badly with TensorFlow, causing nondeterministic deadlocks. For high performance data pipelines tf.data is recommended.\n",
      "159/159 [==============================] - 3s 19ms/step - loss: 0.0197\n",
      "WARNING:tensorflow:multiprocessing can interact badly with TensorFlow, causing nondeterministic deadlocks. For high performance data pipelines tf.data is recommended.\n",
      "WARNING:tensorflow:multiprocessing can interact badly with TensorFlow, causing nondeterministic deadlocks. For high performance data pipelines tf.data is recommended.\n",
      "\n",
      "*** Epoch 2: Spearman's correlation = 0.1867\n",
      "*** Epoch 2: MSE = 0.0206\n"
     ]
    },
    {
     "data": {
      "image/png": "[encoded data removed]",
      "text/plain": [
       "<Figure size 432x288 with 1 Axes>"
      ]
     },
     "metadata": {
      "needs_background": "light"
     },
     "output_type": "display_data"
    },
    {
     "name": "stdout",
     "output_type": "stream",
     "text": [
      "\n",
      "Epoch 3/20\n",
      "154/159 [============================>.] - ETA: 0s - loss: 0.0203WARNING:tensorflow:multiprocessing can interact badly with TensorFlow, causing nondeterministic deadlocks. For high performance data pipelines tf.data is recommended.\n",
      "159/159 [==============================] - 3s 18ms/step - loss: 0.0203\n",
      "WARNING:tensorflow:multiprocessing can interact badly with TensorFlow, causing nondeterministic deadlocks. For high performance data pipelines tf.data is recommended.\n",
      "WARNING:tensorflow:multiprocessing can interact badly with TensorFlow, causing nondeterministic deadlocks. For high performance data pipelines tf.data is recommended.\n",
      "\n",
      "*** Epoch 3: Spearman's correlation = 0.1854\n",
      "*** Epoch 3: MSE = 0.0206\n"
     ]
    },
    {
     "data": {
      "image/png": "[encoded data removed]",
      "text/plain": [
       "<Figure size 432x288 with 1 Axes>"
      ]
     },
     "metadata": {
      "needs_background": "light"
     },
     "output_type": "display_data"
    },
    {
     "name": "stdout",
     "output_type": "stream",
     "text": [
      "\n",
      "Epoch 4/20\n",
      "154/159 [============================>.] - ETA: 0s - loss: 0.0194WARNING:tensorflow:multiprocessing can interact badly with TensorFlow, causing nondeterministic deadlocks. For high performance data pipelines tf.data is recommended.\n",
      "159/159 [==============================] - 3s 21ms/step - loss: 0.0195\n",
      "WARNING:tensorflow:multiprocessing can interact badly with TensorFlow, causing nondeterministic deadlocks. For high performance data pipelines tf.data is recommended.\n",
      "WARNING:tensorflow:multiprocessing can interact badly with TensorFlow, causing nondeterministic deadlocks. For high performance data pipelines tf.data is recommended.\n",
      "\n",
      "*** Epoch 4: Spearman's correlation = 0.1847\n",
      "*** Epoch 4: MSE = 0.0211\n"
     ]
    },
    {
     "data": {
      "image/png": "[encoded data removed]",
      "text/plain": [
       "<Figure size 432x288 with 1 Axes>"
      ]
     },
     "metadata": {
      "needs_background": "light"
     },
     "output_type": "display_data"
    },
    {
     "name": "stdout",
     "output_type": "stream",
     "text": [
      "\n",
      "Epoch 5/20\n",
      "155/159 [============================>.] - ETA: 0s - loss: 0.0199WARNING:tensorflow:multiprocessing can interact badly with TensorFlow, causing nondeterministic deadlocks. For high performance data pipelines tf.data is recommended.\n",
      "159/159 [==============================] - 3s 19ms/step - loss: 0.0199\n",
      "WARNING:tensorflow:multiprocessing can interact badly with TensorFlow, causing nondeterministic deadlocks. For high performance data pipelines tf.data is recommended.\n",
      "WARNING:tensorflow:multiprocessing can interact badly with TensorFlow, causing nondeterministic deadlocks. For high performance data pipelines tf.data is recommended.\n",
      "\n",
      "*** Epoch 5: Spearman's correlation = 0.1854\n",
      "*** Epoch 5: MSE = 0.0206\n"
     ]
    },
    {
     "data": {
      "image/png": "[encoded data removed]",
      "text/plain": [
       "<Figure size 432x288 with 1 Axes>"
      ]
     },
     "metadata": {
      "needs_background": "light"
     },
     "output_type": "display_data"
    },
    {
     "name": "stdout",
     "output_type": "stream",
     "text": [
      "\n",
      "Epoch 6/20\n",
      "154/159 [============================>.] - ETA: 0s - loss: 0.0204WARNING:tensorflow:multiprocessing can interact badly with TensorFlow, causing nondeterministic deadlocks. For high performance data pipelines tf.data is recommended.\n",
      "159/159 [==============================] - 3s 19ms/step - loss: 0.0204\n",
      "WARNING:tensorflow:multiprocessing can interact badly with TensorFlow, causing nondeterministic deadlocks. For high performance data pipelines tf.data is recommended.\n",
      "WARNING:tensorflow:multiprocessing can interact badly with TensorFlow, causing nondeterministic deadlocks. For high performance data pipelines tf.data is recommended.\n",
      "\n",
      "*** Epoch 6: Spearman's correlation = 0.1854\n",
      "*** Epoch 6: MSE = 0.0228\n"
     ]
    },
    {
     "data": {
      "image/png": "[encoded data removed]",
      "text/plain": [
       "<Figure size 432x288 with 1 Axes>"
      ]
     },
     "metadata": {
      "needs_background": "light"
     },
     "output_type": "display_data"
    },
    {
     "name": "stdout",
     "output_type": "stream",
     "text": [
      "\n",
      "Epoch 7/20\n",
      "156/159 [============================>.] - ETA: 0s - loss: 0.0196WARNING:tensorflow:multiprocessing can interact badly with TensorFlow, causing nondeterministic deadlocks. For high performance data pipelines tf.data is recommended.\n",
      "159/159 [==============================] - 3s 19ms/step - loss: 0.0196\n",
      "WARNING:tensorflow:multiprocessing can interact badly with TensorFlow, causing nondeterministic deadlocks. For high performance data pipelines tf.data is recommended.\n",
      "WARNING:tensorflow:multiprocessing can interact badly with TensorFlow, causing nondeterministic deadlocks. For high performance data pipelines tf.data is recommended.\n",
      "\n",
      "*** Epoch 7: Spearman's correlation = 0.1833\n",
      "*** Epoch 7: MSE = 0.0212\n"
     ]
    },
    {
     "data": {
      "image/png": "[encoded data removed]",
      "text/plain": [
       "<Figure size 432x288 with 1 Axes>"
      ]
     },
     "metadata": {
      "needs_background": "light"
     },
     "output_type": "display_data"
    },
    {
     "name": "stdout",
     "output_type": "stream",
     "text": [
      "\n",
      "Epoch 8/20\n",
      "156/159 [============================>.] - ETA: 0s - loss: 0.0198WARNING:tensorflow:multiprocessing can interact badly with TensorFlow, causing nondeterministic deadlocks. For high performance data pipelines tf.data is recommended.\n",
      "159/159 [==============================] - 4s 22ms/step - loss: 0.0198\n",
      "WARNING:tensorflow:multiprocessing can interact badly with TensorFlow, causing nondeterministic deadlocks. For high performance data pipelines tf.data is recommended.\n",
      "WARNING:tensorflow:multiprocessing can interact badly with TensorFlow, causing nondeterministic deadlocks. For high performance data pipelines tf.data is recommended.\n",
      "\n",
      "*** Epoch 8: Spearman's correlation = 0.1854\n",
      "*** Epoch 8: MSE = 0.0222\n"
     ]
    },
    {
     "data": {
      "image/png": "[encoded data removed]",
      "text/plain": [
       "<Figure size 432x288 with 1 Axes>"
      ]
     },
     "metadata": {
      "needs_background": "light"
     },
     "output_type": "display_data"
    },
    {
     "name": "stdout",
     "output_type": "stream",
     "text": [
      "\n",
      "Epoch 9/20\n",
      "153/159 [===========================>..] - ETA: 0s - loss: 0.0196WARNING:tensorflow:multiprocessing can interact badly with TensorFlow, causing nondeterministic deadlocks. For high performance data pipelines tf.data is recommended.\n",
      "159/159 [==============================] - 3s 20ms/step - loss: 0.0196\n",
      "WARNING:tensorflow:multiprocessing can interact badly with TensorFlow, causing nondeterministic deadlocks. For high performance data pipelines tf.data is recommended.\n",
      "WARNING:tensorflow:multiprocessing can interact badly with TensorFlow, causing nondeterministic deadlocks. For high performance data pipelines tf.data is recommended.\n",
      "\n",
      "*** Epoch 9: Spearman's correlation = 0.1836\n",
      "*** Epoch 9: MSE = 0.0316\n"
     ]
    },
    {
     "data": {
      "image/png": "[encoded data removed]",
      "text/plain": [
       "<Figure size 432x288 with 1 Axes>"
      ]
     },
     "metadata": {
      "needs_background": "light"
     },
     "output_type": "display_data"
    },
    {
     "name": "stdout",
     "output_type": "stream",
     "text": [
      "\n",
      "Epoch 10/20\n",
      "156/159 [============================>.] - ETA: 0s - loss: 0.0200WARNING:tensorflow:multiprocessing can interact badly with TensorFlow, causing nondeterministic deadlocks. For high performance data pipelines tf.data is recommended.\n",
      "159/159 [==============================] - 4s 24ms/step - loss: 0.0200\n",
      "WARNING:tensorflow:multiprocessing can interact badly with TensorFlow, causing nondeterministic deadlocks. For high performance data pipelines tf.data is recommended.\n",
      "WARNING:tensorflow:multiprocessing can interact badly with TensorFlow, causing nondeterministic deadlocks. For high performance data pipelines tf.data is recommended.\n",
      "\n",
      "*** Epoch 10: Spearman's correlation = 0.1826\n",
      "*** Epoch 10: MSE = 0.0198\n"
     ]
    },
    {
     "data": {
      "image/png": "[encoded data removed]",
      "text/plain": [
       "<Figure size 432x288 with 1 Axes>"
      ]
     },
     "metadata": {
      "needs_background": "light"
     },
     "output_type": "display_data"
    },
    {
     "name": "stdout",
     "output_type": "stream",
     "text": [
      "\n",
      "Epoch 11/20\n",
      "156/159 [============================>.] - ETA: 0s - loss: 0.0195WARNING:tensorflow:multiprocessing can interact badly with TensorFlow, causing nondeterministic deadlocks. For high performance data pipelines tf.data is recommended.\n",
      "159/159 [==============================] - 4s 22ms/step - loss: 0.0195\n",
      "WARNING:tensorflow:multiprocessing can interact badly with TensorFlow, causing nondeterministic deadlocks. For high performance data pipelines tf.data is recommended.\n",
      "WARNING:tensorflow:multiprocessing can interact badly with TensorFlow, causing nondeterministic deadlocks. For high performance data pipelines tf.data is recommended.\n",
      "\n",
      "*** Epoch 11: Spearman's correlation = 0.1831\n",
      "*** Epoch 11: MSE = 0.0207\n"
     ]
    },
    {
     "data": {
      "image/png": "[encoded data removed]",
      "text/plain": [
       "<Figure size 432x288 with 1 Axes>"
      ]
     },
     "metadata": {
      "needs_background": "light"
     },
     "output_type": "display_data"
    },
    {
     "name": "stdout",
     "output_type": "stream",
     "text": [
      "\n",
      "Epoch 12/20\n",
      "154/159 [============================>.] - ETA: 0s - loss: 0.0204WARNING:tensorflow:multiprocessing can interact badly with TensorFlow, causing nondeterministic deadlocks. For high performance data pipelines tf.data is recommended.\n",
      "159/159 [==============================] - 3s 20ms/step - loss: 0.0204\n",
      "WARNING:tensorflow:multiprocessing can interact badly with TensorFlow, causing nondeterministic deadlocks. For high performance data pipelines tf.data is recommended.\n",
      "WARNING:tensorflow:multiprocessing can interact badly with TensorFlow, causing nondeterministic deadlocks. For high performance data pipelines tf.data is recommended.\n",
      "\n",
      "*** Epoch 12: Spearman's correlation = 0.1824\n",
      "*** Epoch 12: MSE = 0.0205\n"
     ]
    },
    {
     "data": {
      "image/png": "[encoded data removed]",
      "text/plain": [
       "<Figure size 432x288 with 1 Axes>"
      ]
     },
     "metadata": {
      "needs_background": "light"
     },
     "output_type": "display_data"
    },
    {
     "name": "stdout",
     "output_type": "stream",
     "text": [
      "\n",
      "Epoch 13/20\n",
      "154/159 [============================>.] - ETA: 0s - loss: 0.0201WARNING:tensorflow:multiprocessing can interact badly with TensorFlow, causing nondeterministic deadlocks. For high performance data pipelines tf.data is recommended.\n",
      "159/159 [==============================] - 3s 21ms/step - loss: 0.0201\n",
      "WARNING:tensorflow:multiprocessing can interact badly with TensorFlow, causing nondeterministic deadlocks. For high performance data pipelines tf.data is recommended.\n",
      "WARNING:tensorflow:multiprocessing can interact badly with TensorFlow, causing nondeterministic deadlocks. For high performance data pipelines tf.data is recommended.\n",
      "\n",
      "*** Epoch 13: Spearman's correlation = 0.1825\n",
      "*** Epoch 13: MSE = 0.0198\n"
     ]
    },
    {
     "data": {
      "image/png": "[encoded data removed]",
      "text/plain": [
       "<Figure size 432x288 with 1 Axes>"
      ]
     },
     "metadata": {
      "needs_background": "light"
     },
     "output_type": "display_data"
    },
    {
     "name": "stdout",
     "output_type": "stream",
     "text": [
      "\n",
      "Epoch 14/20\n",
      "153/159 [===========================>..] - ETA: 0s - loss: 0.0202WARNING:tensorflow:multiprocessing can interact badly with TensorFlow, causing nondeterministic deadlocks. For high performance data pipelines tf.data is recommended.\n",
      "159/159 [==============================] - 4s 22ms/step - loss: 0.0202\n",
      "WARNING:tensorflow:multiprocessing can interact badly with TensorFlow, causing nondeterministic deadlocks. For high performance data pipelines tf.data is recommended.\n",
      "WARNING:tensorflow:multiprocessing can interact badly with TensorFlow, causing nondeterministic deadlocks. For high performance data pipelines tf.data is recommended.\n",
      "\n",
      "*** Epoch 14: Spearman's correlation = 0.1842\n",
      "*** Epoch 14: MSE = 0.0200\n"
     ]
    },
    {
     "data": {
      "image/png": "[encoded data removed]",
      "text/plain": [
       "<Figure size 432x288 with 1 Axes>"
      ]
     },
     "metadata": {
      "needs_background": "light"
     },
     "output_type": "display_data"
    },
    {
     "name": "stdout",
     "output_type": "stream",
     "text": [
      "\n",
      "Epoch 15/20\n",
      "153/159 [===========================>..] - ETA: 0s - loss: 0.0210WARNING:tensorflow:multiprocessing can interact badly with TensorFlow, causing nondeterministic deadlocks. For high performance data pipelines tf.data is recommended.\n",
      "159/159 [==============================] - 3s 21ms/step - loss: 0.0210\n",
      "WARNING:tensorflow:multiprocessing can interact badly with TensorFlow, causing nondeterministic deadlocks. For high performance data pipelines tf.data is recommended.\n",
      "WARNING:tensorflow:multiprocessing can interact badly with TensorFlow, causing nondeterministic deadlocks. For high performance data pipelines tf.data is recommended.\n",
      "\n",
      "*** Epoch 15: Spearman's correlation = 0.1859\n",
      "*** Epoch 15: MSE = 0.0226\n"
     ]
    },
    {
     "data": {
      "image/png": "[encoded data removed]",
      "text/plain": [
       "<Figure size 432x288 with 1 Axes>"
      ]
     },
     "metadata": {
      "needs_background": "light"
     },
     "output_type": "display_data"
    },
    {
     "name": "stdout",
     "output_type": "stream",
     "text": [
      "\n",
      "Epoch 16/20\n",
      "152/159 [===========================>..] - ETA: 0s - loss: 0.0203WARNING:tensorflow:multiprocessing can interact badly with TensorFlow, causing nondeterministic deadlocks. For high performance data pipelines tf.data is recommended.\n",
      "159/159 [==============================] - 3s 20ms/step - loss: 0.0203\n",
      "WARNING:tensorflow:multiprocessing can interact badly with TensorFlow, causing nondeterministic deadlocks. For high performance data pipelines tf.data is recommended.\n",
      "WARNING:tensorflow:multiprocessing can interact badly with TensorFlow, causing nondeterministic deadlocks. For high performance data pipelines tf.data is recommended.\n",
      "\n",
      "*** Epoch 16: Spearman's correlation = 0.1845\n",
      "*** Epoch 16: MSE = 0.0263\n"
     ]
    },
    {
     "data": {
      "image/png": "[encoded data removed]",
      "text/plain": [
       "<Figure size 432x288 with 1 Axes>"
      ]
     },
     "metadata": {
      "needs_background": "light"
     },
     "output_type": "display_data"
    },
    {
     "name": "stdout",
     "output_type": "stream",
     "text": [
      "\n",
      "Epoch 17/20\n",
      "154/159 [============================>.] - ETA: 0s - loss: 0.0201WARNING:tensorflow:multiprocessing can interact badly with TensorFlow, causing nondeterministic deadlocks. For high performance data pipelines tf.data is recommended.\n",
      "159/159 [==============================] - 3s 20ms/step - loss: 0.0201\n",
      "WARNING:tensorflow:multiprocessing can interact badly with TensorFlow, causing nondeterministic deadlocks. For high performance data pipelines tf.data is recommended.\n",
      "WARNING:tensorflow:multiprocessing can interact badly with TensorFlow, causing nondeterministic deadlocks. For high performance data pipelines tf.data is recommended.\n",
      "\n",
      "*** Epoch 17: Spearman's correlation = 0.1832\n",
      "*** Epoch 17: MSE = 0.0224\n"
     ]
    },
    {
     "data": {
      "image/png": "[encoded data removed]",
      "text/plain": [
       "<Figure size 432x288 with 1 Axes>"
      ]
     },
     "metadata": {
      "needs_background": "light"
     },
     "output_type": "display_data"
    },
    {
     "name": "stdout",
     "output_type": "stream",
     "text": [
      "\n",
      "Epoch 18/20\n",
      "152/159 [===========================>..] - ETA: 0s - loss: 0.0210WARNING:tensorflow:multiprocessing can interact badly with TensorFlow, causing nondeterministic deadlocks. For high performance data pipelines tf.data is recommended.\n",
      "159/159 [==============================] - 3s 19ms/step - loss: 0.0210\n",
      "WARNING:tensorflow:multiprocessing can interact badly with TensorFlow, causing nondeterministic deadlocks. For high performance data pipelines tf.data is recommended.\n",
      "WARNING:tensorflow:multiprocessing can interact badly with TensorFlow, causing nondeterministic deadlocks. For high performance data pipelines tf.data is recommended.\n",
      "\n",
      "*** Epoch 18: Spearman's correlation = 0.1844\n",
      "*** Epoch 18: MSE = 0.0198\n"
     ]
    },
    {
     "data": {
      "image/png": "[encoded data removed]",
      "text/plain": [
       "<Figure size 432x288 with 1 Axes>"
      ]
     },
     "metadata": {
      "needs_background": "light"
     },
     "output_type": "display_data"
    },
    {
     "name": "stdout",
     "output_type": "stream",
     "text": [
      "\n",
      "Epoch 19/20\n",
      "155/159 [============================>.] - ETA: 0s - loss: 0.0198WARNING:tensorflow:multiprocessing can interact badly with TensorFlow, causing nondeterministic deadlocks. For high performance data pipelines tf.data is recommended.\n",
      "159/159 [==============================] - 3s 21ms/step - loss: 0.0198\n",
      "WARNING:tensorflow:multiprocessing can interact badly with TensorFlow, causing nondeterministic deadlocks. For high performance data pipelines tf.data is recommended.\n",
      "WARNING:tensorflow:multiprocessing can interact badly with TensorFlow, causing nondeterministic deadlocks. For high performance data pipelines tf.data is recommended.\n",
      "\n",
      "*** Epoch 19: Spearman's correlation = 0.1851\n",
      "*** Epoch 19: MSE = 0.0202\n"
     ]
    },
    {
     "data": {
      "image/png": "[encoded data removed]",
      "text/plain": [
       "<Figure size 432x288 with 1 Axes>"
      ]
     },
     "metadata": {
      "needs_background": "light"
     },
     "output_type": "display_data"
    },
    {
     "name": "stdout",
     "output_type": "stream",
     "text": [
      "\n",
      "Epoch 20/20\n",
      "155/159 [============================>.] - ETA: 0s - loss: 0.0202WARNING:tensorflow:multiprocessing can interact badly with TensorFlow, causing nondeterministic deadlocks. For high performance data pipelines tf.data is recommended.\n",
      "159/159 [==============================] - 3s 20ms/step - loss: 0.0202\n",
      "WARNING:tensorflow:multiprocessing can interact badly with TensorFlow, causing nondeterministic deadlocks. For high performance data pipelines tf.data is recommended.\n",
      "WARNING:tensorflow:multiprocessing can interact badly with TensorFlow, causing nondeterministic deadlocks. For high performance data pipelines tf.data is recommended.\n",
      "\n",
      "*** Epoch 20: Spearman's correlation = 0.1842\n",
      "*** Epoch 20: MSE = 0.0416\n"
     ]
    },
    {
     "data": {
      "image/png": "[encoded data removed]",
      "text/plain": [
       "<Figure size 432x288 with 1 Axes>"
      ]
     },
     "metadata": {
      "needs_background": "light"
     },
     "output_type": "display_data"
    },
    {
     "name": "stdout",
     "output_type": "stream",
     "text": [
      "\n"
     ]
    }
   ],
   "source": [
    "# train model\n",
    "train_generator = make_generator(X_train, y_train, True, WORKERS).get()\n",
    "validation_callback = SpearmanCalcCallback(X_test, y_test, BATCH_SIZE, WORKERS)\n",
    "for attempt in range(TRAINING_ITERATIONS):\n",
    "    model = functional_model()\n",
    "    model.compile(\n",
    "        optimizer='adam',\n",
    "        loss='mse'\n",
    "    )\n",
    "    callbacks = [\n",
    "        keras.callbacks.TensorBoard(log_dir=os.path.join(logs_dir, \"{}\".format(time()))),\n",
    "        validation_callback.set_run(attempt, model)\n",
    "    ]\n",
    "    model.fit(train_generator,\n",
    "              epochs=EPOCHS,\n",
    "              steps_per_epoch=train_size//BATCH_SIZE,\n",
    "              callbacks=callbacks)"
   ]
  }
 ],
 "metadata": {
  "kernelspec": {
   "display_name": "Python 3",
   "language": "python",
   "name": "python3"
  },
  "language_info": {
   "codemirror_mode": {
    "name": "ipython",
    "version": 3
   },
   "file_extension": ".py",
   "mimetype": "text/x-python",
   "name": "python",
   "nbconvert_exporter": "python",
   "pygments_lexer": "ipython3",
   "version": "3.8.5"
  }
 },
 "nbformat": 4,
 "nbformat_minor": 4
}
