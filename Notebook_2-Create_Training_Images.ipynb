{
 "cells": [
  {
   "cell_type": "markdown",
   "metadata": {},
   "source": [
    "### Split each AMNet attention map triplet into three separate 224x224 images\n",
    "Note: Training frames amount to approximately 700MB, downloadable from https://s3.console.aws.amazon.com/s3/object/c684i-2021?region=eu-west-1&prefix=train_frames.zip"
   ]
  },
  {
   "cell_type": "code",
   "execution_count": 4,
   "metadata": {},
   "outputs": [
    {
     "name": "stderr",
     "output_type": "stream",
     "text": [
      "100%|██████████| 2000/2000 [10:02<00:00,  3.32it/s]\n"
     ]
    }
   ],
   "source": [
    "import pandas as pd\n",
    "from glob import glob\n",
    "from tqdm import tqdm\n",
    "import os\n",
    "from tensorflow.keras.preprocessing import image as imgproc\n",
    "FRAME_INDEXES = [0, 24, 48, 72, 96, 120, 144]\n",
    "SIZE = (224, 224)\n",
    "# load data\n",
    "base_dir = \"/workspace/C684_Assignment/\"\n",
    "processing_dir = os.path.join(base_dir, \"processing\")\n",
    "dev_videos = pd.read_csv(os.path.join(processing_dir, \"ground_truth_template.csv\"))# \"amnet_devset_preds.csv\"))\n",
    "frames_dir = os.path.join(processing_dir, \"att_maps\")\n",
    "train_dir = os.path.join(base_dir, \"training\")\n",
    "\n",
    "# Training on the 2nd AMNet heatmap, so crop and save\n",
    "train_frame_out_dir = os.path.join(train_dir, \"train_frames-0\")\n",
    "if not os.path.exists(train_frame_out_dir):\n",
    "    os.makedirs(train_frame_out_dir)\n",
    "videos = dev_videos[\"video\"]\n",
    "with tqdm(total=len(videos)) as pbar:\n",
    "    for f in videos:\n",
    "        for i in FRAME_INDEXES:\n",
    "            filename = \"video%s_%d_att.jpg\" % (f, i)\n",
    "            img = imgproc.load_img(os.path.join(frames_dir, filename))\n",
    "            width = (img.size[0] - 120) / 3\n",
    "            heigth = img.size[1] - 90\n",
    "            frame_crop_rect = (60+width, 20, 60+2*width, heigth+20) # crop rect for middle image\n",
    "            img = img.crop(frame_crop_rect)\n",
    "            img = img.resize(SIZE)\n",
    "            img.save(os.path.join(train_frame_out_dir, filename))\n",
    "        pbar.update(1)"
   ]
  }
 ],
 "metadata": {
  "kernelspec": {
   "display_name": "Python 3",
   "language": "python",
   "name": "python3"
  },
  "language_info": {
   "codemirror_mode": {
    "name": "ipython",
    "version": 3
   },
   "file_extension": ".py",
   "mimetype": "text/x-python",
   "name": "python",
   "nbconvert_exporter": "python",
   "pygments_lexer": "ipython3",
   "version": "3.8.5"
  }
 },
 "nbformat": 4,
 "nbformat_minor": 4
}
